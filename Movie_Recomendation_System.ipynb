{
  "nbformat": 4,
  "nbformat_minor": 0,
  "metadata": {
    "colab": {
      "provenance": [],
      "authorship_tag": "ABX9TyOrLPf4B/DCnlB1Q6RrHmA8",
      "include_colab_link": true
    },
    "kernelspec": {
      "name": "python3",
      "display_name": "Python 3"
    },
    "language_info": {
      "name": "python"
    }
  },
  "cells": [
    {
      "cell_type": "markdown",
      "metadata": {
        "id": "view-in-github",
        "colab_type": "text"
      },
      "source": [
        "<a href=\"https://colab.research.google.com/github/SOUMYADIP76/AWS_project1/blob/master/Movie_Recomendation_System.ipynb\" target=\"_parent\"><img src=\"https://colab.research.google.com/assets/colab-badge.svg\" alt=\"Open In Colab\"/></a>"
      ]
    },
    {
      "cell_type": "markdown",
      "source": [
        "**Import Libray**"
      ],
      "metadata": {
        "id": "SBGSuKT7AfPv"
      }
    },
    {
      "cell_type": "code",
      "execution_count": null,
      "metadata": {
        "id": "fzieIe1YAL5x"
      },
      "outputs": [],
      "source": [
        "import pandas as pd"
      ]
    },
    {
      "cell_type": "code",
      "source": [
        "import numpy as np"
      ],
      "metadata": {
        "id": "SvYyiJhkAxfF"
      },
      "execution_count": null,
      "outputs": []
    },
    {
      "cell_type": "markdown",
      "source": [
        "**Import Dataset**"
      ],
      "metadata": {
        "id": "AJMhWzcKA7r5"
      }
    },
    {
      "cell_type": "code",
      "source": [
        "df=pd.read_csv(r'https://raw.githubusercontent.com/YBI-Foundation/Dataset/main/Movies%20Recommendation.csv')"
      ],
      "metadata": {
        "id": "VVcRKkPuAetT"
      },
      "execution_count": null,
      "outputs": []
    },
    {
      "cell_type": "code",
      "source": [
        "df.head()"
      ],
      "metadata": {
        "colab": {
          "base_uri": "https://localhost:8080/",
          "height": 672
        },
        "id": "FwDWKrW2BbuY",
        "outputId": "6ca715f7-4423-4044-b0d5-ab7e6d25ce21"
      },
      "execution_count": null,
      "outputs": [
        {
          "output_type": "execute_result",
          "data": {
            "text/plain": [
              "   Movie_ID      Movie_Title                       Movie_Genre Movie_Language  \\\n",
              "0         1       Four Rooms                      Crime Comedy             en   \n",
              "1         2        Star Wars  Adventure Action Science Fiction             en   \n",
              "2         3     Finding Nemo                  Animation Family             en   \n",
              "3         4     Forrest Gump              Comedy Drama Romance             en   \n",
              "4         5  American Beauty                             Drama             en   \n",
              "\n",
              "   Movie_Budget  Movie_Popularity Movie_Release_Date  Movie_Revenue  \\\n",
              "0       4000000         22.876230         09-12-1995        4300000   \n",
              "1      11000000        126.393695         25-05-1977      775398007   \n",
              "2      94000000         85.688789         30-05-2003      940335536   \n",
              "3      55000000        138.133331         06-07-1994      677945399   \n",
              "4      15000000         80.878605         15-09-1999      356296601   \n",
              "\n",
              "   Movie_Runtime  Movie_Vote  ...  \\\n",
              "0           98.0         6.5  ...   \n",
              "1          121.0         8.1  ...   \n",
              "2          100.0         7.6  ...   \n",
              "3          142.0         8.2  ...   \n",
              "4          122.0         7.9  ...   \n",
              "\n",
              "                                      Movie_Homepage  \\\n",
              "0                                                NaN   \n",
              "1  http://www.starwars.com/films/star-wars-episod...   \n",
              "2              http://movies.disney.com/finding-nemo   \n",
              "3                                                NaN   \n",
              "4                      http://www.dreamworks.com/ab/   \n",
              "\n",
              "                                      Movie_Keywords  \\\n",
              "0          hotel new year's eve witch bet hotel room   \n",
              "1        android galaxy hermit death star lightsaber   \n",
              "2  father son relationship harbor underwater fish...   \n",
              "3  vietnam veteran hippie mentally disabled runni...   \n",
              "4  male nudity female nudity adultery midlife cri...   \n",
              "\n",
              "                                      Movie_Overview  \\\n",
              "0  It's Ted the Bellhop's first night on the job....   \n",
              "1  Princess Leia is captured and held hostage by ...   \n",
              "2  Nemo, an adventurous young clownfish, is unexp...   \n",
              "3  A man with a low IQ has accomplished great thi...   \n",
              "4  Lester Burnham, a depressed suburban father in...   \n",
              "\n",
              "                              Movie_Production_House  \\\n",
              "0  [{\"name\": \"Miramax Films\", \"id\": 14}, {\"name\":...   \n",
              "1  [{\"name\": \"Lucasfilm\", \"id\": 1}, {\"name\": \"Twe...   \n",
              "2     [{\"name\": \"Pixar Animation Studios\", \"id\": 3}]   \n",
              "3          [{\"name\": \"Paramount Pictures\", \"id\": 4}]   \n",
              "4  [{\"name\": \"DreamWorks SKG\", \"id\": 27}, {\"name\"...   \n",
              "\n",
              "                            Movie_Production_Country  \\\n",
              "0  [{\"iso_3166_1\": \"US\", \"name\": \"United States o...   \n",
              "1  [{\"iso_3166_1\": \"US\", \"name\": \"United States o...   \n",
              "2  [{\"iso_3166_1\": \"US\", \"name\": \"United States o...   \n",
              "3  [{\"iso_3166_1\": \"US\", \"name\": \"United States o...   \n",
              "4  [{\"iso_3166_1\": \"US\", \"name\": \"United States o...   \n",
              "\n",
              "                      Movie_Spoken_Language  \\\n",
              "0  [{\"iso_639_1\": \"en\", \"name\": \"English\"}]   \n",
              "1  [{\"iso_639_1\": \"en\", \"name\": \"English\"}]   \n",
              "2  [{\"iso_639_1\": \"en\", \"name\": \"English\"}]   \n",
              "3  [{\"iso_639_1\": \"en\", \"name\": \"English\"}]   \n",
              "4  [{\"iso_639_1\": \"en\", \"name\": \"English\"}]   \n",
              "\n",
              "                                       Movie_Tagline  \\\n",
              "0  Twelve outrageous guests. Four scandalous requ...   \n",
              "1       A long time ago in a galaxy far, far away...   \n",
              "2  There are 3.7 trillion fish in the ocean, they...   \n",
              "3  The world will never be the same, once you've ...   \n",
              "4                                       Look closer.   \n",
              "\n",
              "                                          Movie_Cast  \\\n",
              "0  Tim Roth Antonio Banderas Jennifer Beals Madon...   \n",
              "1  Mark Hamill Harrison Ford Carrie Fisher Peter ...   \n",
              "2  Albert Brooks Ellen DeGeneres Alexander Gould ...   \n",
              "3  Tom Hanks Robin Wright Gary Sinise Mykelti Wil...   \n",
              "4  Kevin Spacey Annette Bening Thora Birch Wes Be...   \n",
              "\n",
              "                                          Movie_Crew   Movie_Director  \n",
              "0  [{'name': 'Allison Anders', 'gender': 1, 'depa...   Allison Anders  \n",
              "1  [{'name': 'George Lucas', 'gender': 2, 'depart...     George Lucas  \n",
              "2  [{'name': 'Andrew Stanton', 'gender': 2, 'depa...   Andrew Stanton  \n",
              "3  [{'name': 'Alan Silvestri', 'gender': 2, 'depa...  Robert Zemeckis  \n",
              "4  [{'name': 'Thomas Newman', 'gender': 2, 'depar...       Sam Mendes  \n",
              "\n",
              "[5 rows x 21 columns]"
            ],
            "text/html": [
              "\n",
              "  <div id=\"df-a5a998fc-781c-45d0-aad2-8c5cd9e1a24c\" class=\"colab-df-container\">\n",
              "    <div>\n",
              "<style scoped>\n",
              "    .dataframe tbody tr th:only-of-type {\n",
              "        vertical-align: middle;\n",
              "    }\n",
              "\n",
              "    .dataframe tbody tr th {\n",
              "        vertical-align: top;\n",
              "    }\n",
              "\n",
              "    .dataframe thead th {\n",
              "        text-align: right;\n",
              "    }\n",
              "</style>\n",
              "<table border=\"1\" class=\"dataframe\">\n",
              "  <thead>\n",
              "    <tr style=\"text-align: right;\">\n",
              "      <th></th>\n",
              "      <th>Movie_ID</th>\n",
              "      <th>Movie_Title</th>\n",
              "      <th>Movie_Genre</th>\n",
              "      <th>Movie_Language</th>\n",
              "      <th>Movie_Budget</th>\n",
              "      <th>Movie_Popularity</th>\n",
              "      <th>Movie_Release_Date</th>\n",
              "      <th>Movie_Revenue</th>\n",
              "      <th>Movie_Runtime</th>\n",
              "      <th>Movie_Vote</th>\n",
              "      <th>...</th>\n",
              "      <th>Movie_Homepage</th>\n",
              "      <th>Movie_Keywords</th>\n",
              "      <th>Movie_Overview</th>\n",
              "      <th>Movie_Production_House</th>\n",
              "      <th>Movie_Production_Country</th>\n",
              "      <th>Movie_Spoken_Language</th>\n",
              "      <th>Movie_Tagline</th>\n",
              "      <th>Movie_Cast</th>\n",
              "      <th>Movie_Crew</th>\n",
              "      <th>Movie_Director</th>\n",
              "    </tr>\n",
              "  </thead>\n",
              "  <tbody>\n",
              "    <tr>\n",
              "      <th>0</th>\n",
              "      <td>1</td>\n",
              "      <td>Four Rooms</td>\n",
              "      <td>Crime Comedy</td>\n",
              "      <td>en</td>\n",
              "      <td>4000000</td>\n",
              "      <td>22.876230</td>\n",
              "      <td>09-12-1995</td>\n",
              "      <td>4300000</td>\n",
              "      <td>98.0</td>\n",
              "      <td>6.5</td>\n",
              "      <td>...</td>\n",
              "      <td>NaN</td>\n",
              "      <td>hotel new year's eve witch bet hotel room</td>\n",
              "      <td>It's Ted the Bellhop's first night on the job....</td>\n",
              "      <td>[{\"name\": \"Miramax Films\", \"id\": 14}, {\"name\":...</td>\n",
              "      <td>[{\"iso_3166_1\": \"US\", \"name\": \"United States o...</td>\n",
              "      <td>[{\"iso_639_1\": \"en\", \"name\": \"English\"}]</td>\n",
              "      <td>Twelve outrageous guests. Four scandalous requ...</td>\n",
              "      <td>Tim Roth Antonio Banderas Jennifer Beals Madon...</td>\n",
              "      <td>[{'name': 'Allison Anders', 'gender': 1, 'depa...</td>\n",
              "      <td>Allison Anders</td>\n",
              "    </tr>\n",
              "    <tr>\n",
              "      <th>1</th>\n",
              "      <td>2</td>\n",
              "      <td>Star Wars</td>\n",
              "      <td>Adventure Action Science Fiction</td>\n",
              "      <td>en</td>\n",
              "      <td>11000000</td>\n",
              "      <td>126.393695</td>\n",
              "      <td>25-05-1977</td>\n",
              "      <td>775398007</td>\n",
              "      <td>121.0</td>\n",
              "      <td>8.1</td>\n",
              "      <td>...</td>\n",
              "      <td>http://www.starwars.com/films/star-wars-episod...</td>\n",
              "      <td>android galaxy hermit death star lightsaber</td>\n",
              "      <td>Princess Leia is captured and held hostage by ...</td>\n",
              "      <td>[{\"name\": \"Lucasfilm\", \"id\": 1}, {\"name\": \"Twe...</td>\n",
              "      <td>[{\"iso_3166_1\": \"US\", \"name\": \"United States o...</td>\n",
              "      <td>[{\"iso_639_1\": \"en\", \"name\": \"English\"}]</td>\n",
              "      <td>A long time ago in a galaxy far, far away...</td>\n",
              "      <td>Mark Hamill Harrison Ford Carrie Fisher Peter ...</td>\n",
              "      <td>[{'name': 'George Lucas', 'gender': 2, 'depart...</td>\n",
              "      <td>George Lucas</td>\n",
              "    </tr>\n",
              "    <tr>\n",
              "      <th>2</th>\n",
              "      <td>3</td>\n",
              "      <td>Finding Nemo</td>\n",
              "      <td>Animation Family</td>\n",
              "      <td>en</td>\n",
              "      <td>94000000</td>\n",
              "      <td>85.688789</td>\n",
              "      <td>30-05-2003</td>\n",
              "      <td>940335536</td>\n",
              "      <td>100.0</td>\n",
              "      <td>7.6</td>\n",
              "      <td>...</td>\n",
              "      <td>http://movies.disney.com/finding-nemo</td>\n",
              "      <td>father son relationship harbor underwater fish...</td>\n",
              "      <td>Nemo, an adventurous young clownfish, is unexp...</td>\n",
              "      <td>[{\"name\": \"Pixar Animation Studios\", \"id\": 3}]</td>\n",
              "      <td>[{\"iso_3166_1\": \"US\", \"name\": \"United States o...</td>\n",
              "      <td>[{\"iso_639_1\": \"en\", \"name\": \"English\"}]</td>\n",
              "      <td>There are 3.7 trillion fish in the ocean, they...</td>\n",
              "      <td>Albert Brooks Ellen DeGeneres Alexander Gould ...</td>\n",
              "      <td>[{'name': 'Andrew Stanton', 'gender': 2, 'depa...</td>\n",
              "      <td>Andrew Stanton</td>\n",
              "    </tr>\n",
              "    <tr>\n",
              "      <th>3</th>\n",
              "      <td>4</td>\n",
              "      <td>Forrest Gump</td>\n",
              "      <td>Comedy Drama Romance</td>\n",
              "      <td>en</td>\n",
              "      <td>55000000</td>\n",
              "      <td>138.133331</td>\n",
              "      <td>06-07-1994</td>\n",
              "      <td>677945399</td>\n",
              "      <td>142.0</td>\n",
              "      <td>8.2</td>\n",
              "      <td>...</td>\n",
              "      <td>NaN</td>\n",
              "      <td>vietnam veteran hippie mentally disabled runni...</td>\n",
              "      <td>A man with a low IQ has accomplished great thi...</td>\n",
              "      <td>[{\"name\": \"Paramount Pictures\", \"id\": 4}]</td>\n",
              "      <td>[{\"iso_3166_1\": \"US\", \"name\": \"United States o...</td>\n",
              "      <td>[{\"iso_639_1\": \"en\", \"name\": \"English\"}]</td>\n",
              "      <td>The world will never be the same, once you've ...</td>\n",
              "      <td>Tom Hanks Robin Wright Gary Sinise Mykelti Wil...</td>\n",
              "      <td>[{'name': 'Alan Silvestri', 'gender': 2, 'depa...</td>\n",
              "      <td>Robert Zemeckis</td>\n",
              "    </tr>\n",
              "    <tr>\n",
              "      <th>4</th>\n",
              "      <td>5</td>\n",
              "      <td>American Beauty</td>\n",
              "      <td>Drama</td>\n",
              "      <td>en</td>\n",
              "      <td>15000000</td>\n",
              "      <td>80.878605</td>\n",
              "      <td>15-09-1999</td>\n",
              "      <td>356296601</td>\n",
              "      <td>122.0</td>\n",
              "      <td>7.9</td>\n",
              "      <td>...</td>\n",
              "      <td>http://www.dreamworks.com/ab/</td>\n",
              "      <td>male nudity female nudity adultery midlife cri...</td>\n",
              "      <td>Lester Burnham, a depressed suburban father in...</td>\n",
              "      <td>[{\"name\": \"DreamWorks SKG\", \"id\": 27}, {\"name\"...</td>\n",
              "      <td>[{\"iso_3166_1\": \"US\", \"name\": \"United States o...</td>\n",
              "      <td>[{\"iso_639_1\": \"en\", \"name\": \"English\"}]</td>\n",
              "      <td>Look closer.</td>\n",
              "      <td>Kevin Spacey Annette Bening Thora Birch Wes Be...</td>\n",
              "      <td>[{'name': 'Thomas Newman', 'gender': 2, 'depar...</td>\n",
              "      <td>Sam Mendes</td>\n",
              "    </tr>\n",
              "  </tbody>\n",
              "</table>\n",
              "<p>5 rows × 21 columns</p>\n",
              "</div>\n",
              "    <div class=\"colab-df-buttons\">\n",
              "\n",
              "  <div class=\"colab-df-container\">\n",
              "    <button class=\"colab-df-convert\" onclick=\"convertToInteractive('df-a5a998fc-781c-45d0-aad2-8c5cd9e1a24c')\"\n",
              "            title=\"Convert this dataframe to an interactive table.\"\n",
              "            style=\"display:none;\">\n",
              "\n",
              "  <svg xmlns=\"http://www.w3.org/2000/svg\" height=\"24px\" viewBox=\"0 -960 960 960\">\n",
              "    <path d=\"M120-120v-720h720v720H120Zm60-500h600v-160H180v160Zm220 220h160v-160H400v160Zm0 220h160v-160H400v160ZM180-400h160v-160H180v160Zm440 0h160v-160H620v160ZM180-180h160v-160H180v160Zm440 0h160v-160H620v160Z\"/>\n",
              "  </svg>\n",
              "    </button>\n",
              "\n",
              "  <style>\n",
              "    .colab-df-container {\n",
              "      display:flex;\n",
              "      gap: 12px;\n",
              "    }\n",
              "\n",
              "    .colab-df-convert {\n",
              "      background-color: #E8F0FE;\n",
              "      border: none;\n",
              "      border-radius: 50%;\n",
              "      cursor: pointer;\n",
              "      display: none;\n",
              "      fill: #1967D2;\n",
              "      height: 32px;\n",
              "      padding: 0 0 0 0;\n",
              "      width: 32px;\n",
              "    }\n",
              "\n",
              "    .colab-df-convert:hover {\n",
              "      background-color: #E2EBFA;\n",
              "      box-shadow: 0px 1px 2px rgba(60, 64, 67, 0.3), 0px 1px 3px 1px rgba(60, 64, 67, 0.15);\n",
              "      fill: #174EA6;\n",
              "    }\n",
              "\n",
              "    .colab-df-buttons div {\n",
              "      margin-bottom: 4px;\n",
              "    }\n",
              "\n",
              "    [theme=dark] .colab-df-convert {\n",
              "      background-color: #3B4455;\n",
              "      fill: #D2E3FC;\n",
              "    }\n",
              "\n",
              "    [theme=dark] .colab-df-convert:hover {\n",
              "      background-color: #434B5C;\n",
              "      box-shadow: 0px 1px 3px 1px rgba(0, 0, 0, 0.15);\n",
              "      filter: drop-shadow(0px 1px 2px rgba(0, 0, 0, 0.3));\n",
              "      fill: #FFFFFF;\n",
              "    }\n",
              "  </style>\n",
              "\n",
              "    <script>\n",
              "      const buttonEl =\n",
              "        document.querySelector('#df-a5a998fc-781c-45d0-aad2-8c5cd9e1a24c button.colab-df-convert');\n",
              "      buttonEl.style.display =\n",
              "        google.colab.kernel.accessAllowed ? 'block' : 'none';\n",
              "\n",
              "      async function convertToInteractive(key) {\n",
              "        const element = document.querySelector('#df-a5a998fc-781c-45d0-aad2-8c5cd9e1a24c');\n",
              "        const dataTable =\n",
              "          await google.colab.kernel.invokeFunction('convertToInteractive',\n",
              "                                                    [key], {});\n",
              "        if (!dataTable) return;\n",
              "\n",
              "        const docLinkHtml = 'Like what you see? Visit the ' +\n",
              "          '<a target=\"_blank\" href=https://colab.research.google.com/notebooks/data_table.ipynb>data table notebook</a>'\n",
              "          + ' to learn more about interactive tables.';\n",
              "        element.innerHTML = '';\n",
              "        dataTable['output_type'] = 'display_data';\n",
              "        await google.colab.output.renderOutput(dataTable, element);\n",
              "        const docLink = document.createElement('div');\n",
              "        docLink.innerHTML = docLinkHtml;\n",
              "        element.appendChild(docLink);\n",
              "      }\n",
              "    </script>\n",
              "  </div>\n",
              "\n",
              "\n",
              "<div id=\"df-53d55dec-01e4-4034-ade6-79e644ffc7db\">\n",
              "  <button class=\"colab-df-quickchart\" onclick=\"quickchart('df-53d55dec-01e4-4034-ade6-79e644ffc7db')\"\n",
              "            title=\"Suggest charts\"\n",
              "            style=\"display:none;\">\n",
              "\n",
              "<svg xmlns=\"http://www.w3.org/2000/svg\" height=\"24px\"viewBox=\"0 0 24 24\"\n",
              "     width=\"24px\">\n",
              "    <g>\n",
              "        <path d=\"M19 3H5c-1.1 0-2 .9-2 2v14c0 1.1.9 2 2 2h14c1.1 0 2-.9 2-2V5c0-1.1-.9-2-2-2zM9 17H7v-7h2v7zm4 0h-2V7h2v10zm4 0h-2v-4h2v4z\"/>\n",
              "    </g>\n",
              "</svg>\n",
              "  </button>\n",
              "\n",
              "<style>\n",
              "  .colab-df-quickchart {\n",
              "      --bg-color: #E8F0FE;\n",
              "      --fill-color: #1967D2;\n",
              "      --hover-bg-color: #E2EBFA;\n",
              "      --hover-fill-color: #174EA6;\n",
              "      --disabled-fill-color: #AAA;\n",
              "      --disabled-bg-color: #DDD;\n",
              "  }\n",
              "\n",
              "  [theme=dark] .colab-df-quickchart {\n",
              "      --bg-color: #3B4455;\n",
              "      --fill-color: #D2E3FC;\n",
              "      --hover-bg-color: #434B5C;\n",
              "      --hover-fill-color: #FFFFFF;\n",
              "      --disabled-bg-color: #3B4455;\n",
              "      --disabled-fill-color: #666;\n",
              "  }\n",
              "\n",
              "  .colab-df-quickchart {\n",
              "    background-color: var(--bg-color);\n",
              "    border: none;\n",
              "    border-radius: 50%;\n",
              "    cursor: pointer;\n",
              "    display: none;\n",
              "    fill: var(--fill-color);\n",
              "    height: 32px;\n",
              "    padding: 0;\n",
              "    width: 32px;\n",
              "  }\n",
              "\n",
              "  .colab-df-quickchart:hover {\n",
              "    background-color: var(--hover-bg-color);\n",
              "    box-shadow: 0 1px 2px rgba(60, 64, 67, 0.3), 0 1px 3px 1px rgba(60, 64, 67, 0.15);\n",
              "    fill: var(--button-hover-fill-color);\n",
              "  }\n",
              "\n",
              "  .colab-df-quickchart-complete:disabled,\n",
              "  .colab-df-quickchart-complete:disabled:hover {\n",
              "    background-color: var(--disabled-bg-color);\n",
              "    fill: var(--disabled-fill-color);\n",
              "    box-shadow: none;\n",
              "  }\n",
              "\n",
              "  .colab-df-spinner {\n",
              "    border: 2px solid var(--fill-color);\n",
              "    border-color: transparent;\n",
              "    border-bottom-color: var(--fill-color);\n",
              "    animation:\n",
              "      spin 1s steps(1) infinite;\n",
              "  }\n",
              "\n",
              "  @keyframes spin {\n",
              "    0% {\n",
              "      border-color: transparent;\n",
              "      border-bottom-color: var(--fill-color);\n",
              "      border-left-color: var(--fill-color);\n",
              "    }\n",
              "    20% {\n",
              "      border-color: transparent;\n",
              "      border-left-color: var(--fill-color);\n",
              "      border-top-color: var(--fill-color);\n",
              "    }\n",
              "    30% {\n",
              "      border-color: transparent;\n",
              "      border-left-color: var(--fill-color);\n",
              "      border-top-color: var(--fill-color);\n",
              "      border-right-color: var(--fill-color);\n",
              "    }\n",
              "    40% {\n",
              "      border-color: transparent;\n",
              "      border-right-color: var(--fill-color);\n",
              "      border-top-color: var(--fill-color);\n",
              "    }\n",
              "    60% {\n",
              "      border-color: transparent;\n",
              "      border-right-color: var(--fill-color);\n",
              "    }\n",
              "    80% {\n",
              "      border-color: transparent;\n",
              "      border-right-color: var(--fill-color);\n",
              "      border-bottom-color: var(--fill-color);\n",
              "    }\n",
              "    90% {\n",
              "      border-color: transparent;\n",
              "      border-bottom-color: var(--fill-color);\n",
              "    }\n",
              "  }\n",
              "</style>\n",
              "\n",
              "  <script>\n",
              "    async function quickchart(key) {\n",
              "      const quickchartButtonEl =\n",
              "        document.querySelector('#' + key + ' button');\n",
              "      quickchartButtonEl.disabled = true;  // To prevent multiple clicks.\n",
              "      quickchartButtonEl.classList.add('colab-df-spinner');\n",
              "      try {\n",
              "        const charts = await google.colab.kernel.invokeFunction(\n",
              "            'suggestCharts', [key], {});\n",
              "      } catch (error) {\n",
              "        console.error('Error during call to suggestCharts:', error);\n",
              "      }\n",
              "      quickchartButtonEl.classList.remove('colab-df-spinner');\n",
              "      quickchartButtonEl.classList.add('colab-df-quickchart-complete');\n",
              "    }\n",
              "    (() => {\n",
              "      let quickchartButtonEl =\n",
              "        document.querySelector('#df-53d55dec-01e4-4034-ade6-79e644ffc7db button');\n",
              "      quickchartButtonEl.style.display =\n",
              "        google.colab.kernel.accessAllowed ? 'block' : 'none';\n",
              "    })();\n",
              "  </script>\n",
              "</div>\n",
              "\n",
              "    </div>\n",
              "  </div>\n"
            ],
            "application/vnd.google.colaboratory.intrinsic+json": {
              "type": "dataframe",
              "variable_name": "df"
            }
          },
          "metadata": {},
          "execution_count": 4
        }
      ]
    },
    {
      "cell_type": "code",
      "source": [
        "df.info()"
      ],
      "metadata": {
        "colab": {
          "base_uri": "https://localhost:8080/"
        },
        "id": "RELrf40YBiAZ",
        "outputId": "68d64543-20e2-4467-ba01-35ecd59a30cb"
      },
      "execution_count": null,
      "outputs": [
        {
          "output_type": "stream",
          "name": "stdout",
          "text": [
            "<class 'pandas.core.frame.DataFrame'>\n",
            "RangeIndex: 4760 entries, 0 to 4759\n",
            "Data columns (total 21 columns):\n",
            " #   Column                    Non-Null Count  Dtype  \n",
            "---  ------                    --------------  -----  \n",
            " 0   Movie_ID                  4760 non-null   int64  \n",
            " 1   Movie_Title               4760 non-null   object \n",
            " 2   Movie_Genre               4760 non-null   object \n",
            " 3   Movie_Language            4760 non-null   object \n",
            " 4   Movie_Budget              4760 non-null   int64  \n",
            " 5   Movie_Popularity          4760 non-null   float64\n",
            " 6   Movie_Release_Date        4760 non-null   object \n",
            " 7   Movie_Revenue             4760 non-null   int64  \n",
            " 8   Movie_Runtime             4758 non-null   float64\n",
            " 9   Movie_Vote                4760 non-null   float64\n",
            " 10  Movie_Vote_Count          4760 non-null   int64  \n",
            " 11  Movie_Homepage            1699 non-null   object \n",
            " 12  Movie_Keywords            4373 non-null   object \n",
            " 13  Movie_Overview            4757 non-null   object \n",
            " 14  Movie_Production_House    4760 non-null   object \n",
            " 15  Movie_Production_Country  4760 non-null   object \n",
            " 16  Movie_Spoken_Language     4760 non-null   object \n",
            " 17  Movie_Tagline             3942 non-null   object \n",
            " 18  Movie_Cast                4733 non-null   object \n",
            " 19  Movie_Crew                4760 non-null   object \n",
            " 20  Movie_Director            4738 non-null   object \n",
            "dtypes: float64(3), int64(4), object(14)\n",
            "memory usage: 781.1+ KB\n"
          ]
        }
      ]
    },
    {
      "cell_type": "code",
      "source": [
        "df.shape"
      ],
      "metadata": {
        "colab": {
          "base_uri": "https://localhost:8080/"
        },
        "id": "aKO2xJsbBwAR",
        "outputId": "a54ea26a-7e5c-4f11-e45f-f9742c58a3c9"
      },
      "execution_count": null,
      "outputs": [
        {
          "output_type": "execute_result",
          "data": {
            "text/plain": [
              "(4760, 21)"
            ]
          },
          "metadata": {},
          "execution_count": 6
        }
      ]
    },
    {
      "cell_type": "code",
      "source": [
        "df.columns"
      ],
      "metadata": {
        "colab": {
          "base_uri": "https://localhost:8080/"
        },
        "id": "aK2XkxaxB2Pu",
        "outputId": "1386eaa1-6a4a-489a-9132-cfa21fe3db74"
      },
      "execution_count": null,
      "outputs": [
        {
          "output_type": "execute_result",
          "data": {
            "text/plain": [
              "Index(['Movie_ID', 'Movie_Title', 'Movie_Genre', 'Movie_Language',\n",
              "       'Movie_Budget', 'Movie_Popularity', 'Movie_Release_Date',\n",
              "       'Movie_Revenue', 'Movie_Runtime', 'Movie_Vote', 'Movie_Vote_Count',\n",
              "       'Movie_Homepage', 'Movie_Keywords', 'Movie_Overview',\n",
              "       'Movie_Production_House', 'Movie_Production_Country',\n",
              "       'Movie_Spoken_Language', 'Movie_Tagline', 'Movie_Cast', 'Movie_Crew',\n",
              "       'Movie_Director'],\n",
              "      dtype='object')"
            ]
          },
          "metadata": {},
          "execution_count": 7
        }
      ]
    },
    {
      "cell_type": "markdown",
      "source": [
        "**Get Feature Selection**"
      ],
      "metadata": {
        "id": "qhV0KmtdB-5i"
      }
    },
    {
      "cell_type": "code",
      "source": [
        "df_fearures=df[['Movie_Genre','Movie_Keywords','Movie_Tagline','Movie_Cast','Movie_Director']].fillna('')"
      ],
      "metadata": {
        "id": "n2-UNln4CFp9"
      },
      "execution_count": null,
      "outputs": []
    },
    {
      "cell_type": "code",
      "source": [
        "df_fearures.shape"
      ],
      "metadata": {
        "colab": {
          "base_uri": "https://localhost:8080/"
        },
        "id": "mlxNJ7sYCij1",
        "outputId": "c44db309-db54-46a4-be61-2ef92d15f3b4"
      },
      "execution_count": null,
      "outputs": [
        {
          "output_type": "execute_result",
          "data": {
            "text/plain": [
              "(4760, 5)"
            ]
          },
          "metadata": {},
          "execution_count": 9
        }
      ]
    },
    {
      "cell_type": "code",
      "source": [
        "df_fearures"
      ],
      "metadata": {
        "colab": {
          "base_uri": "https://localhost:8080/",
          "height": 579
        },
        "id": "UowfanPeCsM_",
        "outputId": "07075599-4599-4f28-a3d0-234d9d119f50"
      },
      "execution_count": null,
      "outputs": [
        {
          "output_type": "execute_result",
          "data": {
            "text/plain": [
              "                           Movie_Genre  \\\n",
              "0                         Crime Comedy   \n",
              "1     Adventure Action Science Fiction   \n",
              "2                     Animation Family   \n",
              "3                 Comedy Drama Romance   \n",
              "4                                Drama   \n",
              "...                                ...   \n",
              "4755                            Horror   \n",
              "4756               Comedy Family Drama   \n",
              "4757                    Thriller Drama   \n",
              "4758                            Family   \n",
              "4759                       Documentary   \n",
              "\n",
              "                                         Movie_Keywords  \\\n",
              "0             hotel new year's eve witch bet hotel room   \n",
              "1           android galaxy hermit death star lightsaber   \n",
              "2     father son relationship harbor underwater fish...   \n",
              "3     vietnam veteran hippie mentally disabled runni...   \n",
              "4     male nudity female nudity adultery midlife cri...   \n",
              "...                                                 ...   \n",
              "4755                                                      \n",
              "4756                                                      \n",
              "4757                     christian film sex trafficking   \n",
              "4758                                                      \n",
              "4759  music actors legendary perfomer classic hollyw...   \n",
              "\n",
              "                                          Movie_Tagline  \\\n",
              "0     Twelve outrageous guests. Four scandalous requ...   \n",
              "1          A long time ago in a galaxy far, far away...   \n",
              "2     There are 3.7 trillion fish in the ocean, they...   \n",
              "3     The world will never be the same, once you've ...   \n",
              "4                                          Look closer.   \n",
              "...                                                 ...   \n",
              "4755                The hot spot where Satan's waitin'.   \n",
              "4756           It’s better to stand out than to fit in.   \n",
              "4757           She never knew it could happen to her...   \n",
              "4758                                                      \n",
              "4759                                                      \n",
              "\n",
              "                                             Movie_Cast     Movie_Director  \n",
              "0     Tim Roth Antonio Banderas Jennifer Beals Madon...     Allison Anders  \n",
              "1     Mark Hamill Harrison Ford Carrie Fisher Peter ...       George Lucas  \n",
              "2     Albert Brooks Ellen DeGeneres Alexander Gould ...     Andrew Stanton  \n",
              "3     Tom Hanks Robin Wright Gary Sinise Mykelti Wil...    Robert Zemeckis  \n",
              "4     Kevin Spacey Annette Bening Thora Birch Wes Be...         Sam Mendes  \n",
              "...                                                 ...                ...  \n",
              "4755  Lisa Hart Carroll Michael Des Barres Paul Drak...         Pece Dingo  \n",
              "4756  Roni Akurati Brighton Sharbino Jason Lee Anjul...       Frank Lotito  \n",
              "4757  Nicole Smolen Kim Baldwin Ariana Stephens Brys...       Jaco Booyens  \n",
              "4758                                                                        \n",
              "4759                                    Tony Oppedisano  Simon Napier-Bell  \n",
              "\n",
              "[4760 rows x 5 columns]"
            ],
            "text/html": [
              "\n",
              "  <div id=\"df-8d9972a7-9c16-41b2-96c8-1e463cfbf47a\" class=\"colab-df-container\">\n",
              "    <div>\n",
              "<style scoped>\n",
              "    .dataframe tbody tr th:only-of-type {\n",
              "        vertical-align: middle;\n",
              "    }\n",
              "\n",
              "    .dataframe tbody tr th {\n",
              "        vertical-align: top;\n",
              "    }\n",
              "\n",
              "    .dataframe thead th {\n",
              "        text-align: right;\n",
              "    }\n",
              "</style>\n",
              "<table border=\"1\" class=\"dataframe\">\n",
              "  <thead>\n",
              "    <tr style=\"text-align: right;\">\n",
              "      <th></th>\n",
              "      <th>Movie_Genre</th>\n",
              "      <th>Movie_Keywords</th>\n",
              "      <th>Movie_Tagline</th>\n",
              "      <th>Movie_Cast</th>\n",
              "      <th>Movie_Director</th>\n",
              "    </tr>\n",
              "  </thead>\n",
              "  <tbody>\n",
              "    <tr>\n",
              "      <th>0</th>\n",
              "      <td>Crime Comedy</td>\n",
              "      <td>hotel new year's eve witch bet hotel room</td>\n",
              "      <td>Twelve outrageous guests. Four scandalous requ...</td>\n",
              "      <td>Tim Roth Antonio Banderas Jennifer Beals Madon...</td>\n",
              "      <td>Allison Anders</td>\n",
              "    </tr>\n",
              "    <tr>\n",
              "      <th>1</th>\n",
              "      <td>Adventure Action Science Fiction</td>\n",
              "      <td>android galaxy hermit death star lightsaber</td>\n",
              "      <td>A long time ago in a galaxy far, far away...</td>\n",
              "      <td>Mark Hamill Harrison Ford Carrie Fisher Peter ...</td>\n",
              "      <td>George Lucas</td>\n",
              "    </tr>\n",
              "    <tr>\n",
              "      <th>2</th>\n",
              "      <td>Animation Family</td>\n",
              "      <td>father son relationship harbor underwater fish...</td>\n",
              "      <td>There are 3.7 trillion fish in the ocean, they...</td>\n",
              "      <td>Albert Brooks Ellen DeGeneres Alexander Gould ...</td>\n",
              "      <td>Andrew Stanton</td>\n",
              "    </tr>\n",
              "    <tr>\n",
              "      <th>3</th>\n",
              "      <td>Comedy Drama Romance</td>\n",
              "      <td>vietnam veteran hippie mentally disabled runni...</td>\n",
              "      <td>The world will never be the same, once you've ...</td>\n",
              "      <td>Tom Hanks Robin Wright Gary Sinise Mykelti Wil...</td>\n",
              "      <td>Robert Zemeckis</td>\n",
              "    </tr>\n",
              "    <tr>\n",
              "      <th>4</th>\n",
              "      <td>Drama</td>\n",
              "      <td>male nudity female nudity adultery midlife cri...</td>\n",
              "      <td>Look closer.</td>\n",
              "      <td>Kevin Spacey Annette Bening Thora Birch Wes Be...</td>\n",
              "      <td>Sam Mendes</td>\n",
              "    </tr>\n",
              "    <tr>\n",
              "      <th>...</th>\n",
              "      <td>...</td>\n",
              "      <td>...</td>\n",
              "      <td>...</td>\n",
              "      <td>...</td>\n",
              "      <td>...</td>\n",
              "    </tr>\n",
              "    <tr>\n",
              "      <th>4755</th>\n",
              "      <td>Horror</td>\n",
              "      <td></td>\n",
              "      <td>The hot spot where Satan's waitin'.</td>\n",
              "      <td>Lisa Hart Carroll Michael Des Barres Paul Drak...</td>\n",
              "      <td>Pece Dingo</td>\n",
              "    </tr>\n",
              "    <tr>\n",
              "      <th>4756</th>\n",
              "      <td>Comedy Family Drama</td>\n",
              "      <td></td>\n",
              "      <td>It’s better to stand out than to fit in.</td>\n",
              "      <td>Roni Akurati Brighton Sharbino Jason Lee Anjul...</td>\n",
              "      <td>Frank Lotito</td>\n",
              "    </tr>\n",
              "    <tr>\n",
              "      <th>4757</th>\n",
              "      <td>Thriller Drama</td>\n",
              "      <td>christian film sex trafficking</td>\n",
              "      <td>She never knew it could happen to her...</td>\n",
              "      <td>Nicole Smolen Kim Baldwin Ariana Stephens Brys...</td>\n",
              "      <td>Jaco Booyens</td>\n",
              "    </tr>\n",
              "    <tr>\n",
              "      <th>4758</th>\n",
              "      <td>Family</td>\n",
              "      <td></td>\n",
              "      <td></td>\n",
              "      <td></td>\n",
              "      <td></td>\n",
              "    </tr>\n",
              "    <tr>\n",
              "      <th>4759</th>\n",
              "      <td>Documentary</td>\n",
              "      <td>music actors legendary perfomer classic hollyw...</td>\n",
              "      <td></td>\n",
              "      <td>Tony Oppedisano</td>\n",
              "      <td>Simon Napier-Bell</td>\n",
              "    </tr>\n",
              "  </tbody>\n",
              "</table>\n",
              "<p>4760 rows × 5 columns</p>\n",
              "</div>\n",
              "    <div class=\"colab-df-buttons\">\n",
              "\n",
              "  <div class=\"colab-df-container\">\n",
              "    <button class=\"colab-df-convert\" onclick=\"convertToInteractive('df-8d9972a7-9c16-41b2-96c8-1e463cfbf47a')\"\n",
              "            title=\"Convert this dataframe to an interactive table.\"\n",
              "            style=\"display:none;\">\n",
              "\n",
              "  <svg xmlns=\"http://www.w3.org/2000/svg\" height=\"24px\" viewBox=\"0 -960 960 960\">\n",
              "    <path d=\"M120-120v-720h720v720H120Zm60-500h600v-160H180v160Zm220 220h160v-160H400v160Zm0 220h160v-160H400v160ZM180-400h160v-160H180v160Zm440 0h160v-160H620v160ZM180-180h160v-160H180v160Zm440 0h160v-160H620v160Z\"/>\n",
              "  </svg>\n",
              "    </button>\n",
              "\n",
              "  <style>\n",
              "    .colab-df-container {\n",
              "      display:flex;\n",
              "      gap: 12px;\n",
              "    }\n",
              "\n",
              "    .colab-df-convert {\n",
              "      background-color: #E8F0FE;\n",
              "      border: none;\n",
              "      border-radius: 50%;\n",
              "      cursor: pointer;\n",
              "      display: none;\n",
              "      fill: #1967D2;\n",
              "      height: 32px;\n",
              "      padding: 0 0 0 0;\n",
              "      width: 32px;\n",
              "    }\n",
              "\n",
              "    .colab-df-convert:hover {\n",
              "      background-color: #E2EBFA;\n",
              "      box-shadow: 0px 1px 2px rgba(60, 64, 67, 0.3), 0px 1px 3px 1px rgba(60, 64, 67, 0.15);\n",
              "      fill: #174EA6;\n",
              "    }\n",
              "\n",
              "    .colab-df-buttons div {\n",
              "      margin-bottom: 4px;\n",
              "    }\n",
              "\n",
              "    [theme=dark] .colab-df-convert {\n",
              "      background-color: #3B4455;\n",
              "      fill: #D2E3FC;\n",
              "    }\n",
              "\n",
              "    [theme=dark] .colab-df-convert:hover {\n",
              "      background-color: #434B5C;\n",
              "      box-shadow: 0px 1px 3px 1px rgba(0, 0, 0, 0.15);\n",
              "      filter: drop-shadow(0px 1px 2px rgba(0, 0, 0, 0.3));\n",
              "      fill: #FFFFFF;\n",
              "    }\n",
              "  </style>\n",
              "\n",
              "    <script>\n",
              "      const buttonEl =\n",
              "        document.querySelector('#df-8d9972a7-9c16-41b2-96c8-1e463cfbf47a button.colab-df-convert');\n",
              "      buttonEl.style.display =\n",
              "        google.colab.kernel.accessAllowed ? 'block' : 'none';\n",
              "\n",
              "      async function convertToInteractive(key) {\n",
              "        const element = document.querySelector('#df-8d9972a7-9c16-41b2-96c8-1e463cfbf47a');\n",
              "        const dataTable =\n",
              "          await google.colab.kernel.invokeFunction('convertToInteractive',\n",
              "                                                    [key], {});\n",
              "        if (!dataTable) return;\n",
              "\n",
              "        const docLinkHtml = 'Like what you see? Visit the ' +\n",
              "          '<a target=\"_blank\" href=https://colab.research.google.com/notebooks/data_table.ipynb>data table notebook</a>'\n",
              "          + ' to learn more about interactive tables.';\n",
              "        element.innerHTML = '';\n",
              "        dataTable['output_type'] = 'display_data';\n",
              "        await google.colab.output.renderOutput(dataTable, element);\n",
              "        const docLink = document.createElement('div');\n",
              "        docLink.innerHTML = docLinkHtml;\n",
              "        element.appendChild(docLink);\n",
              "      }\n",
              "    </script>\n",
              "  </div>\n",
              "\n",
              "\n",
              "<div id=\"df-c489e2f5-baf0-4fe7-a19d-4818e3e0defe\">\n",
              "  <button class=\"colab-df-quickchart\" onclick=\"quickchart('df-c489e2f5-baf0-4fe7-a19d-4818e3e0defe')\"\n",
              "            title=\"Suggest charts\"\n",
              "            style=\"display:none;\">\n",
              "\n",
              "<svg xmlns=\"http://www.w3.org/2000/svg\" height=\"24px\"viewBox=\"0 0 24 24\"\n",
              "     width=\"24px\">\n",
              "    <g>\n",
              "        <path d=\"M19 3H5c-1.1 0-2 .9-2 2v14c0 1.1.9 2 2 2h14c1.1 0 2-.9 2-2V5c0-1.1-.9-2-2-2zM9 17H7v-7h2v7zm4 0h-2V7h2v10zm4 0h-2v-4h2v4z\"/>\n",
              "    </g>\n",
              "</svg>\n",
              "  </button>\n",
              "\n",
              "<style>\n",
              "  .colab-df-quickchart {\n",
              "      --bg-color: #E8F0FE;\n",
              "      --fill-color: #1967D2;\n",
              "      --hover-bg-color: #E2EBFA;\n",
              "      --hover-fill-color: #174EA6;\n",
              "      --disabled-fill-color: #AAA;\n",
              "      --disabled-bg-color: #DDD;\n",
              "  }\n",
              "\n",
              "  [theme=dark] .colab-df-quickchart {\n",
              "      --bg-color: #3B4455;\n",
              "      --fill-color: #D2E3FC;\n",
              "      --hover-bg-color: #434B5C;\n",
              "      --hover-fill-color: #FFFFFF;\n",
              "      --disabled-bg-color: #3B4455;\n",
              "      --disabled-fill-color: #666;\n",
              "  }\n",
              "\n",
              "  .colab-df-quickchart {\n",
              "    background-color: var(--bg-color);\n",
              "    border: none;\n",
              "    border-radius: 50%;\n",
              "    cursor: pointer;\n",
              "    display: none;\n",
              "    fill: var(--fill-color);\n",
              "    height: 32px;\n",
              "    padding: 0;\n",
              "    width: 32px;\n",
              "  }\n",
              "\n",
              "  .colab-df-quickchart:hover {\n",
              "    background-color: var(--hover-bg-color);\n",
              "    box-shadow: 0 1px 2px rgba(60, 64, 67, 0.3), 0 1px 3px 1px rgba(60, 64, 67, 0.15);\n",
              "    fill: var(--button-hover-fill-color);\n",
              "  }\n",
              "\n",
              "  .colab-df-quickchart-complete:disabled,\n",
              "  .colab-df-quickchart-complete:disabled:hover {\n",
              "    background-color: var(--disabled-bg-color);\n",
              "    fill: var(--disabled-fill-color);\n",
              "    box-shadow: none;\n",
              "  }\n",
              "\n",
              "  .colab-df-spinner {\n",
              "    border: 2px solid var(--fill-color);\n",
              "    border-color: transparent;\n",
              "    border-bottom-color: var(--fill-color);\n",
              "    animation:\n",
              "      spin 1s steps(1) infinite;\n",
              "  }\n",
              "\n",
              "  @keyframes spin {\n",
              "    0% {\n",
              "      border-color: transparent;\n",
              "      border-bottom-color: var(--fill-color);\n",
              "      border-left-color: var(--fill-color);\n",
              "    }\n",
              "    20% {\n",
              "      border-color: transparent;\n",
              "      border-left-color: var(--fill-color);\n",
              "      border-top-color: var(--fill-color);\n",
              "    }\n",
              "    30% {\n",
              "      border-color: transparent;\n",
              "      border-left-color: var(--fill-color);\n",
              "      border-top-color: var(--fill-color);\n",
              "      border-right-color: var(--fill-color);\n",
              "    }\n",
              "    40% {\n",
              "      border-color: transparent;\n",
              "      border-right-color: var(--fill-color);\n",
              "      border-top-color: var(--fill-color);\n",
              "    }\n",
              "    60% {\n",
              "      border-color: transparent;\n",
              "      border-right-color: var(--fill-color);\n",
              "    }\n",
              "    80% {\n",
              "      border-color: transparent;\n",
              "      border-right-color: var(--fill-color);\n",
              "      border-bottom-color: var(--fill-color);\n",
              "    }\n",
              "    90% {\n",
              "      border-color: transparent;\n",
              "      border-bottom-color: var(--fill-color);\n",
              "    }\n",
              "  }\n",
              "</style>\n",
              "\n",
              "  <script>\n",
              "    async function quickchart(key) {\n",
              "      const quickchartButtonEl =\n",
              "        document.querySelector('#' + key + ' button');\n",
              "      quickchartButtonEl.disabled = true;  // To prevent multiple clicks.\n",
              "      quickchartButtonEl.classList.add('colab-df-spinner');\n",
              "      try {\n",
              "        const charts = await google.colab.kernel.invokeFunction(\n",
              "            'suggestCharts', [key], {});\n",
              "      } catch (error) {\n",
              "        console.error('Error during call to suggestCharts:', error);\n",
              "      }\n",
              "      quickchartButtonEl.classList.remove('colab-df-spinner');\n",
              "      quickchartButtonEl.classList.add('colab-df-quickchart-complete');\n",
              "    }\n",
              "    (() => {\n",
              "      let quickchartButtonEl =\n",
              "        document.querySelector('#df-c489e2f5-baf0-4fe7-a19d-4818e3e0defe button');\n",
              "      quickchartButtonEl.style.display =\n",
              "        google.colab.kernel.accessAllowed ? 'block' : 'none';\n",
              "    })();\n",
              "  </script>\n",
              "</div>\n",
              "\n",
              "  <div id=\"id_7ef96f0f-38eb-48c2-a5bc-5d56f435a449\">\n",
              "    <style>\n",
              "      .colab-df-generate {\n",
              "        background-color: #E8F0FE;\n",
              "        border: none;\n",
              "        border-radius: 50%;\n",
              "        cursor: pointer;\n",
              "        display: none;\n",
              "        fill: #1967D2;\n",
              "        height: 32px;\n",
              "        padding: 0 0 0 0;\n",
              "        width: 32px;\n",
              "      }\n",
              "\n",
              "      .colab-df-generate:hover {\n",
              "        background-color: #E2EBFA;\n",
              "        box-shadow: 0px 1px 2px rgba(60, 64, 67, 0.3), 0px 1px 3px 1px rgba(60, 64, 67, 0.15);\n",
              "        fill: #174EA6;\n",
              "      }\n",
              "\n",
              "      [theme=dark] .colab-df-generate {\n",
              "        background-color: #3B4455;\n",
              "        fill: #D2E3FC;\n",
              "      }\n",
              "\n",
              "      [theme=dark] .colab-df-generate:hover {\n",
              "        background-color: #434B5C;\n",
              "        box-shadow: 0px 1px 3px 1px rgba(0, 0, 0, 0.15);\n",
              "        filter: drop-shadow(0px 1px 2px rgba(0, 0, 0, 0.3));\n",
              "        fill: #FFFFFF;\n",
              "      }\n",
              "    </style>\n",
              "    <button class=\"colab-df-generate\" onclick=\"generateWithVariable('df_fearures')\"\n",
              "            title=\"Generate code using this dataframe.\"\n",
              "            style=\"display:none;\">\n",
              "\n",
              "  <svg xmlns=\"http://www.w3.org/2000/svg\" height=\"24px\"viewBox=\"0 0 24 24\"\n",
              "       width=\"24px\">\n",
              "    <path d=\"M7,19H8.4L18.45,9,17,7.55,7,17.6ZM5,21V16.75L18.45,3.32a2,2,0,0,1,2.83,0l1.4,1.43a1.91,1.91,0,0,1,.58,1.4,1.91,1.91,0,0,1-.58,1.4L9.25,21ZM18.45,9,17,7.55Zm-12,3A5.31,5.31,0,0,0,4.9,8.1,5.31,5.31,0,0,0,1,6.5,5.31,5.31,0,0,0,4.9,4.9,5.31,5.31,0,0,0,6.5,1,5.31,5.31,0,0,0,8.1,4.9,5.31,5.31,0,0,0,12,6.5,5.46,5.46,0,0,0,6.5,12Z\"/>\n",
              "  </svg>\n",
              "    </button>\n",
              "    <script>\n",
              "      (() => {\n",
              "      const buttonEl =\n",
              "        document.querySelector('#id_7ef96f0f-38eb-48c2-a5bc-5d56f435a449 button.colab-df-generate');\n",
              "      buttonEl.style.display =\n",
              "        google.colab.kernel.accessAllowed ? 'block' : 'none';\n",
              "\n",
              "      buttonEl.onclick = () => {\n",
              "        google.colab.notebook.generateWithVariable('df_fearures');\n",
              "      }\n",
              "      })();\n",
              "    </script>\n",
              "  </div>\n",
              "\n",
              "    </div>\n",
              "  </div>\n"
            ],
            "application/vnd.google.colaboratory.intrinsic+json": {
              "type": "dataframe",
              "variable_name": "df_fearures",
              "summary": "{\n  \"name\": \"df_fearures\",\n  \"rows\": 4760,\n  \"fields\": [\n    {\n      \"column\": \"Movie_Genre\",\n      \"properties\": {\n        \"dtype\": \"category\",\n        \"num_unique_values\": 1164,\n        \"samples\": [\n          \"Family Animation Adventure\",\n          \"Adventure Science Fiction Action\",\n          \"Action Crime Drama Romance Thriller\"\n        ],\n        \"semantic_type\": \"\",\n        \"description\": \"\"\n      }\n    },\n    {\n      \"column\": \"Movie_Keywords\",\n      \"properties\": {\n        \"dtype\": \"string\",\n        \"num_unique_values\": 4203,\n        \"samples\": [\n          \"canada nazis sequel spin off ancient evil\",\n          \"sex professor wedding woman director columbia university\",\n          \"prophecy sea beach gold small town\"\n        ],\n        \"semantic_type\": \"\",\n        \"description\": \"\"\n      }\n    },\n    {\n      \"column\": \"Movie_Tagline\",\n      \"properties\": {\n        \"dtype\": \"string\",\n        \"num_unique_values\": 3928,\n        \"samples\": [\n          \"The messenger must be silenced.\",\n          \"It's not the house that's haunted.\",\n          \"The final hunt begins.\"\n        ],\n        \"semantic_type\": \"\",\n        \"description\": \"\"\n      }\n    },\n    {\n      \"column\": \"Movie_Cast\",\n      \"properties\": {\n        \"dtype\": \"string\",\n        \"num_unique_values\": 4715,\n        \"samples\": [\n          \"Robin Tunney Fairuza Balk Neve Campbell Rachel True Skeet Ulrich\",\n          \"Peter Sellers Christopher Plummer Herbert Lom Catherine Schell Peter Arne\",\n          \"John Wayne Laraine Day Cedric Hardwicke Judith Anderson Anthony Quinn\"\n        ],\n        \"semantic_type\": \"\",\n        \"description\": \"\"\n      }\n    },\n    {\n      \"column\": \"Movie_Director\",\n      \"properties\": {\n        \"dtype\": \"category\",\n        \"num_unique_values\": 2332,\n        \"samples\": [\n          \"Rob McKittrick\",\n          \"Terron R. Parsons\",\n          \"Cyrus Nowrasteh\"\n        ],\n        \"semantic_type\": \"\",\n        \"description\": \"\"\n      }\n    }\n  ]\n}"
            }
          },
          "metadata": {},
          "execution_count": 10
        }
      ]
    },
    {
      "cell_type": "code",
      "source": [
        "x=df_fearures['Movie_Genre']+' '+df_fearures['Movie_Keywords']+''+ df_fearures['Movie_Tagline']+' '+df_fearures['Movie_Cast']+' '+df_fearures['Movie_Director']"
      ],
      "metadata": {
        "id": "gOKirzy4CvwA"
      },
      "execution_count": null,
      "outputs": []
    },
    {
      "cell_type": "code",
      "source": [
        "x"
      ],
      "metadata": {
        "colab": {
          "base_uri": "https://localhost:8080/",
          "height": 458
        },
        "id": "w9v3Y4EaDhtd",
        "outputId": "78eecf8e-bd20-4134-c743-64cd93f4c2e9"
      },
      "execution_count": null,
      "outputs": [
        {
          "output_type": "execute_result",
          "data": {
            "text/plain": [
              "0       Crime Comedy hotel new year's eve witch bet ho...\n",
              "1       Adventure Action Science Fiction android galax...\n",
              "2       Animation Family father son relationship harbo...\n",
              "3       Comedy Drama Romance vietnam veteran hippie me...\n",
              "4       Drama male nudity female nudity adultery midli...\n",
              "                              ...                        \n",
              "4755    Horror The hot spot where Satan's waitin'. Lis...\n",
              "4756    Comedy Family Drama It’s better to stand out t...\n",
              "4757    Thriller Drama christian film sex traffickingS...\n",
              "4758                                            Family   \n",
              "4759    Documentary music actors legendary perfomer cl...\n",
              "Length: 4760, dtype: object"
            ],
            "text/html": [
              "<div>\n",
              "<style scoped>\n",
              "    .dataframe tbody tr th:only-of-type {\n",
              "        vertical-align: middle;\n",
              "    }\n",
              "\n",
              "    .dataframe tbody tr th {\n",
              "        vertical-align: top;\n",
              "    }\n",
              "\n",
              "    .dataframe thead th {\n",
              "        text-align: right;\n",
              "    }\n",
              "</style>\n",
              "<table border=\"1\" class=\"dataframe\">\n",
              "  <thead>\n",
              "    <tr style=\"text-align: right;\">\n",
              "      <th></th>\n",
              "      <th>0</th>\n",
              "    </tr>\n",
              "  </thead>\n",
              "  <tbody>\n",
              "    <tr>\n",
              "      <th>0</th>\n",
              "      <td>Crime Comedy hotel new year's eve witch bet ho...</td>\n",
              "    </tr>\n",
              "    <tr>\n",
              "      <th>1</th>\n",
              "      <td>Adventure Action Science Fiction android galax...</td>\n",
              "    </tr>\n",
              "    <tr>\n",
              "      <th>2</th>\n",
              "      <td>Animation Family father son relationship harbo...</td>\n",
              "    </tr>\n",
              "    <tr>\n",
              "      <th>3</th>\n",
              "      <td>Comedy Drama Romance vietnam veteran hippie me...</td>\n",
              "    </tr>\n",
              "    <tr>\n",
              "      <th>4</th>\n",
              "      <td>Drama male nudity female nudity adultery midli...</td>\n",
              "    </tr>\n",
              "    <tr>\n",
              "      <th>...</th>\n",
              "      <td>...</td>\n",
              "    </tr>\n",
              "    <tr>\n",
              "      <th>4755</th>\n",
              "      <td>Horror The hot spot where Satan's waitin'. Lis...</td>\n",
              "    </tr>\n",
              "    <tr>\n",
              "      <th>4756</th>\n",
              "      <td>Comedy Family Drama It’s better to stand out t...</td>\n",
              "    </tr>\n",
              "    <tr>\n",
              "      <th>4757</th>\n",
              "      <td>Thriller Drama christian film sex traffickingS...</td>\n",
              "    </tr>\n",
              "    <tr>\n",
              "      <th>4758</th>\n",
              "      <td>Family</td>\n",
              "    </tr>\n",
              "    <tr>\n",
              "      <th>4759</th>\n",
              "      <td>Documentary music actors legendary perfomer cl...</td>\n",
              "    </tr>\n",
              "  </tbody>\n",
              "</table>\n",
              "<p>4760 rows × 1 columns</p>\n",
              "</div><br><label><b>dtype:</b> object</label>"
            ]
          },
          "metadata": {},
          "execution_count": 13
        }
      ]
    },
    {
      "cell_type": "markdown",
      "source": [],
      "metadata": {
        "id": "uLVBm-W7Dz5X"
      }
    },
    {
      "cell_type": "code",
      "source": [
        "x.shape"
      ],
      "metadata": {
        "colab": {
          "base_uri": "https://localhost:8080/"
        },
        "id": "a_9aRNgrDwJB",
        "outputId": "b051bbb0-a0f0-488c-c2b5-433e8f5df21e"
      },
      "execution_count": null,
      "outputs": [
        {
          "output_type": "execute_result",
          "data": {
            "text/plain": [
              "(4760,)"
            ]
          },
          "metadata": {},
          "execution_count": 14
        }
      ]
    },
    {
      "cell_type": "markdown",
      "source": [
        "**Get Feature Text Conversion to Tokens**"
      ],
      "metadata": {
        "id": "jV8sPMrOD1Ki"
      }
    },
    {
      "cell_type": "code",
      "source": [
        "from sklearn.feature_extraction.text import TfidfVectorizer"
      ],
      "metadata": {
        "id": "Er_GyQIwD9sQ"
      },
      "execution_count": null,
      "outputs": []
    },
    {
      "cell_type": "code",
      "source": [
        "tfidf=TfidfVectorizer()"
      ],
      "metadata": {
        "id": "3Eql1A-4EIhZ"
      },
      "execution_count": null,
      "outputs": []
    },
    {
      "cell_type": "code",
      "source": [
        "x=tfidf.fit_transform(x)"
      ],
      "metadata": {
        "id": "5fddtCHdER9A"
      },
      "execution_count": null,
      "outputs": []
    },
    {
      "cell_type": "code",
      "source": [
        "x.shape"
      ],
      "metadata": {
        "colab": {
          "base_uri": "https://localhost:8080/"
        },
        "id": "_wMhh-7iEZCC",
        "outputId": "edadd630-43e2-4ebc-d9b0-639fd7e2e5d1"
      },
      "execution_count": null,
      "outputs": [
        {
          "output_type": "execute_result",
          "data": {
            "text/plain": [
              "(4760, 20218)"
            ]
          },
          "metadata": {},
          "execution_count": 18
        }
      ]
    },
    {
      "cell_type": "code",
      "source": [
        "print(x)"
      ],
      "metadata": {
        "colab": {
          "base_uri": "https://localhost:8080/"
        },
        "id": "FQIEjqCJEbhJ",
        "outputId": "5cf94255-35f5-426b-e407-b1bf3b7381d4"
      },
      "execution_count": null,
      "outputs": [
        {
          "output_type": "stream",
          "name": "stdout",
          "text": [
            "  (0, 763)\t0.16340762307075046\n",
            "  (0, 630)\t0.14332003031115248\n",
            "  (0, 18109)\t0.14661478527825478\n",
            "  (0, 11338)\t0.14232102488966414\n",
            "  (0, 11088)\t0.1660546697653012\n",
            "  (0, 1663)\t0.16905564379773044\n",
            "  (0, 9292)\t0.0980372580456576\n",
            "  (0, 1465)\t0.13871749676261502\n",
            "  (0, 904)\t0.1342076393102571\n",
            "  (0, 15351)\t0.14332003031115248\n",
            "  (0, 18040)\t0.10500765554976373\n",
            "  (0, 10617)\t0.09018541731391053\n",
            "  (0, 13072)\t0.06255843662162214\n",
            "  (0, 19671)\t0.17661749442242186\n",
            "  (0, 6720)\t0.08747443338853696\n",
            "  (0, 19618)\t0.11191061437918134\n",
            "  (0, 9376)\t0.13711153361732142\n",
            "  (0, 17884)\t0.10768564249789254\n",
            "  (0, 13157)\t0.07330177567474916\n",
            "  (0, 4535)\t0.1200349815964693\n",
            "  (0, 6586)\t0.11795899085336412\n",
            "  (0, 8369)\t0.20313966901381048\n",
            "  (0, 8853)\t0.1535473978772905\n",
            "  (0, 1785)\t0.1972101403797813\n",
            "  (0, 10792)\t0.15192736811428642\n",
            "  :\t:\n",
            "  (4757, 6488)\t0.13397786586609728\n",
            "  (4757, 3439)\t0.16450642484175765\n",
            "  (4757, 9988)\t0.23455921710764732\n",
            "  (4757, 8222)\t0.1732877614405451\n",
            "  (4757, 9893)\t0.1743107802495977\n",
            "  (4757, 17980)\t0.07632669780407937\n",
            "  (4757, 18078)\t0.09796548335905965\n",
            "  (4757, 9104)\t0.1239974781036208\n",
            "  (4757, 12744)\t0.1496063114617287\n",
            "  (4757, 5299)\t0.05662070651458946\n",
            "  (4758, 6201)\t1.0\n",
            "  (4759, 13182)\t0.337732966627042\n",
            "  (4759, 13685)\t0.337732966627042\n",
            "  (4759, 237)\t0.3221275071923938\n",
            "  (4759, 10455)\t0.30246695344695906\n",
            "  (4759, 16456)\t0.3221275071923938\n",
            "  (4759, 8441)\t0.2757892443367009\n",
            "  (4759, 3556)\t0.2843775484065255\n",
            "  (4759, 12599)\t0.31105525751678376\n",
            "  (4759, 5146)\t0.18212482355702497\n",
            "  (4759, 16445)\t0.1998112113167126\n",
            "  (4759, 6811)\t0.1948057527047599\n",
            "  (4759, 18127)\t0.19527800155767439\n",
            "  (4759, 1780)\t0.21160288004376507\n",
            "  (4759, 12478)\t0.1587959908033541\n"
          ]
        }
      ]
    },
    {
      "cell_type": "markdown",
      "source": [
        "**Get Similarity Score Using Cosine Similarity**"
      ],
      "metadata": {
        "id": "4b42on4AEmX5"
      }
    },
    {
      "cell_type": "code",
      "source": [
        "from sklearn.metrics.pairwise import cosine_similarity"
      ],
      "metadata": {
        "id": "79OwlDveEeNl"
      },
      "execution_count": null,
      "outputs": []
    },
    {
      "cell_type": "code",
      "source": [
        "similarity_Score=cosine_similarity(x)"
      ],
      "metadata": {
        "id": "xa1_yBObE5AI"
      },
      "execution_count": null,
      "outputs": []
    },
    {
      "cell_type": "code",
      "source": [
        "similarity_Score"
      ],
      "metadata": {
        "colab": {
          "base_uri": "https://localhost:8080/"
        },
        "id": "Oh30eOTgE_e3",
        "outputId": "a1b18828-d258-439d-f0b4-4c17c2f5cd62"
      },
      "execution_count": null,
      "outputs": [
        {
          "output_type": "execute_result",
          "data": {
            "text/plain": [
              "array([[1.        , 0.01449296, 0.03907622, ..., 0.        , 0.        ,\n",
              "        0.        ],\n",
              "       [0.01449296, 1.        , 0.00866997, ..., 0.        , 0.        ,\n",
              "        0.        ],\n",
              "       [0.03907622, 0.00866997, 1.        , ..., 0.        , 0.08131351,\n",
              "        0.        ],\n",
              "       ...,\n",
              "       [0.        , 0.        , 0.        , ..., 1.        , 0.        ,\n",
              "        0.        ],\n",
              "       [0.        , 0.        , 0.08131351, ..., 0.        , 1.        ,\n",
              "        0.        ],\n",
              "       [0.        , 0.        , 0.        , ..., 0.        , 0.        ,\n",
              "        1.        ]])"
            ]
          },
          "metadata": {},
          "execution_count": 22
        }
      ]
    },
    {
      "cell_type": "code",
      "source": [
        "similarity_Score.shape"
      ],
      "metadata": {
        "colab": {
          "base_uri": "https://localhost:8080/"
        },
        "id": "nqFdc4pGFFwy",
        "outputId": "83857112-feb0-4975-93e9-806d464d3273"
      },
      "execution_count": null,
      "outputs": [
        {
          "output_type": "execute_result",
          "data": {
            "text/plain": [
              "(4760, 4760)"
            ]
          },
          "metadata": {},
          "execution_count": 23
        }
      ]
    },
    {
      "cell_type": "markdown",
      "source": [
        "**Get Movie Name as Input From User And Validate For Closest Spelling**"
      ],
      "metadata": {
        "id": "kiUSiPCCFKOZ"
      }
    },
    {
      "cell_type": "code",
      "source": [
        "Favorite_Movie_Name=input('Enter your favorite movie name:')"
      ],
      "metadata": {
        "colab": {
          "base_uri": "https://localhost:8080/"
        },
        "id": "hV0tbqfeFUFV",
        "outputId": "f3f23324-8160-40a3-f359-09293019b34d"
      },
      "execution_count": null,
      "outputs": [
        {
          "name": "stdout",
          "output_type": "stream",
          "text": [
            "Enter your favorite movie name:avataar\n"
          ]
        }
      ]
    },
    {
      "cell_type": "code",
      "source": [
        "All_Movies_Title_List=df['Movie_Title'].tolist()"
      ],
      "metadata": {
        "id": "t328LFFkFklZ"
      },
      "execution_count": null,
      "outputs": []
    },
    {
      "cell_type": "code",
      "source": [
        "import difflib"
      ],
      "metadata": {
        "id": "-M16hBqKFu-x"
      },
      "execution_count": null,
      "outputs": []
    },
    {
      "cell_type": "code",
      "source": [
        "Movie_Recomendation=difflib.get_close_matches(Favorite_Movie_Name,All_Movies_Title_List)\n",
        "print(Movie_Recomendation)"
      ],
      "metadata": {
        "colab": {
          "base_uri": "https://localhost:8080/"
        },
        "id": "WN9-TTaFFz5Q",
        "outputId": "84668a75-2dde-4ca5-ed9b-c4c408b6f6b2"
      },
      "execution_count": null,
      "outputs": [
        {
          "output_type": "stream",
          "name": "stdout",
          "text": [
            "['Avatar']\n"
          ]
        }
      ]
    },
    {
      "cell_type": "code",
      "source": [
        "Close_Match=Movie_Recomendation[0]\n",
        "print(Close_Match)"
      ],
      "metadata": {
        "colab": {
          "base_uri": "https://localhost:8080/"
        },
        "id": "iUGVaL9qIHEg",
        "outputId": "52f09708-e712-42ac-c6ea-7e714209ba36"
      },
      "execution_count": null,
      "outputs": [
        {
          "output_type": "stream",
          "name": "stdout",
          "text": [
            "Avatar\n"
          ]
        }
      ]
    },
    {
      "cell_type": "code",
      "source": [
        "Index_of_Close_Match_Movie=df[df.Movie_Title == Close_Match]['Movie_ID'].values[0]\n",
        "print(Index_of_Close_Match_Movie)"
      ],
      "metadata": {
        "colab": {
          "base_uri": "https://localhost:8080/"
        },
        "id": "6wSD0gyuHqmM",
        "outputId": "669cfd8f-1e89-4b78-efb3-d71922665973"
      },
      "execution_count": null,
      "outputs": [
        {
          "output_type": "stream",
          "name": "stdout",
          "text": [
            "2692\n"
          ]
        }
      ]
    },
    {
      "cell_type": "markdown",
      "source": [
        "**Getting List of Similar Movies**"
      ],
      "metadata": {
        "id": "yzy_OiXPIh4S"
      }
    },
    {
      "cell_type": "code",
      "source": [
        "Recomendation_Score=list(enumerate(similarity_Score[Index_of_Close_Match_Movie]))\n",
        "print(Recomendation_Score)"
      ],
      "metadata": {
        "colab": {
          "base_uri": "https://localhost:8080/"
        },
        "id": "DygT4GlfImS6",
        "outputId": "f3f3e9cf-6b79-4495-c099-a2b7fb322901"
      },
      "execution_count": null,
      "outputs": [
        {
          "output_type": "stream",
          "name": "stdout",
          "text": [
            "[(0, 0.009747563015994536), (1, 0.0), (2, 0.0), (3, 0.00777004749597218), (4, 0.0026281929111748145), (5, 0.009442446224871679), (6, 0.004961196835107342), (7, 0.012869931192222735), (8, 0.002717611399712059), (9, 0.006035913473090681), (10, 0.007460658373278713), (11, 0.0026028571894319064), (12, 0.0027031465617347148), (13, 0.01313330751573187), (14, 0.0), (15, 0.022215425828712766), (16, 0.005957098367106825), (17, 0.0), (18, 0.013435563290665663), (19, 0.00863537684541104), (20, 0.0026215571822320576), (21, 0.015273060114728917), (22, 0.006328653434334182), (23, 0.0026496332133750184), (24, 0.0016817869546834245), (25, 0.02554325306124496), (26, 0.0024266859935965796), (27, 0.004665848979744238), (28, 0.0), (29, 0.008615167113483518), (30, 0.004583893705644379), (31, 0.006688308803235893), (32, 0.007905204159894704), (33, 0.018427212913524484), (34, 0.007419091913686284), (35, 0.006078497604752027), (36, 0.0), (37, 0.0), (38, 0.00788365538919293), (39, 0.0045726432199660935), (40, 0.015159047404771173), (41, 0.0027490450214866856), (42, 0.007114887785693697), (43, 0.014332271278485078), (44, 0.0400696500280743), (45, 0.09183761180061051), (46, 0.01858391218821252), (47, 0.010512848947004858), (48, 0.015544576147448957), (49, 0.0), (50, 0.0070170268256643815), (51, 0.01511037982167765), (52, 0.013551999293053892), (53, 0.0), (54, 0.0), (55, 0.0), (56, 0.006586749103946706), (57, 0.010718020405566723), (58, 0.0), (59, 0.0), (60, 0.007706249756787922), (61, 0.0176190462223102), (62, 0.10335615336912571), (63, 0.007101218047931318), (64, 0.0), (65, 0.030946371485386794), (66, 0.0025314204974158116), (67, 0.044025376134852176), (68, 0.022776750485004674), (69, 0.0050079485358487975), (70, 0.012403407369855464), (71, 0.0025826917072179567), (72, 0.011422213476046977), (73, 0.0), (74, 0.002621366219866764), (75, 0.013017387889434085), (76, 0.0039022475150865274), (77, 0.0034192895800615702), (78, 0.0091731512204015), (79, 0.008930537933983206), (80, 0.004058358708264752), (81, 0.006997827472308015), (82, 0.01168581487473245), (83, 0.018073246025726405), (84, 0.06065033589721022), (85, 0.015425021201487352), (86, 0.011522428210183178), (87, 0.014554282618062866), (88, 0.02261081245947521), (89, 0.03918103477772915), (90, 0.00458722081370742), (91, 0.0), (92, 0.0022523856331742166), (93, 0.004408528016468298), (94, 0.004154896754171827), (95, 0.004663938475698852), (96, 0.008801701046131752), (97, 0.0021709630497021306), (98, 0.0024748556983382962), (99, 0.010182278018036152), (100, 0.0), (101, 0.0), (102, 0.004950519434391194), (103, 0.0022151034281634057), (104, 0.008874301264785731), (105, 0.009197408243370895), (106, 0.017654944294542653), (107, 0.00813801237136148), (108, 0.03817846528260588), (109, 0.030976029627518192), (110, 0.08167017004898486), (111, 0.00877367322348081), (112, 0.02811079903025967), (113, 0.007310676037998589), (114, 0.0025281065713000633), (115, 0.0025351053253486262), (116, 0.024073548863461646), (117, 0.0), (118, 0.004828347047988685), (119, 0.008722734089127947), (120, 0.009797236424910871), (121, 0.002349090128720369), (122, 0.0064077904375627525), (123, 0.017861610162580758), (124, 0.02468337424354975), (125, 0.012833332069361759), (126, 0.03848042756976126), (127, 0.0024465412120960135), (128, 0.005087110869619526), (129, 0.00174656353103816), (130, 0.011571791216442657), (131, 0.0065387750353923), (132, 0.0023866233475284267), (133, 0.0), (134, 0.0), (135, 0.004505300908145128), (136, 0.0023343494916110955), (137, 0.05276359261071149), (138, 0.031493806141017745), (139, 0.007839372182532849), (140, 0.002349935503769015), (141, 0.0), (142, 0.013225418973313141), (143, 0.007491434504824928), (144, 0.017363623671634878), (145, 0.018527725858797358), (146, 0.0), (147, 0.018015170007744045), (148, 0.010377169147795932), (149, 0.011647490575332082), (150, 0.0), (151, 0.0), (152, 0.004447758996716062), (153, 0.0), (154, 0.002336767950391133), (155, 0.02309179676849621), (156, 0.0072370289674574765), (157, 0.002396651598160095), (158, 0.0023026019478400166), (159, 0.007040814339193194), (160, 0.018264778228976274), (161, 0.04359597986149841), (162, 0.007606717947001416), (163, 0.0), (164, 0.008546689004556624), (165, 0.002188748971078676), (166, 0.032405484000996965), (167, 0.02579778666795192), (168, 0.005108857408132098), (169, 0.002469531791608672), (170, 0.010418360873353166), (171, 0.0), (172, 0.04052362294375804), (173, 0.016957926133785817), (174, 0.030316433349431814), (175, 0.022964178395366405), (176, 0.02690117178258377), (177, 0.005482962496611479), (178, 0.0025883545463063783), (179, 0.030347079900047598), (180, 0.0075492635293638735), (181, 0.013979899255228433), (182, 0.009119779342793994), (183, 0.008073180743357545), (184, 0.002227007405065501), (185, 0.039834643397847584), (186, 0.0), (187, 0.003989305377947339), (188, 0.0), (189, 0.004791103282701064), (190, 0.011989037451042427), (191, 0.004074479969683458), (192, 0.0026565995245679186), (193, 0.028123647053312783), (194, 0.0020938054982691918), (195, 0.0021147268928462856), (196, 0.0020861810523120114), (197, 0.008539156541610745), (198, 0.0025010869763679284), (199, 0.018474089107766635), (200, 0.006258559372369748), (201, 0.012124448764258503), (202, 0.001629797001001201), (203, 0.01696462124192698), (204, 0.019114563624339685), (205, 0.0), (206, 0.010453535609053979), (207, 0.012939571678500841), (208, 0.01462685563221389), (209, 0.016009235392895678), (210, 0.038480637662358125), (211, 0.0025812650027265344), (212, 0.002338149467418726), (213, 0.048579329480067865), (214, 0.0), (215, 0.0024417627764792968), (216, 0.009806666812925057), (217, 0.0068901166418405616), (218, 0.016796639798524415), (219, 0.0), (220, 0.00478334862713481), (221, 0.002411109626221839), (222, 0.017582054860863998), (223, 0.0), (224, 0.007379583252075645), (225, 0.0), (226, 0.002509335512200201), (227, 0.051696325459288886), (228, 0.0018733068349075781), (229, 0.0023964281084705814), (230, 0.006349543277558951), (231, 0.013410288552552049), (232, 0.006942114184228605), (233, 0.004573065742887001), (234, 0.003938663944366265), (235, 0.0028294253390707164), (236, 0.013046470336517915), (237, 0.0), (238, 0.007239760691324223), (239, 0.00480643054100095), (240, 0.025871908533485456), (241, 0.02781008113354847), (242, 0.007740789861688566), (243, 0.009520106498158987), (244, 0.01177722853407659), (245, 0.0), (246, 0.0026210786134172512), (247, 0.0024799940938825117), (248, 0.006057872405471781), (249, 0.0021952795266595502), (250, 0.029500564084946224), (251, 0.013820922019061922), (252, 0.013712478385276637), (253, 0.0027718839619857577), (254, 0.06261444271084489), (255, 0.007468268322553286), (256, 0.00713872140584163), (257, 0.021889022023996153), (258, 0.0), (259, 0.0), (260, 0.004363531136757738), (261, 0.022136083570818525), (262, 0.0026267803342675546), (263, 0.006231157246315862), (264, 0.0), (265, 0.0), (266, 0.010372097402429706), (267, 0.0021942032529995376), (268, 0.0022526918389713306), (269, 0.024365906627998212), (270, 0.009834355045021422), (271, 0.010477858278576578), (272, 0.0), (273, 0.010740678795360026), (274, 0.011025318728106383), (275, 0.0), (276, 0.013423921751583957), (277, 0.005675751727532856), (278, 0.002266970637292167), (279, 0.002351151978896167), (280, 0.01595392461627416), (281, 0.010728497309604314), (282, 0.05852352365015019), (283, 0.00645908289129005), (284, 0.026609663754663546), (285, 0.008538295853217685), (286, 0.002225853084820281), (287, 0.015150077884548094), (288, 0.00932997393785469), (289, 0.003628299827478907), (290, 0.003956251314513775), (291, 0.010419729187490692), (292, 0.05298116111528124), (293, 0.0017935565412050328), (294, 0.0035905432129006987), (295, 0.0039062341350675415), (296, 0.015212119310254516), (297, 0.0), (298, 0.0), (299, 0.0), (300, 0.006218856762546737), (301, 0.006907371375632912), (302, 0.0), (303, 0.004943225563127325), (304, 0.010694685884924705), (305, 0.004470594659583041), (306, 0.004165120244590602), (307, 0.00839213649434531), (308, 0.0027945537267227583), (309, 0.007064794238291048), (310, 0.004400541924275636), (311, 0.0065843207857987675), (312, 0.0), (313, 0.011374184238060338), (314, 0.003859391719384455), (315, 0.004527496411453233), (316, 0.00424476639857367), (317, 0.013574614994379673), (318, 0.0026644593890378793), (319, 0.0), (320, 0.004735797300479551), (321, 0.010945029707233326), (322, 0.010845177779411217), (323, 0.0042151458293526785), (324, 0.002259674214861142), (325, 0.0024037398788638257), (326, 0.0030770856584825274), (327, 0.010096102923503046), (328, 0.04447133793122567), (329, 0.019329502587888948), (330, 0.01968648164225891), (331, 0.0), (332, 0.013461835772748412), (333, 0.01015240850847576), (334, 0.03239965476494669), (335, 0.0), (336, 0.004650175305370941), (337, 0.0), (338, 0.0), (339, 0.0), (340, 0.007059685605503887), (341, 0.012055268130929503), (342, 0.017255121601844788), (343, 0.015420879522655938), (344, 0.0), (345, 0.024210185335202198), (346, 0.008879171645267952), (347, 0.004591491170939875), (348, 0.0024868402477722044), (349, 0.0024326294250675454), (350, 0.007810527080450975), (351, 0.0019805164805882063), (352, 0.0), (353, 0.008971780087228966), (354, 0.010205835260352564), (355, 0.002350769921382933), (356, 0.012936847966549314), (357, 0.0021578087574145484), (358, 0.01493296917870606), (359, 0.0023326394672043434), (360, 0.0441767350846507), (361, 0.0), (362, 0.0), (363, 0.007014604246977167), (364, 0.01829337597116243), (365, 0.0), (366, 0.0), (367, 0.006612598499229402), (368, 0.00815763973839915), (369, 0.005390525777270134), (370, 0.013976716442184737), (371, 0.027397992874050415), (372, 0.0023135273038450196), (373, 0.0023984870927093367), (374, 0.015243872337056156), (375, 0.004536347791698847), (376, 0.0), (377, 0.002568797364208561), (378, 0.0025395358768847747), (379, 0.0), (380, 0.005205498704972345), (381, 0.025703915761901185), (382, 0.0), (383, 0.019729125073901163), (384, 0.048498557746866906), (385, 0.007800717119651854), (386, 0.006911959359343682), (387, 0.03175019220338563), (388, 0.0023910826199172426), (389, 0.004514159534734886), (390, 0.0), (391, 0.0), (392, 0.0), (393, 0.0), (394, 0.0), (395, 0.002638929066379), (396, 0.009000757092567972), (397, 0.004192686472799914), (398, 0.02174475661999357), (399, 0.0023328551537433496), (400, 0.00248178229829502), (401, 0.0), (402, 0.01094394600257071), (403, 0.007751619859459219), (404, 0.0), (405, 0.0), (406, 0.013887657834615909), (407, 0.01240874107241654), (408, 0.041815001586414706), (409, 0.01733593133405034), (410, 0.002287478015799673), (411, 0.0), (412, 0.04476278545006378), (413, 0.006808845527213228), (414, 0.004898008091570975), (415, 0.0), (416, 0.0022731774847735797), (417, 0.010669396883459036), (418, 0.012273761628571953), (419, 0.002821285716808579), (420, 0.004827766334253723), (421, 0.028330540456524073), (422, 0.0066453726380597145), (423, 0.0), (424, 0.05853257016890517), (425, 0.005208707137744501), (426, 0.004194981764065119), (427, 0.0), (428, 0.0275506766064698), (429, 0.014507486311209548), (430, 0.027926142812958465), (431, 0.002952189740717965), (432, 0.002087030073842699), (433, 0.01626406731340611), (434, 0.008982576119679828), (435, 0.009286109726510125), (436, 0.00832829804678167), (437, 0.014717535821800921), (438, 0.04378190191417583), (439, 0.0), (440, 0.0), (441, 0.0074887189935323294), (442, 0.02109418317012129), (443, 0.00800733757111518), (444, 0.002757873223059412), (445, 0.007743422737683659), (446, 0.008772086507994253), (447, 0.014585776189440942), (448, 0.002929564541740836), (449, 0.00825062035190602), (450, 0.015151971297332721), (451, 0.004504275302803167), (452, 0.011638332589478415), (453, 0.0019280570784981884), (454, 0.0), (455, 0.020518474355624136), (456, 0.002670315937861265), (457, 0.002282715404313834), (458, 0.01603382760501248), (459, 0.026218307850580897), (460, 0.0045622247415842854), (461, 0.008296102207280626), (462, 0.031965731148983254), (463, 0.01859939683115153), (464, 0.008857121547327745), (465, 0.028388456296370775), (466, 0.0024494547885982178), (467, 0.004445361176656495), (468, 0.010294258037893772), (469, 0.0037349690947405785), (470, 0.014221204031148134), (471, 0.002383820958366612), (472, 0.009290281112237779), (473, 0.002266674829287042), (474, 0.007462463023923638), (475, 0.0031798106541472046), (476, 0.002750446007761816), (477, 0.00516657186035961), (478, 0.002844392151044665), (479, 0.04942867855954429), (480, 0.0021798028559615514), (481, 0.015187117382038772), (482, 0.014169871418188292), (483, 0.00987977774955801), (484, 0.0), (485, 0.010123500557852674), (486, 0.0), (487, 0.002410199744731928), (488, 0.0024195222282329433), (489, 0.0030023870961603666), (490, 0.0024664453787938867), (491, 0.0), (492, 0.0), (493, 0.007539477729755871), (494, 0.00694122349911584), (495, 0.002231393499985508), (496, 0.013288697393868254), (497, 0.006367985567335767), (498, 0.0), (499, 0.0028170359109177907), (500, 0.010940306720033547), (501, 0.010584593562840396), (502, 0.014617253680475097), (503, 0.006818991177010088), (504, 0.0025186819861065047), (505, 0.002383491665660693), (506, 0.0), (507, 0.0024315952069769117), (508, 0.0027956949835419836), (509, 0.007222434357927699), (510, 0.014259679759831848), (511, 0.016172224560768535), (512, 0.005282576560339702), (513, 0.0049288103945303125), (514, 0.004957857935767445), (515, 0.022649123391291808), (516, 0.0), (517, 0.0), (518, 0.0029511825196035), (519, 0.04852984341762671), (520, 0.0), (521, 0.006235433907251778), (522, 0.02636478186724827), (523, 0.011437643528596882), (524, 0.0022441188883913664), (525, 0.0), (526, 0.003154580554811595), (527, 0.012333302325019406), (528, 0.0), (529, 0.0), (530, 0.029320297188852155), (531, 0.0), (532, 0.010946233057525017), (533, 0.015819773303189233), (534, 0.014432882937716347), (535, 0.0), (536, 0.0), (537, 0.01260582004792898), (538, 0.01115976690689215), (539, 0.006882505512825817), (540, 0.03519319058804722), (541, 0.0024472646741012668), (542, 0.010230337975109891), (543, 0.014691606817448695), (544, 0.010115169489433504), (545, 0.013538464594013772), (546, 0.0), (547, 0.031384432042159176), (548, 0.0), (549, 0.0), (550, 0.00505007151067041), (551, 0.01587236208101419), (552, 0.0), (553, 0.018473068832285784), (554, 0.0), (555, 0.010711293007460671), (556, 0.0), (557, 0.0), (558, 0.008627415825943646), (559, 0.004100450189638898), (560, 0.011677921875910265), (561, 0.004814589628244259), (562, 0.005311543380458905), (563, 0.006453219229210473), (564, 0.0026236746453995813), (565, 0.0), (566, 0.019034955977528918), (567, 0.0), (568, 0.006067349488363209), (569, 0.0), (570, 0.0), (571, 0.005452092895537709), (572, 0.0), (573, 0.0), (574, 0.0), (575, 0.0), (576, 0.002826065493983367), (577, 0.0), (578, 0.03481552271218211), (579, 0.0025682602398082333), (580, 0.007321093025598915), (581, 0.00656860564784475), (582, 0.007752580348428369), (583, 0.00583308486070987), (584, 0.01436130893050273), (585, 0.0), (586, 0.015860013456665212), (587, 0.0027799415707888174), (588, 0.002591388553621567), (589, 0.002362948531274625), (590, 0.06367247784807917), (591, 0.0), (592, 0.0), (593, 0.02661541957425881), (594, 0.0022939304561857858), (595, 0.005013579585704892), (596, 0.0028209022400946322), (597, 0.00794427880185606), (598, 0.002383779235279845), (599, 0.0), (600, 0.006698240240495588), (601, 0.0), (602, 0.0), (603, 0.0), (604, 0.012953577756985277), (605, 0.0023267593104510952), (606, 0.007315617059624431), (607, 0.0019316620926011611), (608, 0.006519679140693228), (609, 0.012319220382520743), (610, 0.0), (611, 0.0041050469234435154), (612, 0.0026943725932944687), (613, 0.021962612164824535), (614, 0.0029039367082075137), (615, 0.04231182821693527), (616, 0.007422457489878069), (617, 0.006124457938945542), (618, 0.029402899803320573), (619, 0.004480887442333854), (620, 0.014765234218803443), (621, 0.00970120250475562), (622, 0.014869129882391275), (623, 0.002769243539052099), (624, 0.002287132470393952), (625, 0.0041280289143498005), (626, 0.0021268395460804176), (627, 0.003363125725207282), (628, 0.0819881261203694), (629, 0.029082393790784297), (630, 0.0), (631, 0.00921133390131372), (632, 0.03807503805713919), (633, 0.0044548228689518365), (634, 0.004438180772562867), (635, 0.012209712861862412), (636, 0.007106086730198245), (637, 0.042845437545885906), (638, 0.016453424091432307), (639, 0.0038957829905862836), (640, 0.0038731112390947477), (641, 0.022404194701058918), (642, 0.006133295567382112), (643, 0.019849560342303486), (644, 0.006711012536613667), (645, 0.0020263536749644193), (646, 0.002421291057248473), (647, 0.0022122993405614445), (648, 0.012017685412661756), (649, 0.0), (650, 0.0), (651, 0.008679425122991158), (652, 0.01445529889670144), (653, 0.012145842551442337), (654, 0.012082775969724964), (655, 0.0023093080325425302), (656, 0.0), (657, 0.018494526037481317), (658, 0.0), (659, 0.002367825770784148), (660, 0.007342989945196884), (661, 0.004257141451216806), (662, 0.0), (663, 0.0), (664, 0.012174559910057437), (665, 0.0), (666, 0.005104589343229647), (667, 0.012173199862257556), (668, 0.008983479667921481), (669, 0.018507752468722088), (670, 0.027213184153483904), (671, 0.006615156243277316), (672, 0.021261261534703105), (673, 0.041813115350897), (674, 0.0), (675, 0.06278930191866527), (676, 0.013500181001883218), (677, 0.016730264134479235), (678, 0.012496978441131389), (679, 0.0), (680, 0.0026400537988897784), (681, 0.0), (682, 0.04257648258273089), (683, 0.01068231469494324), (684, 0.011725331122973798), (685, 0.004669415994182201), (686, 0.0), (687, 0.005046648287325356), (688, 0.007680389023142005), (689, 0.01316321905017391), (690, 0.004323302112670854), (691, 0.0221609625490171), (692, 0.015365251727005607), (693, 0.02803067521222726), (694, 0.03535851395471217), (695, 0.01052174621472591), (696, 0.007147588778866596), (697, 0.009118534514871861), (698, 0.002372976142517715), (699, 0.0), (700, 0.0), (701, 0.015665175730731694), (702, 0.0), (703, 0.002222233216701633), (704, 0.0), (705, 0.007891060487829043), (706, 0.023243699958095814), (707, 0.002098468669466061), (708, 0.0), (709, 0.0), (710, 0.036055036539834905), (711, 0.0), (712, 0.0021820308440891945), (713, 0.0), (714, 0.0), (715, 0.009917596208103006), (716, 0.007653532438554965), (717, 0.002607185200294314), (718, 0.0), (719, 0.01123545100602125), (720, 0.0), (721, 0.03306856443376252), (722, 0.002233821333244161), (723, 0.003834726084404491), (724, 0.0), (725, 0.0), (726, 0.0), (727, 0.006938968503582041), (728, 0.007568192998966284), (729, 0.007775551449382339), (730, 0.0), (731, 0.002418350170794215), (732, 0.012034994770630204), (733, 0.012050798435844015), (734, 0.008331048929363694), (735, 0.003441253900895528), (736, 0.0), (737, 0.00992201042471396), (738, 0.0037291864937689795), (739, 0.0028332556635363255), (740, 0.0016969983092055712), (741, 0.0), (742, 0.012759255107783026), (743, 0.00732454268159675), (744, 0.006452161442971292), (745, 0.006396677806105433), (746, 0.0), (747, 0.0), (748, 0.006866381956881801), (749, 0.0025543539759708238), (750, 0.0070990766946428495), (751, 0.0), (752, 0.00679334987681827), (753, 0.013303199292459737), (754, 0.0), (755, 0.002510883679033408), (756, 0.004041729791176386), (757, 0.017983005308891013), (758, 0.006452620649583176), (759, 0.002330443773255219), (760, 0.012875023813942144), (761, 0.050182085777173216), (762, 0.015034476321033316), (763, 0.020479184492016057), (764, 0.0), (765, 0.004801040986492497), (766, 0.02800128965433509), (767, 0.0023490664709840754), (768, 0.01838329269599156), (769, 0.006920232261486678), (770, 0.0), (771, 0.0), (772, 0.0), (773, 0.0), (774, 0.03770837377991943), (775, 0.013457715419896417), (776, 0.016693304835490676), (777, 0.003002241378620644), (778, 0.006683793695135637), (779, 0.019595834751749933), (780, 0.0), (781, 0.0), (782, 0.008511830285508027), (783, 0.0026409902531221445), (784, 0.0), (785, 0.0), (786, 0.0), (787, 0.02988834641826641), (788, 0.03627217479119439), (789, 0.0), (790, 0.011202731252347189), (791, 0.0027503561057910285), (792, 0.010222356077468863), (793, 0.004741536733469802), (794, 0.016177184810954065), (795, 0.01626039263794722), (796, 0.01739383436189236), (797, 0.0), (798, 0.0023741036907307046), (799, 0.01374456240685609), (800, 0.012089625049927276), (801, 0.010436720807343926), (802, 0.004943640743437863), (803, 0.004032275909697818), (804, 0.006337270359807133), (805, 0.002303252892647226), (806, 0.00958068582852086), (807, 0.0), (808, 0.017741369268729747), (809, 0.011515944272373438), (810, 0.004201133874092648), (811, 0.0046116413599287705), (812, 0.030544679566306743), (813, 0.0028469992684196773), (814, 0.013101006537632694), (815, 0.002236308643316306), (816, 0.007702848546952235), (817, 0.008785174036133454), (818, 0.03433707952451454), (819, 0.0), (820, 0.0), (821, 0.006025643086243302), (822, 0.0), (823, 0.03131265282728162), (824, 0.02502498661109991), (825, 0.011633653118755702), (826, 0.0026717877318471746), (827, 0.011070609456017417), (828, 0.008967205099566718), (829, 0.01311915399366036), (830, 0.03479158329415455), (831, 0.005039960978116018), (832, 0.02547850483218423), (833, 0.012778000671190275), (834, 0.006442665025223256), (835, 0.006135493643367332), (836, 0.02796113398164741), (837, 0.0), (838, 0.008256177267936192), (839, 0.0), (840, 0.0), (841, 0.0), (842, 0.013758685499025092), (843, 0.007434245141991945), (844, 0.009373838485693396), (845, 0.007313622088072619), (846, 0.0), (847, 0.010361845837798055), (848, 0.0025832388671226587), (849, 0.0046127245970048825), (850, 0.009025077675747617), (851, 0.008458390270050058), (852, 0.02600642697683677), (853, 0.015965965910344125), (854, 0.0024166897747787404), (855, 0.005201735482539843), (856, 0.0022315213173882045), (857, 0.0027661910016021567), (858, 0.017975104056248022), (859, 0.0), (860, 0.016317082451457604), (861, 0.005987751903268081), (862, 0.0060917317596586845), (863, 0.0064317362855097855), (864, 0.03118452345861307), (865, 0.002635446424417747), (866, 0.013134557844539135), (867, 0.015420866068475588), (868, 0.006721187405215016), (869, 0.007035030726265993), (870, 0.02012736066720343), (871, 0.00256149385044412), (872, 0.002660169933540254), (873, 0.05049052717850574), (874, 0.03627750820280649), (875, 0.012581172943825158), (876, 0.016017996807893627), (877, 0.0516204483088438), (878, 0.013299336664810688), (879, 0.014810411406062238), (880, 0.00684971151011393), (881, 0.0), (882, 0.0), (883, 0.0023846035530072857), (884, 0.0026470286954534544), (885, 0.02331876853345036), (886, 0.002318228423678933), (887, 0.00274090652579432), (888, 0.01524822181536886), (889, 0.003233878927744265), (890, 0.0026490863204407496), (891, 0.0047093621069500624), (892, 0.0), (893, 0.004174973403962983), (894, 0.009307688579154105), (895, 0.014416837009607315), (896, 0.015216993132197907), (897, 0.009000217436106944), (898, 0.00407110080586569), (899, 0.014306495744687595), (900, 0.012537569970597833), (901, 0.0020622611147535024), (902, 0.004609781953425159), (903, 0.02703340425152283), (904, 0.04451815713398762), (905, 0.013145547518293277), (906, 0.012901109612816023), (907, 0.002304601650712331), (908, 0.007023538532460842), (909, 0.0), (910, 0.0064610760390075034), (911, 0.03576301812141459), (912, 0.0), (913, 0.0), (914, 0.0), (915, 0.010983386348054654), (916, 0.016580240449716746), (917, 0.02161706897802038), (918, 0.01206116205013871), (919, 0.004780175162679133), (920, 0.0), (921, 0.008371070306534254), (922, 0.0028144383567344734), (923, 0.006689336011902613), (924, 0.0077491563901049745), (925, 0.0028685170071771223), (926, 0.0), (927, 0.00444038299645017), (928, 0.011934659801687744), (929, 0.015118997076358298), (930, 0.007411096599169598), (931, 0.011639476928449669), (932, 0.004151298000051065), (933, 0.0025738162733105674), (934, 0.013973905324986009), (935, 0.03286277850376637), (936, 0.012348887926723333), (937, 0.016478396507720795), (938, 0.0), (939, 0.008967968516023628), (940, 0.006227960468144672), (941, 0.0023599280934197965), (942, 0.02399095446895792), (943, 0.0), (944, 0.0023075541655779397), (945, 0.0), (946, 0.0), (947, 0.01902156296033297), (948, 0.008750490224982402), (949, 0.010523652899374007), (950, 0.0), (951, 0.002113575155115735), (952, 0.028014359481916717), (953, 0.005650109531381473), (954, 0.0), (955, 0.0), (956, 0.0), (957, 0.014038334688299715), (958, 0.006105273844698199), (959, 0.002426117620505517), (960, 0.0), (961, 0.0), (962, 0.008572494789814094), (963, 0.012497574278426656), (964, 0.0), (965, 0.0), (966, 0.008585922578616761), (967, 0.024668538575244252), (968, 0.017895484686224945), (969, 0.002523827230977266), (970, 0.009617847849176766), (971, 0.0), (972, 0.0), (973, 0.0024660019835621477), (974, 0.004238307921542763), (975, 0.002344994999716095), (976, 0.02793101443103277), (977, 0.0), (978, 0.0), (979, 0.009674111891766262), (980, 0.007344217206260666), (981, 0.006373806433512088), (982, 0.0), (983, 0.0), (984, 0.0023708489302842807), (985, 0.00290436847707695), (986, 0.014101951824765422), (987, 0.0025990378689194613), (988, 0.01396277264344278), (989, 0.013704103170658913), (990, 0.0), (991, 0.007487662287087941), (992, 0.004893433343493589), (993, 0.002557466963806091), (994, 0.009654808453557534), (995, 0.0), (996, 0.006462520951518626), (997, 0.00411305482781926), (998, 0.002842119623623103), (999, 0.002827736674306168), (1000, 0.012756864430767526), (1001, 0.006663025178659112), (1002, 0.0023678944204130335), (1003, 0.021733391224836324), (1004, 0.002289204323518689), (1005, 0.012323402186355461), (1006, 0.009313001619130606), (1007, 0.0026975048148043675), (1008, 0.0), (1009, 0.012057867192313549), (1010, 0.0), (1011, 0.0), (1012, 0.010829480895491312), (1013, 0.0), (1014, 0.007398941184559162), (1015, 0.021662265630584928), (1016, 0.0), (1017, 0.020424738500484117), (1018, 0.015711721883387708), (1019, 0.010923410515271091), (1020, 0.008659703081529795), (1021, 0.05577699948833091), (1022, 0.0), (1023, 0.04565157075203617), (1024, 0.03688514522866609), (1025, 0.0), (1026, 0.0024728057422388956), (1027, 0.0024405289228697424), (1028, 0.0), (1029, 0.0), (1030, 0.05043151279119735), (1031, 0.0), (1032, 0.002338677667535552), (1033, 0.020991353223921608), (1034, 0.002394809689979828), (1035, 0.013878928546249635), (1036, 0.0023157694378637132), (1037, 0.00728663176641226), (1038, 0.0), (1039, 0.0), (1040, 0.001967219420300798), (1041, 0.006595580424056797), (1042, 0.0021135175336664844), (1043, 0.029380968933053194), (1044, 0.006916045224913735), (1045, 0.015757954813941506), (1046, 0.029054787274487855), (1047, 0.01175433188341797), (1048, 0.009177443959465119), (1049, 0.0029831262030172788), (1050, 0.008188500063251843), (1051, 0.0), (1052, 0.01921196537942247), (1053, 0.011202031345684555), (1054, 0.010861038254363142), (1055, 0.0), (1056, 0.0), (1057, 0.022783086990187596), (1058, 0.013940884768650857), (1059, 0.02569535294675944), (1060, 0.025253723159262265), (1061, 0.010992706250903941), (1062, 0.0), (1063, 0.032708503125904), (1064, 0.016965534126278575), (1065, 0.006481466603044741), (1066, 0.0), (1067, 0.0), (1068, 0.030869588092969663), (1069, 0.007355897017784634), (1070, 0.08234525265546264), (1071, 0.007483414177546993), (1072, 0.0024860222009178323), (1073, 0.0), (1074, 0.01776858224676156), (1075, 0.009284193639800795), (1076, 0.006627500270714607), (1077, 0.009174395526317582), (1078, 0.00794019572468273), (1079, 0.0023245691932545624), (1080, 0.002257837956643161), (1081, 0.0), (1082, 0.004463566192033984), (1083, 0.00733523834000617), (1084, 0.0024272149921669823), (1085, 0.035458037546632626), (1086, 0.0), (1087, 0.00906760119420564), (1088, 0.0021418943727568), (1089, 0.0), (1090, 0.011194128597421906), (1091, 0.0), (1092, 0.010337743627770415), (1093, 0.0), (1094, 0.006629552701111802), (1095, 0.027091870175388427), (1096, 0.00862792677922611), (1097, 0.0), (1098, 0.021201607499263704), (1099, 0.011797775445629603), (1100, 0.0024774417489532756), (1101, 0.0), (1102, 0.04974877025372145), (1103, 0.0), (1104, 0.012025930511266152), (1105, 0.0), (1106, 0.0), (1107, 0.013205320793924618), (1108, 0.0), (1109, 0.002772542587912133), (1110, 0.0025555531311692832), (1111, 0.006517081974321928), (1112, 0.017971422920865673), (1113, 0.0), (1114, 0.014359816968175482), (1115, 0.015306239380235998), (1116, 0.013830473411907677), (1117, 0.002403881000429309), (1118, 0.059847772528265945), (1119, 0.015178591539763439), (1120, 0.003983156969600504), (1121, 0.003145635182296828), (1122, 0.0025905608373775653), (1123, 0.0067774676418427115), (1124, 0.009447212856543942), (1125, 0.006742776558661334), (1126, 0.0), (1127, 0.004477482548045779), (1128, 0.013224799472485687), (1129, 0.01712364843426147), (1130, 0.0), (1131, 0.00249978424807956), (1132, 0.02004907968659345), (1133, 0.0), (1134, 0.059958619748610706), (1135, 0.0), (1136, 0.007849932289988325), (1137, 0.026908530320614254), (1138, 0.007011840744976388), (1139, 0.0), (1140, 0.007356876176454448), (1141, 0.022304778060461945), (1142, 0.0), (1143, 0.0), (1144, 0.007136496927629742), (1145, 0.0034730660056731862), (1146, 0.03213369113484195), (1147, 0.0), (1148, 0.05043450832487558), (1149, 0.0), (1150, 0.004840174533842923), (1151, 0.0), (1152, 0.014199818561996973), (1153, 0.0032469813594486236), (1154, 0.004289637014368193), (1155, 0.0), (1156, 0.0), (1157, 0.011846200769817943), (1158, 0.005098299176926183), (1159, 0.0), (1160, 0.009029347273221407), (1161, 0.002266782645785549), (1162, 0.026710118769799153), (1163, 0.002521087783059382), (1164, 0.0037393928048357924), (1165, 0.0), (1166, 0.0), (1167, 0.004945460137308762), (1168, 0.0028697849863513524), (1169, 0.002989841025457862), (1170, 0.002496725133338723), (1171, 0.0), (1172, 0.0067261676707546444), (1173, 0.030404905610250006), (1174, 0.007683183003073158), (1175, 0.017852482283444958), (1176, 0.0025690710899930716), (1177, 0.006683261654606825), (1178, 0.0), (1179, 0.007209032010152572), (1180, 0.0), (1181, 0.024942742074590234), (1182, 0.009185976080364972), (1183, 0.013099316803886034), (1184, 0.016200103852022953), (1185, 0.011961850037816158), (1186, 0.022665005609280295), (1187, 0.0029399478128485567), (1188, 0.007358299920508939), (1189, 0.0), (1190, 0.0), (1191, 0.007089443242782765), (1192, 0.014020008868721262), (1193, 0.0), (1194, 0.011624591482388053), (1195, 0.03082303867357121), (1196, 0.0), (1197, 0.00418230695909583), (1198, 0.0), (1199, 0.0022375084137580205), (1200, 0.0), (1201, 0.0), (1202, 0.018890616303201605), (1203, 0.002352330603795003), (1204, 0.0024885633732969394), (1205, 0.02608167547174856), (1206, 0.008311163752857249), (1207, 0.004387186450676619), (1208, 0.0032233983584177735), (1209, 0.002144966974762752), (1210, 0.003323332078850025), (1211, 0.004339607206728672), (1212, 0.0), (1213, 0.006146565540722821), (1214, 0.005824023620462657), (1215, 0.011587596495196783), (1216, 0.016529549769012906), (1217, 0.0023157333902428297), (1218, 0.0), (1219, 0.002245970380656052), (1220, 0.012282509970041908), (1221, 0.0), (1222, 0.0), (1223, 0.007279419022193732), (1224, 0.014704955401588454), (1225, 0.00753557646358808), (1226, 0.017817038912855118), (1227, 0.0), (1228, 0.0), (1229, 0.007329161705392809), (1230, 0.011087915406243421), (1231, 0.0067834859646059556), (1232, 0.014190859146133538), (1233, 0.0), (1234, 0.010068783668846313), (1235, 0.0), (1236, 0.03340478673006614), (1237, 0.012516986089821084), (1238, 0.006434762665595521), (1239, 0.012777952978269018), (1240, 0.0), (1241, 0.0350117587374386), (1242, 0.0), (1243, 0.05675911782731238), (1244, 0.0), (1245, 0.01733783647092833), (1246, 0.0), (1247, 0.0024138333873820884), (1248, 0.04257424855078755), (1249, 0.011363400102103818), (1250, 0.00659010199306112), (1251, 0.0022545314520278858), (1252, 0.013888469495646226), (1253, 0.0), (1254, 0.01616803049366964), (1255, 0.012814866052738256), (1256, 0.0), (1257, 0.04355057857132114), (1258, 0.0), (1259, 0.010608242948721747), (1260, 0.007829445737968715), (1261, 0.043487509618674904), (1262, 0.011221287165729472), (1263, 0.0), (1264, 0.011487766479231377), (1265, 0.0), (1266, 0.011243222281662368), (1267, 0.006183510303765638), (1268, 0.0), (1269, 0.0), (1270, 0.020926713551003402), (1271, 0.0), (1272, 0.034745152730604044), (1273, 0.002340077094040755), (1274, 0.01737756641926064), (1275, 0.01587387438464804), (1276, 0.008594903877853029), (1277, 0.0019586916421302034), (1278, 0.014779496135420657), (1279, 0.009324777812796068), (1280, 0.004904468909984911), (1281, 0.004101264233033816), (1282, 0.007414182614383533), (1283, 0.023339838559127475), (1284, 0.002478012959937128), (1285, 0.0), (1286, 0.002582246787700001), (1287, 0.0), (1288, 0.0), (1289, 0.0), (1290, 0.014735581184018093), (1291, 0.0), (1292, 0.0441536407375222), (1293, 0.012499257772291708), (1294, 0.002673738213810787), (1295, 0.0), (1296, 0.0), (1297, 0.0), (1298, 0.0024780101440381357), (1299, 0.0), (1300, 0.00960858087562261), (1301, 0.0021836363741631654), (1302, 0.011247137171768288), (1303, 0.011351375007251684), (1304, 0.0024979147014160684), (1305, 0.002062292942913859), (1306, 0.006502464770761762), (1307, 0.00617332755441885), (1308, 0.008290614002117613), (1309, 0.003890001470225079), (1310, 0.012039791625255458), (1311, 0.035594158057997274), (1312, 0.00779507965322636), (1313, 0.0024854773888321156), (1314, 0.025937264721955226), (1315, 0.0), (1316, 0.005814537116283703), (1317, 0.013231007835352686), (1318, 0.002208238366122453), (1319, 0.0024813491606273438), (1320, 0.040095344386140166), (1321, 0.0), (1322, 0.0), (1323, 0.0), (1324, 0.002683239093961716), (1325, 0.015229432318252308), (1326, 0.0), (1327, 0.006189104169069488), (1328, 0.0), (1329, 0.006292490866874677), (1330, 0.006786478797130686), (1331, 0.014065635574152689), (1332, 0.005167344703271941), (1333, 0.0), (1334, 0.009758617323195336), (1335, 0.014571656338028566), (1336, 0.0), (1337, 0.014154629505290799), (1338, 0.009571415621651657), (1339, 0.009898046283097827), (1340, 0.00228277749517247), (1341, 0.07740973728822569), (1342, 0.01309324829076852), (1343, 0.013626037885167391), (1344, 0.005687345515286812), (1345, 0.006538415199247737), (1346, 0.0), (1347, 0.004342180909820755), (1348, 0.01012687293075194), (1349, 0.0028108802943909044), (1350, 0.002439962362860503), (1351, 0.024081777005092647), (1352, 0.002131594354533274), (1353, 0.0), (1354, 0.0), (1355, 0.0025420283814638644), (1356, 0.005975698856177783), (1357, 0.002318753125005137), (1358, 0.04089460727645608), (1359, 0.00959894553938877), (1360, 0.012674638881405532), (1361, 0.016028524214807355), (1362, 0.022764009925281225), (1363, 0.02987082199716064), (1364, 0.0025996165044853722), (1365, 0.017751960297159156), (1366, 0.0022385757602936696), (1367, 0.03235637363276862), (1368, 0.0), (1369, 0.03980648761561313), (1370, 0.0021566613203520203), (1371, 0.007732907714782244), (1372, 0.0023471810757116273), (1373, 0.0), (1374, 0.006400576563002199), (1375, 0.00661833909547737), (1376, 0.012570369933546472), (1377, 0.016489774666880504), (1378, 0.0024895392893129645), (1379, 0.03454674375139807), (1380, 0.004767633244884078), (1381, 0.0053445309900745554), (1382, 0.009205833656605), (1383, 0.08326523377315685), (1384, 0.01780011790764993), (1385, 0.020157205379148193), (1386, 0.018296073921908677), (1387, 0.008561072228475691), (1388, 0.007134207394291147), (1389, 0.03563740438235286), (1390, 0.0), (1391, 0.005077327351264883), (1392, 0.0023011503968803897), (1393, 0.04468497641274311), (1394, 0.002179846250449872), (1395, 0.003647017177854849), (1396, 0.011416880433249678), (1397, 0.020864752481154738), (1398, 0.02901350914562214), (1399, 0.0), (1400, 0.00751610789581628), (1401, 0.013683143208845073), (1402, 0.0025846455283668793), (1403, 0.016803637900267537), (1404, 0.002368641034198641), (1405, 0.029967936148792382), (1406, 0.011262655747346997), (1407, 0.011554248717482063), (1408, 0.002431519429082516), (1409, 0.0026810643047021666), (1410, 0.002502047954236947), (1411, 0.0024281124798029513), (1412, 0.02323425037816671), (1413, 0.013936410489310177), (1414, 0.006238888064497358), (1415, 0.002064989805454789), (1416, 0.002372469574292773), (1417, 0.015954709699577324), (1418, 0.009843542369635814), (1419, 0.011687792589312108), (1420, 0.011018150123357839), (1421, 0.0067062436458562935), (1422, 0.002418821306576122), (1423, 0.0022208567854981338), (1424, 0.0), (1425, 0.006503619549015606), (1426, 0.004732090872364783), (1427, 0.0022637368923033125), (1428, 0.004273890599205934), (1429, 0.008518751727177948), (1430, 0.026416973556953636), (1431, 0.004550349455354273), (1432, 0.012421652543095494), (1433, 0.00653897700618148), (1434, 0.0022993729227748587), (1435, 0.004699842357351714), (1436, 0.012050295811941319), (1437, 0.0), (1438, 0.009306519392612508), (1439, 0.0026211518279796696), (1440, 0.009540356343851345), (1441, 0.0), (1442, 0.009284001123744688), (1443, 0.017829625374658535), (1444, 0.0), (1445, 0.016131199979952344), (1446, 0.008652155056973414), (1447, 0.0), (1448, 0.006388096205283055), (1449, 0.004792350135677483), (1450, 0.0022024492183801273), (1451, 0.004251355671172438), (1452, 0.004878326416662522), (1453, 0.005377872347592456), (1454, 0.007540050502476971), (1455, 0.011537883920692863), (1456, 0.0022997388028235415), (1457, 0.0), (1458, 0.004092133743126438), (1459, 0.0), (1460, 0.0), (1461, 0.013604302111969517), (1462, 0.006462151442401482), (1463, 0.0025726498920935563), (1464, 0.03184786093267663), (1465, 0.01350830052359814), (1466, 0.0), (1467, 0.0), (1468, 0.0), (1469, 0.00475733196022378), (1470, 0.0), (1471, 0.020399009354457986), (1472, 0.00706245818302102), (1473, 0.0), (1474, 0.0027549305667884665), (1475, 0.009504951208543144), (1476, 0.002534156213046072), (1477, 0.008215906698689416), (1478, 0.013474370391686516), (1479, 0.0026968527653242376), (1480, 0.004132966219752417), (1481, 0.013627278916009521), (1482, 0.029325780979158993), (1483, 0.013746166765974035), (1484, 0.007298202974696169), (1485, 0.0), (1486, 0.007095423647391863), (1487, 0.0), (1488, 0.006991042249514554), (1489, 0.008175498000017833), (1490, 0.0), (1491, 0.0), (1492, 0.021482114847101), (1493, 0.016680668649294357), (1494, 0.009084785602480279), (1495, 0.0), (1496, 0.0), (1497, 0.002861532787259367), (1498, 0.008032380112058828), (1499, 0.030533618306207506), (1500, 0.02717273858616124), (1501, 0.006514762971860788), (1502, 0.004715049597060546), (1503, 0.002271226891188542), (1504, 0.0070827613803446715), (1505, 0.022362968413172327), (1506, 0.04168667278465968), (1507, 0.007970998707561003), (1508, 0.0), (1509, 0.014271537161660703), (1510, 0.01987397943629867), (1511, 0.0), (1512, 0.015827769547499614), (1513, 0.009912949069759319), (1514, 0.008216445641227199), (1515, 0.021842599523749003), (1516, 0.0026389676688269846), (1517, 0.0), (1518, 0.0026960927012360495), (1519, 0.012557588456972931), (1520, 0.0), (1521, 0.0), (1522, 0.0), (1523, 0.015499630298946838), (1524, 0.0), (1525, 0.0), (1526, 0.006269468848161328), (1527, 0.04000026731488396), (1528, 0.002269445036701341), (1529, 0.0), (1530, 0.024552885531403532), (1531, 0.004764753820983486), (1532, 0.0), (1533, 0.002564516873287305), (1534, 0.0), (1535, 0.0), (1536, 0.0071923041401926015), (1537, 0.00749809769972882), (1538, 0.008158492777077711), (1539, 0.007995561629531623), (1540, 0.008190980295507133), (1541, 0.0), (1542, 0.011867263205349688), (1543, 0.002285766749127894), (1544, 0.024425205618098918), (1545, 0.0), (1546, 0.004053250131266853), (1547, 0.0029231132229712836), (1548, 0.0), (1549, 0.0), (1550, 0.002445941724273547), (1551, 0.01096942260098794), (1552, 0.00616297318832034), (1553, 0.007954958193093583), (1554, 0.005047294476486185), (1555, 0.00657608695361581), (1556, 0.0), (1557, 0.0), (1558, 0.002333455753205426), (1559, 0.003987255071611516), (1560, 0.027685235095603472), (1561, 0.0), (1562, 0.004196138395700388), (1563, 0.0), (1564, 0.0), (1565, 0.0021131023309962113), (1566, 0.004572314183592174), (1567, 0.012045579334426883), (1568, 0.03505956788028443), (1569, 0.0), (1570, 0.0026436360882142146), (1571, 0.007374067024148683), (1572, 0.016685111466293562), (1573, 0.0045313548817869365), (1574, 0.0025116890831935403), (1575, 0.0048388889357004645), (1576, 0.0036482711415740435), (1577, 0.0), (1578, 0.0), (1579, 0.016853541107206996), (1580, 0.002737033522077715), (1581, 0.0), (1582, 0.008997606249685057), (1583, 0.007005034641533794), (1584, 0.0), (1585, 0.02347190785631335), (1586, 0.0), (1587, 0.0047272136942113985), (1588, 0.004723539672876532), (1589, 0.0), (1590, 0.004107022469362059), (1591, 0.013373219174343018), (1592, 0.0), (1593, 0.0030272349069914222), (1594, 0.0027612126221063208), (1595, 0.012610804283819232), (1596, 0.0), (1597, 0.0024166660615840834), (1598, 0.00245049231582427), (1599, 0.0), (1600, 0.0), (1601, 0.0), (1602, 0.0), (1603, 0.0), (1604, 0.0), (1605, 0.002289602884447335), (1606, 0.0), (1607, 0.0), (1608, 0.0066221402728306195), (1609, 0.016680392084563823), (1610, 0.0), (1611, 0.0), (1612, 0.008909446641261747), (1613, 0.0), (1614, 0.004830166684510767), (1615, 0.0), (1616, 0.0022100050490719367), (1617, 0.0023983923557013265), (1618, 0.0), (1619, 0.009396862726499327), (1620, 0.009028962002290098), (1621, 0.013739316723029048), (1622, 0.0045368170619627885), (1623, 0.004315930127356083), (1624, 0.00208439626184386), (1625, 0.002211308336878571), (1626, 0.0), (1627, 0.0063268796947315), (1628, 0.0022937675865045493), (1629, 0.020967269903474223), (1630, 0.010857616298027926), (1631, 0.004265456909435371), (1632, 0.004267045141193217), (1633, 0.00451692225821419), (1634, 0.026772920099416946), (1635, 0.004443749007876235), (1636, 0.0), (1637, 0.0029468163103910875), (1638, 0.0), (1639, 0.0), (1640, 0.0), (1641, 0.0023851640242249094), (1642, 0.0023576794681005086), (1643, 0.007239744157788473), (1644, 0.006545254833325487), (1645, 0.002537275127818834), (1646, 0.0), (1647, 0.0942160435652128), (1648, 0.029256608983885525), (1649, 0.0), (1650, 0.008316498332022387), (1651, 0.0), (1652, 0.038040418548115684), (1653, 0.006798937878504368), (1654, 0.012240543695525585), (1655, 0.010939785770093257), (1656, 0.0028820867204622275), (1657, 0.019910168617445018), (1658, 0.009967809049837307), (1659, 0.00493042124128105), (1660, 0.0026152199157303034), (1661, 0.004904807076236866), (1662, 0.01034069499381068), (1663, 0.0023683571382176515), (1664, 0.006123662840550428), (1665, 0.013211013617381742), (1666, 0.0024475020588384006), (1667, 0.013266725536850994), (1668, 0.0), (1669, 0.0), (1670, 0.0026416857561484927), (1671, 0.020627711784107258), (1672, 0.0022587193094401638), (1673, 0.0), (1674, 0.007645088751698542), (1675, 0.04010820763924174), (1676, 0.037653360087750685), (1677, 0.0020160623513405035), (1678, 0.02049507640512772), (1679, 0.0), (1680, 0.0126652198695355), (1681, 0.01266599758074239), (1682, 0.014501511967686693), (1683, 0.002640002107221677), (1684, 0.005736650340490522), (1685, 0.00950839974595052), (1686, 0.0), (1687, 0.014907180835437359), (1688, 0.00915897589994581), (1689, 0.0), (1690, 0.008028795106028707), (1691, 0.002115881572743393), (1692, 0.006342061442554597), (1693, 0.0024972657950066536), (1694, 0.01018805502306103), (1695, 0.005293155413798214), (1696, 0.01071079930513064), (1697, 0.0), (1698, 0.0), (1699, 0.004015809606309082), (1700, 0.0), (1701, 0.00879368636207567), (1702, 0.033482554086635426), (1703, 0.002635387911993663), (1704, 0.0), (1705, 0.007558798132865317), (1706, 0.0024849873406858846), (1707, 0.01893353472935321), (1708, 0.009675469650833721), (1709, 0.0), (1710, 0.008398379670600295), (1711, 0.003152195694536735), (1712, 0.00964690123389661), (1713, 0.040430761434982816), (1714, 0.011513342306550281), (1715, 0.005739461940211602), (1716, 0.015522976295132336), (1717, 0.0025676737069909622), (1718, 0.0068433197939730345), (1719, 0.0022695957330868253), (1720, 0.0258455472709403), (1721, 0.02499573484516473), (1722, 0.0025666275125733906), (1723, 0.01036000156321426), (1724, 0.005059680027444601), (1725, 0.0), (1726, 0.0), (1727, 0.009826260190121732), (1728, 0.0), (1729, 0.0), (1730, 0.008724233652915369), (1731, 0.0), (1732, 0.004864057774849952), (1733, 0.0027736582187359465), (1734, 0.0), (1735, 0.00718343990170519), (1736, 0.01015826583378332), (1737, 0.00688179254349614), (1738, 0.006768308873949785), (1739, 0.012738255099648238), (1740, 0.014297510670551251), (1741, 0.015290015983407389), (1742, 0.002365542540121877), (1743, 0.007578684055486114), (1744, 0.0024105485223592958), (1745, 0.0), (1746, 0.005998227623721741), (1747, 0.0070302149846331674), (1748, 0.002937297043211458), (1749, 0.0243221192508386), (1750, 0.029981694960053512), (1751, 0.0), (1752, 0.032835203509626695), (1753, 0.003922002163699287), (1754, 0.010577014781363255), (1755, 0.0), (1756, 0.0), (1757, 0.021134284373096807), (1758, 0.0), (1759, 0.017784022694740092), (1760, 0.00636473147990306), (1761, 0.01139466611584404), (1762, 0.00807901382351222), (1763, 0.024324808055032593), (1764, 0.00772715801128449), (1765, 0.0026879109128195135), (1766, 0.0), (1767, 0.0), (1768, 0.0025558611985720863), (1769, 0.0), (1770, 0.03390139207199846), (1771, 0.0), (1772, 0.003953190820880011), (1773, 0.010931381815954714), (1774, 0.015737238485804314), (1775, 0.0), (1776, 0.008892420399751058), (1777, 0.0), (1778, 0.0), (1779, 0.014073721792516716), (1780, 0.0016419878064156289), (1781, 0.009778001461842928), (1782, 0.0024159302431790803), (1783, 0.0), (1784, 0.004188679711275002), (1785, 0.0), (1786, 0.0), (1787, 0.01223778867261049), (1788, 0.02852407355565751), (1789, 0.010946483289078084), (1790, 0.007772411117617618), (1791, 0.0048759460270270906), (1792, 0.002945732613709338), (1793, 0.008533163163322933), (1794, 0.0), (1795, 0.030177753539393844), (1796, 0.013358660270724226), (1797, 0.006165944937142171), (1798, 0.009773731421039244), (1799, 0.012147325683655051), (1800, 0.0), (1801, 0.0021727485481269635), (1802, 0.013100462612066066), (1803, 0.0), (1804, 0.0), (1805, 0.0027424388661791226), (1806, 0.008037053962232253), (1807, 0.00875634536110614), (1808, 0.0022889827864480557), (1809, 0.048359796801094326), (1810, 0.0), (1811, 0.006923898376679967), (1812, 0.011683280564824207), (1813, 0.0024502946777479953), (1814, 0.0023041009529606036), (1815, 0.013094646325022587), (1816, 0.006307113462788061), (1817, 0.02041443380254926), (1818, 0.006070347447850411), (1819, 0.006517979311079224), (1820, 0.0), (1821, 0.04304117265977137), (1822, 0.0026543757656029275), (1823, 0.0), (1824, 0.0), (1825, 0.0), (1826, 0.0022678605733008486), (1827, 0.0022384462835921123), (1828, 0.0021270539593776184), (1829, 0.004868327987702375), (1830, 0.0022068245251156337), (1831, 0.002490055626152147), (1832, 0.011818810897425248), (1833, 0.007902177438906038), (1834, 0.0), (1835, 0.0), (1836, 0.0), (1837, 0.0328627389406301), (1838, 0.01964673744718889), (1839, 0.0), (1840, 0.004195619875600868), (1841, 0.0068603963477285685), (1842, 0.0), (1843, 0.01764354296016589), (1844, 0.0), (1845, 0.026511053669725636), (1846, 0.004456793078572855), (1847, 0.025885539814405212), (1848, 0.0027597305071646555), (1849, 0.00641799424773878), (1850, 0.042589772939152365), (1851, 0.0026764522528769535), (1852, 0.010869855523007916), (1853, 0.014909029471478808), (1854, 0.00894485287900193), (1855, 0.0), (1856, 0.0), (1857, 0.004482844147953902), (1858, 0.010400437603445249), (1859, 0.004779155709670205), (1860, 0.009109328416846894), (1861, 0.02080115342980531), (1862, 0.002818747459397021), (1863, 0.00556636775221933), (1864, 0.012967875063062483), (1865, 0.0228390144532905), (1866, 0.007891151734992736), (1867, 0.006417584372027361), (1868, 0.030723767342942722), (1869, 0.002275718312098309), (1870, 0.011667028143719293), (1871, 0.041019949037052424), (1872, 0.01843840073756145), (1873, 0.011220202390573038), (1874, 0.010242500485177834), (1875, 0.00825903849813764), (1876, 0.01404787607514189), (1877, 0.0023838341252162), (1878, 0.04712323202953725), (1879, 0.0), (1880, 0.015381905909754566), (1881, 0.004689856360782762), (1882, 0.002493600267445598), (1883, 0.0), (1884, 0.002324228118020115), (1885, 0.03067016649309536), (1886, 0.06318046479439123), (1887, 0.0027997513083709434), (1888, 0.0), (1889, 0.0), (1890, 0.0027803916914370106), (1891, 0.0024444593670823224), (1892, 0.0064132136238182055), (1893, 0.002583821915529571), (1894, 0.0), (1895, 0.014344055001923015), (1896, 0.0026222673519466907), (1897, 0.014908290803109497), (1898, 0.0), (1899, 0.0), (1900, 0.008584078053727783), (1901, 0.004766644574815062), (1902, 0.007472929997620308), (1903, 0.005974513096643025), (1904, 0.004806712198458249), (1905, 0.002736284232741163), (1906, 0.01544384459821412), (1907, 0.002723930276601258), (1908, 0.006605940593537181), (1909, 0.0028474660028236383), (1910, 0.0038430634473724653), (1911, 0.006662650070761068), (1912, 0.0), (1913, 0.00633533614051848), (1914, 0.0041992307881898346), (1915, 0.0), (1916, 0.002695537317292188), (1917, 0.0), (1918, 0.007477687236790784), (1919, 0.014437302948285774), (1920, 0.008212265784027319), (1921, 0.002375903629533031), (1922, 0.009757588839542338), (1923, 0.01028698970383717), (1924, 0.008061981148347474), (1925, 0.003916255780142801), (1926, 0.0), (1927, 0.019620938438904813), (1928, 0.0), (1929, 0.00236645748142718), (1930, 0.004617996057660272), (1931, 0.007256190948849847), (1932, 0.0), (1933, 0.004446782724621804), (1934, 0.012243403432173467), (1935, 0.0222460664327098), (1936, 0.009178356753643188), (1937, 0.018121223631381717), (1938, 0.0), (1939, 0.006049049599998111), (1940, 0.0052746939104506224), (1941, 0.005428716054645402), (1942, 0.020992957071719127), (1943, 0.0021651847551497905), (1944, 0.0), (1945, 0.013582549358301523), (1946, 0.002549219178836422), (1947, 0.0029165158446604516), (1948, 0.009034524886480677), (1949, 0.01166829073331133), (1950, 0.007400878036345372), (1951, 0.009367665912652364), (1952, 0.004998682466135842), (1953, 0.004426390881957604), (1954, 0.0021915842185819536), (1955, 0.0), (1956, 0.0), (1957, 0.010893242706477327), (1958, 0.011566432576099355), (1959, 0.002713382920804123), (1960, 0.007822108340227368), (1961, 0.0), (1962, 0.005034000177981076), (1963, 0.0), (1964, 0.006375003306764973), (1965, 0.0), (1966, 0.0), (1967, 0.014415910809230138), (1968, 0.008144702910404056), (1969, 0.002464383821051303), (1970, 0.05251933717154677), (1971, 0.008386721144950694), (1972, 0.0), (1973, 0.02904387457621812), (1974, 0.0), (1975, 0.004805112700537374), (1976, 0.02872654026524432), (1977, 0.0735979884584596), (1978, 0.0), (1979, 0.0), (1980, 0.0022202498016061696), (1981, 0.005826836828883948), (1982, 0.07220666473798854), (1983, 0.014628580099011464), (1984, 0.0), (1985, 0.02108443679619972), (1986, 0.013096606556284189), (1987, 0.006364969879866937), (1988, 0.012155999347607882), (1989, 0.011240088396768516), (1990, 0.027777246355274732), (1991, 0.03516669052776153), (1992, 0.010800254351967225), (1993, 0.004353299345616788), (1994, 0.08257195770412143), (1995, 0.0026938574928585587), (1996, 0.02157552292200837), (1997, 0.022802960806024005), (1998, 0.004631171120696273), (1999, 0.024586273086107124), (2000, 0.012310673784321149), (2001, 0.0), (2002, 0.0), (2003, 0.0), (2004, 0.0023667187208345824), (2005, 0.011748645886014413), (2006, 0.0), (2007, 0.0), (2008, 0.013320927908725178), (2009, 0.0), (2010, 0.0019857490649603285), (2011, 0.0250646613703422), (2012, 0.04199365251842996), (2013, 0.025876163246167396), (2014, 0.03041258683502807), (2015, 0.004785307325987584), (2016, 0.010010158878153461), (2017, 0.0), (2018, 0.035219231913107545), (2019, 0.0), (2020, 0.02409754603076017), (2021, 0.0), (2022, 0.005109604027485529), (2023, 0.029651231229772056), (2024, 0.013686926887057055), (2025, 0.0), (2026, 0.05297211230782478), (2027, 0.014792143161149195), (2028, 0.0), (2029, 0.009199537345493431), (2030, 0.0), (2031, 0.006344244260670295), (2032, 0.0), (2033, 0.0), (2034, 0.0020399015688018613), (2035, 0.017523594073614684), (2036, 0.0), (2037, 0.02886147573533978), (2038, 0.0), (2039, 0.0020922570961227067), (2040, 0.022667494102747758), (2041, 0.0), (2042, 0.0), (2043, 0.0), (2044, 0.004787059840305153), (2045, 0.013652764375777842), (2046, 0.0), (2047, 0.0021722510426035657), (2048, 0.024891796430854138), (2049, 0.009905673536188974), (2050, 0.0), (2051, 0.010200122694359404), (2052, 0.01210631293753897), (2053, 0.014381887663564628), (2054, 0.0), (2055, 0.020222734798636812), (2056, 0.006427218007551207), (2057, 0.01117767562639063), (2058, 0.005859929531112492), (2059, 0.0), (2060, 0.0024724188817037405), (2061, 0.007148860598956218), (2062, 0.010520413852722477), (2063, 0.0), (2064, 0.004702448582289311), (2065, 0.008549997882936946), (2066, 0.013045502248942792), (2067, 0.0026219239779029626), (2068, 0.0023573459470765524), (2069, 0.006902058396498951), (2070, 0.017400284852713013), (2071, 0.0), (2072, 0.002585205029377129), (2073, 0.0025361097420627107), (2074, 0.009836571702121178), (2075, 0.009214495496489356), (2076, 0.007985269401341656), (2077, 0.008520397579271541), (2078, 0.003592345531031919), (2079, 0.0), (2080, 0.009206364642990163), (2081, 0.0), (2082, 0.032468802959369165), (2083, 0.0026200179886462943), (2084, 0.004873681273624045), (2085, 0.0), (2086, 0.0), (2087, 0.008838831232420515), (2088, 0.007382245516498227), (2089, 0.00829762224031176), (2090, 0.0), (2091, 0.007321538119788137), (2092, 0.0), (2093, 0.01072011855228052), (2094, 0.01035393017222776), (2095, 0.0061261413877569), (2096, 0.02169632506870541), (2097, 0.010506613716573895), (2098, 0.005515828327226138), (2099, 0.0023622182213819563), (2100, 0.03123962477668613), (2101, 0.007186264871565343), (2102, 0.02810698943193666), (2103, 0.008702409967704204), (2104, 0.0075169714785681616), (2105, 0.0026609896455577946), (2106, 0.0), (2107, 0.0), (2108, 0.002788130962304532), (2109, 0.034315940315008724), (2110, 0.01664797114387481), (2111, 0.0024732856079958377), (2112, 0.060528952274793074), (2113, 0.005044837737272177), (2114, 0.029121126226816636), (2115, 0.0), (2116, 0.00970276061988115), (2117, 0.002377119991751479), (2118, 0.0), (2119, 0.016682215503610015), (2120, 0.0), (2121, 0.013006487561698987), (2122, 0.03314273787847789), (2123, 0.034090048265449945), (2124, 0.0), (2125, 0.0), (2126, 0.00992150863168606), (2127, 0.0021018071954579474), (2128, 0.0), (2129, 0.0022881151720471875), (2130, 0.004648190066210324), (2131, 0.002425484444598892), (2132, 0.002078079040289845), (2133, 0.04993698948046461), (2134, 0.002804810597561646), (2135, 0.0), (2136, 0.004884486737906893), (2137, 0.003571135110382061), (2138, 0.0), (2139, 0.004288078471851592), (2140, 0.0), (2141, 0.00233746407462253), (2142, 0.0029312706764606736), (2143, 0.00854239439922974), (2144, 0.008905580940495341), (2145, 0.011434116749177506), (2146, 0.0021465189521295306), (2147, 0.0331786975833513), (2148, 0.0025840615262346127), (2149, 0.01651697861270133), (2150, 0.0), (2151, 0.04435728318565186), (2152, 0.0), (2153, 0.0), (2154, 0.026362255447608188), (2155, 0.03947604698218885), (2156, 0.005771792086136113), (2157, 0.021975096003714705), (2158, 0.008039868158019227), (2159, 0.0027758847029045425), (2160, 0.006237871777066207), (2161, 0.016156587786409233), (2162, 0.010577036389035127), (2163, 0.0021972788389613977), (2164, 0.0), (2165, 0.0), (2166, 0.002419310336593675), (2167, 0.01770005070269459), (2168, 0.0), (2169, 0.002496778704451558), (2170, 0.0), (2171, 0.0), (2172, 0.0), (2173, 0.0237162159904499), (2174, 0.02013662994024577), (2175, 0.006042670631612023), (2176, 0.002773009113599364), (2177, 0.01318495091251628), (2178, 0.011259301169772579), (2179, 0.0), (2180, 0.0), (2181, 0.005126826963806411), (2182, 0.0), (2183, 0.0), (2184, 0.006591777529971113), (2185, 0.005830318639887026), (2186, 0.0), (2187, 0.03791584231067814), (2188, 0.00865728634299258), (2189, 0.0035308876598396373), (2190, 0.0026441327666300763), (2191, 0.050074575560002846), (2192, 0.0025021422575162767), (2193, 0.009163877813203818), (2194, 0.0), (2195, 0.002456391874623394), (2196, 0.014654227518715751), (2197, 0.009301347266401482), (2198, 0.02792393104439217), (2199, 0.003272176100655928), (2200, 0.0), (2201, 0.0022998558609744345), (2202, 0.006228500601142605), (2203, 0.005924385329627094), (2204, 0.0), (2205, 0.0060311619404398), (2206, 0.010990497353457005), (2207, 0.0), (2208, 0.004817291322026986), (2209, 0.01004468701967466), (2210, 0.020976894233528172), (2211, 0.007582496534935386), (2212, 0.03597437656086739), (2213, 0.002220635914758714), (2214, 0.04858739769917951), (2215, 0.0), (2216, 0.013597743515195188), (2217, 0.0), (2218, 0.0), (2219, 0.0), (2220, 0.0), (2221, 0.028123396071670637), (2222, 0.0), (2223, 0.0028195573790179462), (2224, 0.013164421973360162), (2225, 0.0), (2226, 0.002441922817931847), (2227, 0.0), (2228, 0.009028333918008566), (2229, 0.01533327067171673), (2230, 0.002617710750592491), (2231, 0.005046446690862766), (2232, 0.004498514469243994), (2233, 0.0), (2234, 0.0), (2235, 0.011848376212804958), (2236, 0.008245396396870315), (2237, 0.018094238977803847), (2238, 0.0), (2239, 0.0063399214487660374), (2240, 0.0021945918284640106), (2241, 0.0), (2242, 0.0026386846394210535), (2243, 0.0), (2244, 0.0069944014955569565), (2245, 0.004390031706221437), (2246, 0.004530080908205641), (2247, 0.0), (2248, 0.04343978470820276), (2249, 0.0), (2250, 0.009361633313712172), (2251, 0.003504874914438138), (2252, 0.012534570295886949), (2253, 0.0), (2254, 0.014763792757433489), (2255, 0.00915898650727081), (2256, 0.0), (2257, 0.0032428141436510248), (2258, 0.016393602648723547), (2259, 0.0), (2260, 0.002677295483542219), (2261, 0.0), (2262, 0.0), (2263, 0.0), (2264, 0.00841582339492762), (2265, 0.008126111449825672), (2266, 0.0030766906289087436), (2267, 0.0), (2268, 0.0024782201950572353), (2269, 0.002882846449431872), (2270, 0.0021811225800088666), (2271, 0.0), (2272, 0.0), (2273, 0.005373995512970757), (2274, 0.0), (2275, 0.015721657003168264), (2276, 0.01806318798015752), (2277, 0.0094251093721207), (2278, 0.004692479643154248), (2279, 0.009228559355785614), (2280, 0.011421931782457963), (2281, 0.0), (2282, 0.0), (2283, 0.004769686727920864), (2284, 0.011579450679788331), (2285, 0.008079612012317909), (2286, 0.0032003961021961915), (2287, 0.0022762452274325226), (2288, 0.0026658531219086842), (2289, 0.002502966192810524), (2290, 0.015573170018616756), (2291, 0.006068990590164525), (2292, 0.0025157802567942556), (2293, 0.0026865277626373055), (2294, 0.04719695761808508), (2295, 0.03940574918142277), (2296, 0.0), (2297, 0.0), (2298, 0.015281746841070535), (2299, 0.004021695442063326), (2300, 0.0), (2301, 0.020226952776551222), (2302, 0.0028310820234295963), (2303, 0.008416022571922513), (2304, 0.007668138106491132), (2305, 0.0), (2306, 0.011429789068311335), (2307, 0.0), (2308, 0.03866319728664965), (2309, 0.008690555341321975), (2310, 0.0033632800339222636), (2311, 0.0), (2312, 0.0), (2313, 0.002572961307846896), (2314, 0.004999250695069344), (2315, 0.0), (2316, 0.035268365624805106), (2317, 0.002300541305682641), (2318, 0.05707927329586435), (2319, 0.00260977860932939), (2320, 0.002845339035515033), (2321, 0.04081495956387228), (2322, 0.0), (2323, 0.002224966740925027), (2324, 0.006490411397111375), (2325, 0.0), (2326, 0.0035444853080943265), (2327, 0.0), (2328, 0.005621402305500347), (2329, 0.0), (2330, 0.004758783997130863), (2331, 0.0), (2332, 0.0), (2333, 0.0), (2334, 0.014634297435482928), (2335, 0.006403365694251302), (2336, 0.011691863398944975), (2337, 0.0), (2338, 0.0022595453133780943), (2339, 0.007493830019794771), (2340, 0.002517925683051792), (2341, 0.0), (2342, 0.0), (2343, 0.027310214475150356), (2344, 0.0071145346566644264), (2345, 0.0), (2346, 0.010832938873091018), (2347, 0.016611230503897536), (2348, 0.006678803794170804), (2349, 0.003482280279167295), (2350, 0.003220753613890983), (2351, 0.0), (2352, 0.0), (2353, 0.015895622048420408), (2354, 0.0024995032901753375), (2355, 0.005837971990251375), (2356, 0.0027994868033123016), (2357, 0.0), (2358, 0.057586158580185), (2359, 0.0021344435080950497), (2360, 0.0), (2361, 0.0026586162956104453), (2362, 0.01902500451680308), (2363, 0.008682102522378811), (2364, 0.0), (2365, 0.03214724743803736), (2366, 0.013762283321815538), (2367, 0.0023688637563963806), (2368, 0.018356813278646675), (2369, 0.0), (2370, 0.002608422100357918), (2371, 0.03481293120308065), (2372, 0.0), (2373, 0.0), (2374, 0.04637172135355201), (2375, 0.036350725007106156), (2376, 0.015115799057831399), (2377, 0.0), (2378, 0.0029526279447286263), (2379, 0.003634802027080094), (2380, 0.0), (2381, 0.0), (2382, 0.002160168137816262), (2383, 0.012898764546412407), (2384, 0.0), (2385, 0.002594722249535557), (2386, 0.0025749193033221974), (2387, 0.0025298460527620322), (2388, 0.006169508987064162), (2389, 0.0), (2390, 0.0027554418317006293), (2391, 0.0026287833365470823), (2392, 0.0032904000043177104), (2393, 0.002640620715906779), (2394, 0.025506270192633566), (2395, 0.0), (2396, 0.0025279650491787484), (2397, 0.0024890061615798252), (2398, 0.0), (2399, 0.0022956805734599215), (2400, 0.002845235845814551), (2401, 0.0023923183966626524), (2402, 0.00223286247095405), (2403, 0.010331323768874969), (2404, 0.0034270001817802683), (2405, 0.0025502453291965433), (2406, 0.016563267634485925), (2407, 0.003483935585306541), (2408, 0.024552169258630935), (2409, 0.0), (2410, 0.0027586131912669285), (2411, 0.0028414386511734484), (2412, 0.012179871751350848), (2413, 0.029892662322827484), (2414, 0.0), (2415, 0.003054421814917081), (2416, 0.002504280456621625), (2417, 0.048123788254843834), (2418, 0.009741005640064885), (2419, 0.002621040143298445), (2420, 0.0), (2421, 0.011300245554272895), (2422, 0.0024793143166305), (2423, 0.0031758003078109992), (2424, 0.006382246398721183), (2425, 0.003266551987258107), (2426, 0.00577458303536401), (2427, 0.008058543180606219), (2428, 0.007949809347826346), (2429, 0.011280392297123113), (2430, 0.0025012736132878763), (2431, 0.0), (2432, 0.004407648347862745), (2433, 0.0), (2434, 0.002983365970744531), (2435, 0.0), (2436, 0.009925672963628417), (2437, 0.0028542921470998514), (2438, 0.003104696957130553), (2439, 0.005413848517538367), (2440, 0.020901962327745896), (2441, 0.00201583563832872), (2442, 0.004262383866190122), (2443, 0.0303115759339191), (2444, 0.007144850656860124), (2445, 0.0), (2446, 0.0023414275808984054), (2447, 0.012141552620684417), (2448, 0.0032013955285303984), (2449, 0.021612878852790222), (2450, 0.0), (2451, 0.0), (2452, 0.0), (2453, 0.0022906621822591524), (2454, 0.0030434782204011327), (2455, 0.0), (2456, 0.0), (2457, 0.0022929668142684895), (2458, 0.0), (2459, 0.008382709257886888), (2460, 0.013309882246881562), (2461, 0.0024371766851670677), (2462, 0.0), (2463, 0.008866800714796284), (2464, 0.010454863285716633), (2465, 0.0), (2466, 0.0025718792503352248), (2467, 0.025570626966547324), (2468, 0.013382708005819335), (2469, 0.019104264774502493), (2470, 0.0), (2471, 0.0), (2472, 0.0), (2473, 0.008596876329258247), (2474, 0.011913614346373417), (2475, 0.0027102085989328143), (2476, 0.03210932069419572), (2477, 0.007649224947872928), (2478, 0.0028786774711015593), (2479, 0.0), (2480, 0.010837373798818873), (2481, 0.028390644029891696), (2482, 0.002325201910181711), (2483, 0.0), (2484, 0.02409781193939523), (2485, 0.0), (2486, 0.012805600771036606), (2487, 0.02841675049313492), (2488, 0.003063064612178472), (2489, 0.009691979081255199), (2490, 0.003629788506695366), (2491, 0.0), (2492, 0.0025253415931351052), (2493, 0.0), (2494, 0.009637613731333464), (2495, 0.0026409385145893605), (2496, 0.00668384592610646), (2497, 0.0), (2498, 0.0), (2499, 0.0), (2500, 0.0), (2501, 0.004583340858468838), (2502, 0.002274928252011334), (2503, 0.006413179799931297), (2504, 0.0), (2505, 0.010043747008705493), (2506, 0.004591186880011833), (2507, 0.0027153642696715), (2508, 0.0), (2509, 0.0020688910280137556), (2510, 0.007362282305624375), (2511, 0.0), (2512, 0.009282121926431082), (2513, 0.01793899156463565), (2514, 0.0), (2515, 0.0), (2516, 0.0), (2517, 0.03082086374087346), (2518, 0.0), (2519, 0.007362081598032509), (2520, 0.002151307851139451), (2521, 0.0), (2522, 0.015025381397734391), (2523, 0.0), (2524, 0.01975014533045475), (2525, 0.0023186075212443167), (2526, 0.0020841886024324137), (2527, 0.00230968029276432), (2528, 0.0023794083484433), (2529, 0.0036560054626594823), (2530, 0.04335302982427826), (2531, 0.0026202182428779262), (2532, 0.0), (2533, 0.0024845631517374125), (2534, 0.0011384699607816465), (2535, 0.002779758271542886), (2536, 0.0), (2537, 0.0034502966040379493), (2538, 0.06931113204564325), (2539, 0.0), (2540, 0.03740288215848378), (2541, 0.0038940098489985355), (2542, 0.0), (2543, 0.0), (2544, 0.0029260272280998826), (2545, 0.009412870159440633), (2546, 0.00997521344734453), (2547, 0.0), (2548, 0.0), (2549, 0.0), (2550, 0.04753389811152331), (2551, 0.0), (2552, 0.002354278575074476), (2553, 0.017485595486105305), (2554, 0.0025176602001921746), (2555, 0.00789614757083258), (2556, 0.0023281893103928634), (2557, 0.003111607423574239), (2558, 0.08045145054187186), (2559, 0.0033042418524892674), (2560, 0.023732728152181522), (2561, 0.0026193404148204605), (2562, 0.0), (2563, 0.007395696254180181), (2564, 0.0), (2565, 0.009443819450543157), (2566, 0.0), (2567, 0.005371129939067366), (2568, 0.0110287755415501), (2569, 0.0024531320717916263), (2570, 0.002930002009298416), (2571, 0.0023773369997769776), (2572, 0.00873659074283564), (2573, 0.00373880937617741), (2574, 0.0), (2575, 0.0), (2576, 0.005142477127495563), (2577, 0.0), (2578, 0.0), (2579, 0.04762107538054919), (2580, 0.006324173769516193), (2581, 0.008771193728264905), (2582, 0.020132832146344298), (2583, 0.0), (2584, 0.0), (2585, 0.0028070183826186526), (2586, 0.0), (2587, 0.007976215609474556), (2588, 0.0), (2589, 0.0), (2590, 0.0), (2591, 0.0022348378322634955), (2592, 0.002752248219793962), (2593, 0.0024218078161973), (2594, 0.0), (2595, 0.0027473467696254856), (2596, 0.0), (2597, 0.0), (2598, 0.020920975439664972), (2599, 0.00494071071366412), (2600, 0.008772855838087366), (2601, 0.009394063401648656), (2602, 0.011907441180765088), (2603, 0.007621837146718701), (2604, 0.0), (2605, 0.0), (2606, 0.007086615817966379), (2607, 0.018888232383535722), (2608, 0.0), (2609, 0.0026678697815603145), (2610, 0.002677705311841747), (2611, 0.002168145606871626), (2612, 0.0023589606097790296), (2613, 0.0029643168318824334), (2614, 0.028594633577050086), (2615, 0.0), (2616, 0.0), (2617, 0.012017377014073209), (2618, 0.01902889958051492), (2619, 0.0029295172208314017), (2620, 0.0), (2621, 0.031107853082682338), (2622, 0.03677764272037447), (2623, 0.0028508561708638093), (2624, 0.002683151764395737), (2625, 0.010881120891697637), (2626, 0.004975052985229956), (2627, 0.0), (2628, 0.0032776788451781805), (2629, 0.0028374011822832174), (2630, 0.048415329777977856), (2631, 0.0), (2632, 0.013316184329444236), (2633, 0.009360170395295903), (2634, 0.002334611009027238), (2635, 0.008179285723635271), (2636, 0.0018600720478565843), (2637, 0.0), (2638, 0.023407196744519073), (2639, 0.015157957762883232), (2640, 0.009249667125090361), (2641, 0.0), (2642, 0.0024251284655116266), (2643, 0.0032584277269102793), (2644, 0.014567203700250383), (2645, 0.018019728654613185), (2646, 0.021289658407412922), (2647, 0.022699252354388307), (2648, 0.0), (2649, 0.023366267521585177), (2650, 0.018642473535595488), (2651, 0.002424131044370395), (2652, 0.0025266808226397253), (2653, 0.04667283145737938), (2654, 0.016412807813803804), (2655, 0.009396784347525375), (2656, 0.0), (2657, 0.0), (2658, 0.0), (2659, 0.0), (2660, 0.00424830720170082), (2661, 0.002702730306658956), (2662, 0.0), (2663, 0.0), (2664, 0.0026808404792378194), (2665, 0.005322568221368245), (2666, 0.0), (2667, 0.0), (2668, 0.021009441571108102), (2669, 0.0), (2670, 0.0), (2671, 0.0), (2672, 0.0), (2673, 0.0033237018076361867), (2674, 0.0023186214646065306), (2675, 0.0), (2676, 0.0), (2677, 0.0), (2678, 0.004084981971476955), (2679, 0.0023569652565452624), (2680, 0.010372085888662144), (2681, 0.0), (2682, 0.004231380459846674), (2683, 0.00517550658846064), (2684, 0.0), (2685, 0.0), (2686, 0.0), (2687, 0.025759372769911658), (2688, 0.011333706623216493), (2689, 0.023934472596107113), (2690, 0.0), (2691, 0.006827378360882851), (2692, 1.0), (2693, 0.0), (2694, 0.04448792778293378), (2695, 0.013929348100835556), (2696, 0.0028558433298736256), (2697, 0.011530162044477104), (2698, 0.008780337366209721), (2699, 0.023402334378995453), (2700, 0.005141958197825219), (2701, 0.0), (2702, 0.0028676021939617546), (2703, 0.0), (2704, 0.0), (2705, 0.00272903289364169), (2706, 0.03008660535003356), (2707, 0.0029478241028728413), (2708, 0.006630948459902821), (2709, 0.0), (2710, 0.02922445591925697), (2711, 0.0043044658829748325), (2712, 0.01661445341625913), (2713, 0.023760650588339805), (2714, 0.007571092927209521), (2715, 0.0), (2716, 0.03743024980047589), (2717, 0.0), (2718, 0.02405693349761016), (2719, 0.0), (2720, 0.0028645467983808934), (2721, 0.002240259494899799), (2722, 0.0035311369366576493), (2723, 0.029923827182242464), (2724, 0.006372191158539124), (2725, 0.0026347406036982897), (2726, 0.0066286056959993685), (2727, 0.013847506466711991), (2728, 0.002387418253454752), (2729, 0.0), (2730, 0.0), (2731, 0.0033821340372425283), (2732, 0.006626278481505786), (2733, 0.005074255814931611), (2734, 0.0), (2735, 0.002314583164033961), (2736, 0.0042750549861226604), (2737, 0.0), (2738, 0.003034084591904086), (2739, 0.010153453358557898), (2740, 0.010117100915799659), (2741, 0.0022267733831242567), (2742, 0.016377858793340194), (2743, 0.002153264402050683), (2744, 0.00911599245796956), (2745, 0.04372115387587077), (2746, 0.0025522885638763235), (2747, 0.002187331550639441), (2748, 0.0027306437504473154), (2749, 0.0), (2750, 0.0), (2751, 0.03180902665951646), (2752, 0.00911838858684082), (2753, 0.002213049512968927), (2754, 0.0), (2755, 0.0026661087485570856), (2756, 0.0), (2757, 0.0038566540322216027), (2758, 0.0021414463591750434), (2759, 0.010799990595727038), (2760, 0.018702384238397672), (2761, 0.02414463085981602), (2762, 0.026686307433942198), (2763, 0.0), (2764, 0.0035809891652164817), (2765, 0.002421924480399569), (2766, 0.0019824567214897573), (2767, 0.01894370677004912), (2768, 0.02005340192064512), (2769, 0.010467691339817817), (2770, 0.0), (2771, 0.012695135960932098), (2772, 0.0029802912673289298), (2773, 0.0), (2774, 0.005129332708667809), (2775, 0.0034145871644854463), (2776, 0.002709294627670174), (2777, 0.014765640400632524), (2778, 0.00858491923923668), (2779, 0.0023936387664230106), (2780, 0.012137818800099304), (2781, 0.0), (2782, 0.028993086350033365), (2783, 0.002473600488594378), (2784, 0.014291406184261682), (2785, 0.0), (2786, 0.002687949525604932), (2787, 0.004409492496260036), (2788, 0.011555116563922808), (2789, 0.009076787988515052), (2790, 0.0047684544219185115), (2791, 0.028702490704328044), (2792, 0.0026123726217265222), (2793, 0.0), (2794, 0.0), (2795, 0.018262415379085576), (2796, 0.0028691489772651544), (2797, 0.003072210898047678), (2798, 0.00917627297969664), (2799, 0.0), (2800, 0.0023362816817861128), (2801, 0.0039026992305503856), (2802, 0.026617661986916157), (2803, 0.012554852124443006), (2804, 0.0), (2805, 0.013479931560835406), (2806, 0.0), (2807, 0.03019333754279295), (2808, 0.02011435160373888), (2809, 0.005276538571438211), (2810, 0.0), (2811, 0.0), (2812, 0.009025721834183641), (2813, 0.0), (2814, 0.0), (2815, 0.014061715678310764), (2816, 0.006745810739289076), (2817, 0.0), (2818, 0.0), (2819, 0.004758142263733477), (2820, 0.009615285534159617), (2821, 0.002609621062645853), (2822, 0.021350353306981307), (2823, 0.01733244169776945), (2824, 0.0), (2825, 0.006877550655998042), (2826, 0.0025131530854416695), (2827, 0.0), (2828, 0.0), (2829, 0.0), (2830, 0.0027584371636690725), (2831, 0.0089952083911471), (2832, 0.003295604477765456), (2833, 0.006227002818398564), (2834, 0.0030964631969696644), (2835, 0.0), (2836, 0.0), (2837, 0.0), (2838, 0.0032014375963315966), (2839, 0.0), (2840, 0.00790033578589062), (2841, 0.02022034008713701), (2842, 0.0), (2843, 0.007194195956293438), (2844, 0.007398870809757277), (2845, 0.0022667054632110745), (2846, 0.039946746171033824), (2847, 0.004506063093479992), (2848, 0.003066807999977457), (2849, 0.010097035212107213), (2850, 0.0), (2851, 0.0), (2852, 0.0), (2853, 0.002479863251548949), (2854, 0.007759090902634271), (2855, 0.0), (2856, 0.0), (2857, 0.003039866459597551), (2858, 0.0035723805944045985), (2859, 0.038431030020301946), (2860, 0.0), (2861, 0.0033351019710421066), (2862, 0.0023241523272885117), (2863, 0.0026093098709895363), (2864, 0.0), (2865, 0.0), (2866, 0.0), (2867, 0.019611731598040395), (2868, 0.03402242201286933), (2869, 0.040395318317564696), (2870, 0.003416355472561929), (2871, 0.010494197333717719), (2872, 0.0029011938021184895), (2873, 0.007362024835810535), (2874, 0.012306139461327154), (2875, 0.0), (2876, 0.02750716515585483), (2877, 0.0), (2878, 0.002631011372811229), (2879, 0.008611077679674761), (2880, 0.0), (2881, 0.008033945793423489), (2882, 0.00270509858914711), (2883, 0.003393163325770715), (2884, 0.0028573516649259), (2885, 0.015399002867355651), (2886, 0.009099595354885498), (2887, 0.029035756370426186), (2888, 0.0027227035769544603), (2889, 0.003469113075846275), (2890, 0.002777386280374643), (2891, 0.0), (2892, 0.002374448550774715), (2893, 0.04265315515055684), (2894, 0.002594409864471035), (2895, 0.002994820173654541), (2896, 0.0), (2897, 0.006770461146235005), (2898, 0.0), (2899, 0.006612058496678761), (2900, 0.0025082300789837954), (2901, 0.0032345874540251262), (2902, 0.0019027198458692594), (2903, 0.09992172948540987), (2904, 0.0025502754739500305), (2905, 0.0), (2906, 0.0), (2907, 0.002310170867932934), (2908, 0.028468277015056827), (2909, 0.0024411315979319774), (2910, 0.01469300674168639), (2911, 0.0026416720322710277), (2912, 0.026362035985140753), (2913, 0.011404180749779946), (2914, 0.0028240655453067483), (2915, 0.009816177155880835), (2916, 0.002822775247043328), (2917, 0.015951502220779457), (2918, 0.011190727224938383), (2919, 0.014615417069101215), (2920, 0.026528492007946856), (2921, 0.0), (2922, 0.0), (2923, 0.003378892482431557), (2924, 0.0028609997059869225), (2925, 0.01144133296667475), (2926, 0.0026265710968645275), (2927, 0.0), (2928, 0.0), (2929, 0.009749258492685035), (2930, 0.0), (2931, 0.014845959424085602), (2932, 0.018679698637694052), (2933, 0.007663205513800338), (2934, 0.009592072857156606), (2935, 0.005792200080918712), (2936, 0.0102008661900354), (2937, 0.0036027880538587), (2938, 0.0), (2939, 0.014421465526322607), (2940, 0.0026341759106025594), (2941, 0.0), (2942, 0.007873300936263173), (2943, 0.002511334261889826), (2944, 0.05005471774826381), (2945, 0.002424733921637461), (2946, 0.002472580752823629), (2947, 0.004845153778719943), (2948, 0.0091557244394735), (2949, 0.004730158904710785), (2950, 0.02402672243662291), (2951, 0.0), (2952, 0.0), (2953, 0.0026549629575376922), (2954, 0.0023737362707435664), (2955, 0.0), (2956, 0.0), (2957, 0.003070648968474022), (2958, 0.0), (2959, 0.004726770535558305), (2960, 0.004711854792380926), (2961, 0.013832738847478245), (2962, 0.006610911772022742), (2963, 0.0122815051082929), (2964, 0.009540037322604712), (2965, 0.0023733652984771966), (2966, 0.0030588937704423224), (2967, 0.0), (2968, 0.0), (2969, 0.012880814281878475), (2970, 0.0026775626719949693), (2971, 0.044996991170304444), (2972, 0.02590875717153487), (2973, 0.0), (2974, 0.0028146593523981924), (2975, 0.007797302656523455), (2976, 0.0022628637883772913), (2977, 0.009168336074696718), (2978, 0.012521017796976907), (2979, 0.0), (2980, 0.008677426492037399), (2981, 0.03360467060429935), (2982, 0.0), (2983, 0.0), (2984, 0.004139312657194488), (2985, 0.007463322611464264), (2986, 0.002950238365660173), (2987, 0.0029079762302870477), (2988, 0.013667073274481873), (2989, 0.0035119109032962907), (2990, 0.0), (2991, 0.004623096776090474), (2992, 0.010304828285720598), (2993, 0.003035722476775367), (2994, 0.00728617278073637), (2995, 0.019526056739408174), (2996, 0.015101144129869366), (2997, 0.0023726566427722477), (2998, 0.0037819716224939443), (2999, 0.0024555365043387976), (3000, 0.018390445438167324), (3001, 0.0), (3002, 0.0), (3003, 0.002817596025927303), (3004, 0.03229750305603301), (3005, 0.004603483368989649), (3006, 0.0), (3007, 0.0026877148772022855), (3008, 0.007267897474576614), (3009, 0.0), (3010, 0.04687223170076125), (3011, 0.004411540227047138), (3012, 0.015843218869664145), (3013, 0.0027697009172360856), (3014, 0.0023512520117870885), (3015, 0.0031850869230568967), (3016, 0.0025779463247321034), (3017, 0.025662754703813875), (3018, 0.0071875041957202785), (3019, 0.016389121434091637), (3020, 0.0030399613759065974), (3021, 0.0), (3022, 0.005172967771243591), (3023, 0.04335179247980441), (3024, 0.002069934087053698), (3025, 0.0), (3026, 0.0027739143996979338), (3027, 0.0022404081208751724), (3028, 0.025890300969472247), (3029, 0.0), (3030, 0.0034143514334331955), (3031, 0.003053510801240151), (3032, 0.00793811287008396), (3033, 0.006572481760459856), (3034, 0.0), (3035, 0.0067596421321475635), (3036, 0.01675771785945222), (3037, 0.002660432915949913), (3038, 0.0), (3039, 0.007154645151450025), (3040, 0.003519727695529142), (3041, 0.0), (3042, 0.0034080456848323186), (3043, 0.015636691935727115), (3044, 0.0027441918528274016), (3045, 0.034690977397115894), (3046, 0.008840548216288928), (3047, 0.0), (3048, 0.0), (3049, 0.005685168032129505), (3050, 0.002303371492156341), (3051, 0.003589977472121337), (3052, 0.003442350758853426), (3053, 0.0745629827209581), (3054, 0.0), (3055, 0.00341093217970737), (3056, 0.0021116479789844095), (3057, 0.0023215768839196503), (3058, 0.0), (3059, 0.0), (3060, 0.0), (3061, 0.0), (3062, 0.0027882988549341675), (3063, 0.0), (3064, 0.0027285754561404622), (3065, 0.011565118413795098), (3066, 0.006305628402938252), (3067, 0.008780377274796096), (3068, 0.020892800861222367), (3069, 0.0024367118034258188), (3070, 0.010500601216463987), (3071, 0.0023602883155480685), (3072, 0.0029219158437031505), (3073, 0.0), (3074, 0.003080921825522408), (3075, 0.002520797997184863), (3076, 0.012219373078775974), (3077, 0.0), (3078, 0.0), (3079, 0.004193647752729907), (3080, 0.0), (3081, 0.0029597572456461843), (3082, 0.0), (3083, 0.020023198578322864), (3084, 0.0026699677170183545), (3085, 0.017068730129025333), (3086, 0.014885913492990326), (3087, 0.0), (3088, 0.0), (3089, 0.0), (3090, 0.0), (3091, 0.04384248362494847), (3092, 0.0), (3093, 0.002469961760118792), (3094, 0.010513900980884915), (3095, 0.021740980094830425), (3096, 0.00782051095552241), (3097, 0.017928944980155792), (3098, 0.01669454969671041), (3099, 0.01044094711624312), (3100, 0.004278625361413209), (3101, 0.0026871380507877997), (3102, 0.03372000034365421), (3103, 0.0), (3104, 0.0), (3105, 0.0), (3106, 0.0), (3107, 0.0), (3108, 0.011938248355465923), (3109, 0.0), (3110, 0.012863408542185088), (3111, 0.018400210365670952), (3112, 0.0075848650947215575), (3113, 0.002559353690437755), (3114, 0.006127356376097385), (3115, 0.0), (3116, 0.0027562759337392494), (3117, 0.005123716902226019), (3118, 0.010907330667413284), (3119, 0.013086454776629314), (3120, 0.008807490980956333), (3121, 0.0), (3122, 0.0067746430098642105), (3123, 0.008630080944246934), (3124, 0.0047776440232900255), (3125, 0.007147158152196391), (3126, 0.00441575934046765), (3127, 0.035745913904724515), (3128, 0.0031629990524691142), (3129, 0.017209828859670356), (3130, 0.0), (3131, 0.004785504487894142), (3132, 0.0), (3133, 0.004248446462407863), (3134, 0.0047656940116667995), (3135, 0.00421816398540428), (3136, 0.004353353552466144), (3137, 0.030321306657572523), (3138, 0.0), (3139, 0.0035644843171044474), (3140, 0.003226249864829421), (3141, 0.0), (3142, 0.00957667639462741), (3143, 0.004149902825319217), (3144, 0.01860690008928484), (3145, 0.0), (3146, 0.029325576111183915), (3147, 0.002317452074389863), (3148, 0.0028452919954633656), (3149, 0.006620757750650949), (3150, 0.0025761571472339966), (3151, 0.008632666918936526), (3152, 0.006983712090732493), (3153, 0.02344619826293831), (3154, 0.025930521767082732), (3155, 0.009696330631041472), (3156, 0.02546732751141653), (3157, 0.030347294186394265), (3158, 0.005074480153087209), (3159, 0.003156419856488163), (3160, 0.003986764909151895), (3161, 0.004381958887846974), (3162, 0.0), (3163, 0.005027291288206888), (3164, 0.0054460026229962285), (3165, 0.002894460770695759), (3166, 0.0034886240469105467), (3167, 0.02586240525583789), (3168, 0.005428494367993246), (3169, 0.0), (3170, 0.0023873925613603006), (3171, 0.009056198515417585), (3172, 0.0), (3173, 0.00243960092574239), (3174, 0.0271230650672411), (3175, 0.0), (3176, 0.0), (3177, 0.0), (3178, 0.003984216619338233), (3179, 0.00463920059793221), (3180, 0.0050007050480904225), (3181, 0.0), (3182, 0.0025214747831004167), (3183, 0.0026701967782158044), (3184, 0.002679120491657041), (3185, 0.0069491485285606905), (3186, 0.0028914191267250928), (3187, 0.0026612717239797804), (3188, 0.0), (3189, 0.0), (3190, 0.0), (3191, 0.005000134970871687), (3192, 0.008007054634034023), (3193, 0.0), (3194, 0.0024094786755617446), (3195, 0.006997095825444425), (3196, 0.00778729212799309), (3197, 0.0), (3198, 0.0026276492264518414), (3199, 0.001934153433464742), (3200, 0.0021048498640073797), (3201, 0.0), (3202, 0.0), (3203, 0.04897976886508871), (3204, 0.0), (3205, 0.005021977988435742), (3206, 0.002957386098887854), (3207, 0.0), (3208, 0.0), (3209, 0.0399033716900616), (3210, 0.014457696665956714), (3211, 0.0021413373683246695), (3212, 0.0), (3213, 0.016717641715094822), (3214, 0.002411884358128633), (3215, 0.009346119849081564), (3216, 0.0025058049051714915), (3217, 0.0), (3218, 0.009638168390328723), (3219, 0.0032104282482890074), (3220, 0.002424051616219937), (3221, 0.0), (3222, 0.020896775481258373), (3223, 0.0), (3224, 0.002593150704293012), (3225, 0.002594665415129327), (3226, 0.016174120151118812), (3227, 0.0070236426839965825), (3228, 0.01649113237614827), (3229, 0.0), (3230, 0.0028281600869760584), (3231, 0.0), (3232, 0.010983970699643807), (3233, 0.007287755615945461), (3234, 0.0027338377986514573), (3235, 0.0026506752410943493), (3236, 0.0), (3237, 0.008752592774749612), (3238, 0.0021921622633508217), (3239, 0.0031637206621927274), (3240, 0.010943753382268339), (3241, 0.0026137114502247354), (3242, 0.0025880383091899987), (3243, 0.0023118987230045), (3244, 0.006012442457048305), (3245, 0.007048930876908024), (3246, 0.008565858138297196), (3247, 0.004060896422418147), (3248, 0.06635385784191229), (3249, 0.041682600877822516), (3250, 0.0), (3251, 0.0), (3252, 0.002161894305947563), (3253, 0.014823994721121659), (3254, 0.02064626617046418), (3255, 0.03361691035787587), (3256, 0.007592991270073049), (3257, 0.0030178282016689525), (3258, 0.0027406474853877406), (3259, 0.007449764376127289), (3260, 0.0256107680838153), (3261, 0.0), (3262, 0.0032400998186056817), (3263, 0.0049736903449815765), (3264, 0.00938326922811035), (3265, 0.006585283174863044), (3266, 0.0), (3267, 0.008616746969348606), (3268, 0.0023991980946641033), (3269, 0.0026872805500832613), (3270, 0.0), (3271, 0.0026973190207378516), (3272, 0.0), (3273, 0.0027390457976848516), (3274, 0.0028388535165588015), (3275, 0.016367711508585715), (3276, 0.11817887622111357), (3277, 0.0), (3278, 0.0022851400626321757), (3279, 0.01670633871773417), (3280, 0.03580157898498387), (3281, 0.0), (3282, 0.0031570723901786697), (3283, 0.0025568484885762043), (3284, 0.018326260973139517), (3285, 0.025237386444757273), (3286, 0.0), (3287, 0.0), (3288, 0.006373294893902552), (3289, 0.002523519047594144), (3290, 0.0026237486534054313), (3291, 0.003381832905417852), (3292, 0.0032885720272469807), (3293, 0.009021435347237507), (3294, 0.04630575923257293), (3295, 0.014149656653243105), (3296, 0.0028666082442226604), (3297, 0.009880474866627364), (3298, 0.002408053497345099), (3299, 0.015309124734658392), (3300, 0.002338911836965301), (3301, 0.001963438134399003), (3302, 0.0030128885901155155), (3303, 0.007204577716633015), (3304, 0.002262975292703365), (3305, 0.0), (3306, 0.015035504463564149), (3307, 0.0029250859199378676), (3308, 0.002919782359127823), (3309, 0.006189080565346656), (3310, 0.0), (3311, 0.0023012796307879013), (3312, 0.013463896860692394), (3313, 0.03171468145553814), (3314, 0.0026157401513529945), (3315, 0.0342313735010208), (3316, 0.006945008016664736), (3317, 0.011594565752971481), (3318, 0.012659486689482285), (3319, 0.01960040975879237), (3320, 0.0), (3321, 0.0), (3322, 0.0032438084484336786), (3323, 0.0), (3324, 0.0), (3325, 0.011856777757190051), (3326, 0.02879614080872612), (3327, 0.0022523638137721238), (3328, 0.02972517143821663), (3329, 0.008134892199258977), (3330, 0.03272444666400885), (3331, 0.00589861537774076), (3332, 0.0), (3333, 0.0), (3334, 0.05567777639102359), (3335, 0.0025043240888378377), (3336, 0.002230737887795451), (3337, 0.002896269581689198), (3338, 0.0043148042575294155), (3339, 0.0038908816942194893), (3340, 0.0), (3341, 0.0025203976645616242), (3342, 0.006537124699010946), (3343, 0.0), (3344, 0.026713805578408432), (3345, 0.02148710887771689), (3346, 0.00913452608306815), (3347, 0.0020855633550605074), (3348, 0.002415310543333334), (3349, 0.0073623265880255265), (3350, 0.0), (3351, 0.03423054295049383), (3352, 0.01977442145876544), (3353, 0.002612497385748243), (3354, 0.0031675511601737686), (3355, 0.002875585180682385), (3356, 0.013874119018560761), (3357, 0.003036091973547817), (3358, 0.003038716458875922), (3359, 0.002927537229142417), (3360, 0.05267791858153843), (3361, 0.004259381414856205), (3362, 0.03650907911897329), (3363, 0.0031373767597386655), (3364, 0.002895697653406516), (3365, 0.001758848860686119), (3366, 0.0), (3367, 0.004508832700914648), (3368, 0.0), (3369, 0.00232655037423504), (3370, 0.013427549016267165), (3371, 0.0), (3372, 0.002626626870694112), (3373, 0.038849212764871105), (3374, 0.014086772246413224), (3375, 0.015306826933174355), (3376, 0.030858045072960114), (3377, 0.031569258734095405), (3378, 0.0), (3379, 0.0024154168559003064), (3380, 0.002202289886557609), (3381, 0.0024737793509241545), (3382, 0.009863958082582114), (3383, 0.0), (3384, 0.02087912256791883), (3385, 0.05828216785020658), (3386, 0.009031256911697295), (3387, 0.01195528554979109), (3388, 0.002608380190778218), (3389, 0.008132108758065065), (3390, 0.002341228810988396), (3391, 0.005590603158482884), (3392, 0.0016473223003583793), (3393, 0.0021445660903492737), (3394, 0.0), (3395, 0.04742842093839997), (3396, 0.0029069408159874133), (3397, 0.0), (3398, 0.004767079169287236), (3399, 0.008376253952686149), (3400, 0.0), (3401, 0.0), (3402, 0.0024730137622581247), (3403, 0.018303824782196783), (3404, 0.004810074782254), (3405, 0.003859253258163435), (3406, 0.002678020935853098), (3407, 0.014799612558643139), (3408, 0.04269187873909186), (3409, 0.03781879228856261), (3410, 0.00722811774232353), (3411, 0.0), (3412, 0.002424880649144133), (3413, 0.0029976749258671426), (3414, 0.0027639263395493247), (3415, 0.0), (3416, 0.017999391068940006), (3417, 0.002758970284530619), (3418, 0.00853314377279759), (3419, 0.002889620627791879), (3420, 0.02885761894484972), (3421, 0.01453375710380096), (3422, 0.0), (3423, 0.01027021284038357), (3424, 0.0), (3425, 0.002843357921344212), (3426, 0.010300822938962678), (3427, 0.040573963334458577), (3428, 0.02424015707831747), (3429, 0.0031556863710822773), (3430, 0.032596378437373154), (3431, 0.0020188012284049752), (3432, 0.004524557126474984), (3433, 0.021365887279389772), (3434, 0.0026750553556390234), (3435, 0.007126650002150235), (3436, 0.007205464551761305), (3437, 0.014835512471018296), (3438, 0.004716934672929237), (3439, 0.0), (3440, 0.005231911738482194), (3441, 0.0024697525494665456), (3442, 0.0), (3443, 0.004615311208702314), (3444, 0.0), (3445, 0.0025661621047709774), (3446, 0.023069852661966442), (3447, 0.026095049474357736), (3448, 0.005547424566403696), (3449, 0.0026797018634517897), (3450, 0.061461314863712396), (3451, 0.004901632695815954), (3452, 0.00679332092196514), (3453, 0.008035643168382626), (3454, 0.0), (3455, 0.002304115447959362), (3456, 0.007501678190224438), (3457, 0.006914455420943113), (3458, 0.00637273361309135), (3459, 0.0), (3460, 0.006554025736159258), (3461, 0.0), (3462, 0.060112472153709885), (3463, 0.06007991392602277), (3464, 0.007347730832417932), (3465, 0.03350111420970205), (3466, 0.02482256056530832), (3467, 0.0), (3468, 0.005150601002306151), (3469, 0.02057276076711399), (3470, 0.03445610924695802), (3471, 0.021064787419459188), (3472, 0.0), (3473, 0.0), (3474, 0.006272352511418668), (3475, 0.0), (3476, 0.0), (3477, 0.002430213149957474), (3478, 0.002527250755893183), (3479, 0.003349336613179853), (3480, 0.0693216414739993), (3481, 0.0), (3482, 0.0), (3483, 0.021774394398272858), (3484, 0.003800941373651795), (3485, 0.0), (3486, 0.03770186015201463), (3487, 0.006805286493463305), (3488, 0.027292874071004766), (3489, 0.0), (3490, 0.0), (3491, 0.002528848201077413), (3492, 0.020845326734657877), (3493, 0.002573496299578065), (3494, 0.0), (3495, 0.004085015520184606), (3496, 0.0026663416754861844), (3497, 0.002698063020712726), (3498, 0.036650390195328585), (3499, 0.006981834231678465), (3500, 0.002365884822376753), (3501, 0.007186035403705687), (3502, 0.005525704517730759), (3503, 0.0023674791849719375), (3504, 0.019504639300872442), (3505, 0.0), (3506, 0.0028541701127507255), (3507, 0.011880534940912018), (3508, 0.019925790837731702), (3509, 0.005716848959262505), (3510, 0.0), (3511, 0.036620088457132646), (3512, 0.00386419107429857), (3513, 0.004798457856002004), (3514, 0.007384202638079246), (3515, 0.007042455232975479), (3516, 0.007527344434962101), (3517, 0.0025766876195387188), (3518, 0.04394628460810231), (3519, 0.0), (3520, 0.0045791201718299365), (3521, 0.008728440129036695), (3522, 0.0), (3523, 0.003612339593039543), (3524, 0.010409192641672536), (3525, 0.0), (3526, 0.00254803373580227), (3527, 0.0026048611783662198), (3528, 0.017000774740617577), (3529, 0.0), (3530, 0.0), (3531, 0.006849310188237343), (3532, 0.0), (3533, 0.0), (3534, 0.00411427345045494), (3535, 0.01358482942825957), (3536, 0.009276345454713173), (3537, 0.003047257218275104), (3538, 0.00200491192223615), (3539, 0.0), (3540, 0.0029300135794908394), (3541, 0.015392649708940526), (3542, 0.0025511410562527), (3543, 0.0), (3544, 0.0030504990682321846), (3545, 0.0), (3546, 0.0018728014919586757), (3547, 0.0), (3548, 0.0021414058447849567), (3549, 0.0), (3550, 0.0), (3551, 0.002553610088860637), (3552, 0.042593966465602776), (3553, 0.020409202757450944), (3554, 0.0), (3555, 0.0045654369498934625), (3556, 0.033961727389037986), (3557, 0.0024619319851531384), (3558, 0.014074951599153375), (3559, 0.04144448888388397), (3560, 0.002917232208995725), (3561, 0.0034540958092944495), (3562, 0.0), (3563, 0.0023029978138341786), (3564, 0.0025216097061951225), (3565, 0.0025679147869533403), (3566, 0.0063228785251991885), (3567, 0.0), (3568, 0.0), (3569, 0.0021799261551871617), (3570, 0.006916693907146111), (3571, 0.007230232265450394), (3572, 0.029140499815341305), (3573, 0.024804619634616474), (3574, 0.02730654077519304), (3575, 0.0020878708342956863), (3576, 0.0046189720533890205), (3577, 0.003091196571483285), (3578, 0.0), (3579, 0.007606481982242782), (3580, 0.015050677855720588), (3581, 0.0), (3582, 0.011108656282831548), (3583, 0.004455352960110845), (3584, 0.0049654599385202565), (3585, 0.0), (3586, 0.007511996858648905), (3587, 0.002763953593322297), (3588, 0.0056142989050786156), (3589, 0.0), (3590, 0.002656098637016431), (3591, 0.0), (3592, 0.0), (3593, 0.002787437037857896), (3594, 0.006459197276756882), (3595, 0.0), (3596, 0.009110772825361886), (3597, 0.029585030430490353), (3598, 0.005807262626973394), (3599, 0.009583720827614446), (3600, 0.0), (3601, 0.002684768653735256), (3602, 0.0044306064728112755), (3603, 0.0), (3604, 0.004901730524698704), (3605, 0.027048278227908097), (3606, 0.002559566749362903), (3607, 0.0), (3608, 0.0016438135605315826), (3609, 0.0), (3610, 0.0), (3611, 0.0027973377817235618), (3612, 0.00955767426606952), (3613, 0.003105668150180536), (3614, 0.0022609829544925396), (3615, 0.0023601261965112007), (3616, 0.0031049792115302897), (3617, 0.0), (3618, 0.007645758966348043), (3619, 0.003963802550832409), (3620, 0.003055370328541391), (3621, 0.002943212634561816), (3622, 0.0), (3623, 0.007407177696635774), (3624, 0.007011887659469142), (3625, 0.0), (3626, 0.0019099486918721202), (3627, 0.0023261617268981664), (3628, 0.0), (3629, 0.020756158188770135), (3630, 0.013161097449958555), (3631, 0.0), (3632, 0.006572936808806602), (3633, 0.0), (3634, 0.007748702462816223), (3635, 0.00959857242902619), (3636, 0.0025928889138422608), (3637, 0.012313739545796818), (3638, 0.008801306247357239), (3639, 0.002826658846761424), (3640, 0.015579432147520122), (3641, 0.0024154255941903524), (3642, 0.01489974414082636), (3643, 0.009363223612850143), (3644, 0.0), (3645, 0.007551777577819434), (3646, 0.002362195509904726), (3647, 0.00246638344719103), (3648, 0.006766123790280734), (3649, 0.0), (3650, 0.0), (3651, 0.002870523624219936), (3652, 0.03679088588387544), (3653, 0.007270998281580424), (3654, 0.002579391551369992), (3655, 0.051308450806613795), (3656, 0.031908150981008326), (3657, 0.002150394746672146), (3658, 0.005890219348270294), (3659, 0.01241211950507043), (3660, 0.013368479873574783), (3661, 0.015376044334377396), (3662, 0.0), (3663, 0.0), (3664, 0.004346721314881718), (3665, 0.020477693361298236), (3666, 0.007274953589428866), (3667, 0.008690453027049903), (3668, 0.0021301067099972113), (3669, 0.002240365249063258), (3670, 0.014583250334950962), (3671, 0.0), (3672, 0.0035704643937011843), (3673, 0.0024792382553408313), (3674, 0.009752154421656927), (3675, 0.01684479916214706), (3676, 0.0), (3677, 0.002784680447521845), (3678, 0.0026024436536866424), (3679, 0.009625695214053754), (3680, 0.007979328422761722), (3681, 0.0), (3682, 0.0), (3683, 0.0), (3684, 0.02583372281760962), (3685, 0.0), (3686, 0.0), (3687, 0.003142589155016573), (3688, 0.026771741959696754), (3689, 0.009143027982556388), (3690, 0.0), (3691, 0.002395557415334562), (3692, 0.024252074063556568), (3693, 0.0), (3694, 0.014892146355622372), (3695, 0.0), (3696, 0.006713541734334276), (3697, 0.0), (3698, 0.0), (3699, 0.01473722102102996), (3700, 0.0), (3701, 0.027247154812665837), (3702, 0.0), (3703, 0.0), (3704, 0.0076353424939670095), (3705, 0.006368298230997622), (3706, 0.0024570543290760283), (3707, 0.0025518953517330075), (3708, 0.013367004245360897), (3709, 0.0), (3710, 0.004822311167843336), (3711, 0.024465737647001693), (3712, 0.0), (3713, 0.014917549534545264), (3714, 0.002740761109103277), (3715, 0.0059098779364265075), (3716, 0.0), (3717, 0.0), (3718, 0.0), (3719, 0.002453608610849402), (3720, 0.029760238750603976), (3721, 0.006061830198697157), (3722, 0.0), (3723, 0.004261446421598328), (3724, 0.0), (3725, 0.0023388327634204583), (3726, 0.0), (3727, 0.007006267219580155), (3728, 0.05788325306005987), (3729, 0.00290543800216373), (3730, 0.0), (3731, 0.034134455046226295), (3732, 0.0), (3733, 0.008445706562013666), (3734, 0.006803812700761207), (3735, 0.0), (3736, 0.0), (3737, 0.0028141418476231423), (3738, 0.0), (3739, 0.0024844983398893813), (3740, 0.0), (3741, 0.013650669683095966), (3742, 0.0022916730096618054), (3743, 0.0), (3744, 0.005530742326646761), (3745, 0.0029465682553409655), (3746, 0.024193080292921), (3747, 0.0115522735836495), (3748, 0.005625742215934271), (3749, 0.0027281095780331797), (3750, 0.012422137150444473), (3751, 0.026835438480504556), (3752, 0.005812869043176029), (3753, 0.04421208265121599), (3754, 0.0029116658754061372), (3755, 0.0022230663198819374), (3756, 0.011372973033862772), (3757, 0.0026782835798830544), (3758, 0.0), (3759, 0.0), (3760, 0.0), (3761, 0.0), (3762, 0.003283091431363721), (3763, 0.003191426886011377), (3764, 0.0), (3765, 0.0026188142955719234), (3766, 0.016777140247980785), (3767, 0.02756900374737447), (3768, 0.012355697152937536), (3769, 0.004712252338778529), (3770, 0.0026395868980592205), (3771, 0.0075869777081051925), (3772, 0.0029527861697368294), (3773, 0.02323866225008007), (3774, 0.004948778897254939), (3775, 0.010674649780105454), (3776, 0.0038700568989762114), (3777, 0.014875962133910183), (3778, 0.021267723850448613), (3779, 0.10050436766628786), (3780, 0.007437824710920286), (3781, 0.002682522630705518), (3782, 0.004885626497420448), (3783, 0.0), (3784, 0.0085520307352783), (3785, 0.0), (3786, 0.0), (3787, 0.004959201567449419), (3788, 0.004242314787697264), (3789, 0.0), (3790, 0.0), (3791, 0.0), (3792, 0.002504134977009599), (3793, 0.04392348451633257), (3794, 0.010975194126985274), (3795, 0.002259829376634017), (3796, 0.0), (3797, 0.015024699431754291), (3798, 0.0), (3799, 0.0023701059133738544), (3800, 0.0), (3801, 0.024272549393716834), (3802, 0.00497586381623068), (3803, 0.0), (3804, 0.002808642438996641), (3805, 0.0), (3806, 0.003885639293619035), (3807, 0.014095406219461613), (3808, 0.0), (3809, 0.0025768864083410233), (3810, 0.02313195048386482), (3811, 0.0025015574548563247), (3812, 0.0), (3813, 0.002720414933057124), (3814, 0.028533846895408936), (3815, 0.0046325968946456615), (3816, 0.0), (3817, 0.0), (3818, 0.0), (3819, 0.013263669487980875), (3820, 0.0), (3821, 0.007434503415478042), (3822, 0.009933523944725237), (3823, 0.00434250258534028), (3824, 0.004244095044377894), (3825, 0.005839702542821597), (3826, 0.008525543415900352), (3827, 0.0024712126459442867), (3828, 0.017838758388942007), (3829, 0.00818646267421773), (3830, 0.0), (3831, 0.0), (3832, 0.0030768399307806176), (3833, 0.004675007856507132), (3834, 0.0), (3835, 0.023908434838357334), (3836, 0.0), (3837, 0.0), (3838, 0.0), (3839, 0.022134032881947676), (3840, 0.0), (3841, 0.006410512826830769), (3842, 0.006427192258913068), (3843, 0.0), (3844, 0.0057260882033807305), (3845, 0.0027272479470298997), (3846, 0.0), (3847, 0.0), (3848, 0.003191927691698722), (3849, 0.011932582333402176), (3850, 0.029866679946073615), (3851, 0.0), (3852, 0.0268980060982987), (3853, 0.01872438986120975), (3854, 0.0639571348798037), (3855, 0.002115790451190465), (3856, 0.0), (3857, 0.0195396216232286), (3858, 0.0), (3859, 0.0), (3860, 0.01035341597520488), (3861, 0.01351383754508014), (3862, 0.015089109255621099), (3863, 0.002271294064881525), (3864, 0.006031654908555931), (3865, 0.005814162503391022), (3866, 0.0029229290204135787), (3867, 0.03908635018889636), (3868, 0.02333092432520789), (3869, 0.0), (3870, 0.0), (3871, 0.0270313922566541), (3872, 0.023790383918372456), (3873, 0.002650627700422684), (3874, 0.003065820737975067), (3875, 0.017849256426625763), (3876, 0.006463447380327895), (3877, 0.002733304032760312), (3878, 0.0032578388259897665), (3879, 0.0), (3880, 0.029220774511576012), (3881, 0.004269611974546611), (3882, 0.0025603533066561376), (3883, 0.016056335443730134), (3884, 0.0029140875377317204), (3885, 0.0), (3886, 0.004410337519086867), (3887, 0.0), (3888, 0.009581091820779144), (3889, 0.0026959303482641554), (3890, 0.0024078367034495902), (3891, 0.022178110772134177), (3892, 0.003275850809361991), (3893, 0.002749142151798935), (3894, 0.0022095662026586573), (3895, 0.015645360256884344), (3896, 0.0), (3897, 0.004833203838367987), (3898, 0.0023879493165301175), (3899, 0.0076513910425873004), (3900, 0.0024147606433184195), (3901, 0.00844763078729262), (3902, 0.00261057545044094), (3903, 0.010326278768376568), (3904, 0.0257487178210973), (3905, 0.007364248937817422), (3906, 0.0024297917040356195), (3907, 0.004918792186150386), (3908, 0.004633824084212923), (3909, 0.0060345928442285665), (3910, 0.006418983111618809), (3911, 0.0029675367155543395), (3912, 0.0), (3913, 0.02166020065196776), (3914, 0.0), (3915, 0.00277140088295119), (3916, 0.020898815292828627), (3917, 0.002409323395704554), (3918, 0.0), (3919, 0.009347337445056446), (3920, 0.0026102575745603042), (3921, 0.0), (3922, 0.0031113732286716955), (3923, 0.01984290994737728), (3924, 0.010266362434031175), (3925, 0.0037208991268459337), (3926, 0.006446278376709911), (3927, 0.02024770692663245), (3928, 0.0021014174988544395), (3929, 0.0), (3930, 0.0), (3931, 0.0), (3932, 0.004497952138979105), (3933, 0.0), (3934, 0.01915597305503679), (3935, 0.002957056781822912), (3936, 0.0), (3937, 0.0), (3938, 0.004875222840227413), (3939, 0.0033433845966314617), (3940, 0.005364787000868831), (3941, 0.008822227485009005), (3942, 0.005551297769540105), (3943, 0.0), (3944, 0.0037174766396310187), (3945, 0.007339123030417846), (3946, 0.06468990862475808), (3947, 0.03827245297189852), (3948, 0.0), (3949, 0.009651595578578724), (3950, 0.0), (3951, 0.01041277684412936), (3952, 0.0028903298769253146), (3953, 0.0024262158166035133), (3954, 0.008365070327424564), (3955, 0.03865960430392887), (3956, 0.008473695913464566), (3957, 0.011135480741080447), (3958, 0.013209324274663462), (3959, 0.019435893353378128), (3960, 0.007891156743910891), (3961, 0.03271223243839737), (3962, 0.0028579087884714337), (3963, 0.024595407099623958), (3964, 0.0), (3965, 0.0), (3966, 0.0042470046410060715), (3967, 0.0027842100451568133), (3968, 0.0), (3969, 0.0), (3970, 0.004301389368658876), (3971, 0.0), (3972, 0.0), (3973, 0.041627699775799915), (3974, 0.006419989340636474), (3975, 0.00596038597955302), (3976, 0.01685820195212654), (3977, 0.0), (3978, 0.020893875712495034), (3979, 0.0), (3980, 0.0), (3981, 0.0), (3982, 0.0), (3983, 0.03291348332061019), (3984, 0.009990524262455672), (3985, 0.0), (3986, 0.0022567746809190672), (3987, 0.0026565489154237155), (3988, 0.0), (3989, 0.003756294808329247), (3990, 0.0034777026161989877), (3991, 0.0), (3992, 0.011112172595704291), (3993, 0.010729166328301757), (3994, 0.0), (3995, 0.004749911993376073), (3996, 0.0), (3997, 0.00472917438881025), (3998, 0.006353735891051131), (3999, 0.011681417928110591), (4000, 0.01417406043580886), (4001, 0.006525531574216694), (4002, 0.002894099351761416), (4003, 0.0), (4004, 0.030135292588778947), (4005, 0.0351755688840638), (4006, 0.0), (4007, 0.019140085085547338), (4008, 0.0067953522358047), (4009, 0.006053167680631147), (4010, 0.0), (4011, 0.002424758288310072), (4012, 0.016995997259852198), (4013, 0.007629700083275041), (4014, 0.0025500982448472868), (4015, 0.002113120603228693), (4016, 0.021100035426915457), (4017, 0.003399338140607159), (4018, 0.0), (4019, 0.0032672467682257453), (4020, 0.0024255283772917254), (4021, 0.0), (4022, 0.0), (4023, 0.04257192208921326), (4024, 0.00270771294255173), (4025, 0.009274413974003248), (4026, 0.0), (4027, 0.0), (4028, 0.0188242423843619), (4029, 0.0), (4030, 0.0029500596464138327), (4031, 0.0), (4032, 0.010468101915846722), (4033, 0.01016904230971266), (4034, 0.0), (4035, 0.030585293541709798), (4036, 0.0024814891786004243), (4037, 0.0), (4038, 0.007437311765794326), (4039, 0.004412744057858609), (4040, 0.0), (4041, 0.0), (4042, 0.002778015983639273), (4043, 0.005079857634202203), (4044, 0.004259076918362438), (4045, 0.00728734708506257), (4046, 0.007603957068258122), (4047, 0.0057776456154014265), (4048, 0.010427137377101482), (4049, 0.0025253166187652037), (4050, 0.021643365971871498), (4051, 0.0028391168888015324), (4052, 0.00952206977776414), (4053, 0.02270991918389373), (4054, 0.002613886814956567), (4055, 0.005852545558740916), (4056, 0.00250503395099228), (4057, 0.005753388486458427), (4058, 0.0), (4059, 0.0023579625552097886), (4060, 0.009510448378173586), (4061, 0.006918435430404246), (4062, 0.058391503076914535), (4063, 0.0), (4064, 0.03576994473904374), (4065, 0.0), (4066, 0.002222927603344032), (4067, 0.0), (4068, 0.013987444226760239), (4069, 0.002446440731070558), (4070, 0.0), (4071, 0.004257510769836169), (4072, 0.0), (4073, 0.0), (4074, 0.0022181424492721145), (4075, 0.0029094980970019104), (4076, 0.0048764784431598925), (4077, 0.007095815536665059), (4078, 0.0), (4079, 0.0026018929522410575), (4080, 0.0022366385734738756), (4081, 0.01810349004010001), (4082, 0.0035369340445668422), (4083, 0.0026109780785067253), (4084, 0.0), (4085, 0.002354081807193371), (4086, 0.0), (4087, 0.0027625490443738162), (4088, 0.019294608625251355), (4089, 0.007248440143157276), (4090, 0.004849963696661879), (4091, 0.004878858007904669), (4092, 0.008015169138477315), (4093, 0.007067784859376662), (4094, 0.007328855359100472), (4095, 0.012046173470703468), (4096, 0.031099794179705972), (4097, 0.0), (4098, 0.00729358204143727), (4099, 0.006385643997440496), (4100, 0.0), (4101, 0.002740419212751578), (4102, 0.0031937971701650673), (4103, 0.004659503588813532), (4104, 0.04441530555755523), (4105, 0.007869664826591032), (4106, 0.010039482467303467), (4107, 0.0031100369022032293), (4108, 0.0), (4109, 0.0), (4110, 0.005621317925984822), (4111, 0.0026816297005528996), (4112, 0.0), (4113, 0.0028415242021033104), (4114, 0.0), (4115, 0.0), (4116, 0.015646577605711448), (4117, 0.0029251906571634905), (4118, 0.0076842607712500404), (4119, 0.004969227414986646), (4120, 0.005049294096184058), (4121, 0.013139277527322137), (4122, 0.008658853579088053), (4123, 0.052028256287255076), (4124, 0.013365376353841898), (4125, 0.0), (4126, 0.002921930516443778), (4127, 0.0), (4128, 0.022054103574516464), (4129, 0.0024328475478382597), (4130, 0.0027896970732307954), (4131, 0.0), (4132, 0.0026540063101499938), (4133, 0.007707431850478367), (4134, 0.015146566082063499), (4135, 0.0025321176280965856), (4136, 0.0026479116731462733), (4137, 0.06039353254215487), (4138, 0.002784492542864918), (4139, 0.0024249013752597084), (4140, 0.0027875019867930474), (4141, 0.026176623247590295), (4142, 0.003202930476295702), (4143, 0.0022708410620245066), (4144, 0.0), (4145, 0.002946030514266794), (4146, 0.0), (4147, 0.003052646054196008), (4148, 0.011354036753224508), (4149, 0.018088793416070798), (4150, 0.0), (4151, 0.0021287544920738487), (4152, 0.03351078883165088), (4153, 0.0), (4154, 0.0066616740109381265), (4155, 0.002357765676669598), (4156, 0.018952663981565112), (4157, 0.0), (4158, 0.009482508972034329), (4159, 0.0), (4160, 0.027076872008405105), (4161, 0.0026956618440024593), (4162, 0.005242108045382711), (4163, 0.008225328864761834), (4164, 0.0104663264368261), (4165, 0.03445405909256177), (4166, 0.0), (4167, 0.0), (4168, 0.0), (4169, 0.002642205283883868), (4170, 0.0), (4171, 0.0017519690270907506), (4172, 0.003330982414791063), (4173, 0.0), (4174, 0.0023622469044992096), (4175, 0.028923688502734884), (4176, 0.02083121588095326), (4177, 0.02847202807158934), (4178, 0.014559627982217029), (4179, 0.0), (4180, 0.0), (4181, 0.0), (4182, 0.006899190751619816), (4183, 0.0024845443272159457), (4184, 0.0), (4185, 0.0), (4186, 0.0), (4187, 0.010652113874986133), (4188, 0.0), (4189, 0.02070718009167235), (4190, 0.0), (4191, 0.0), (4192, 0.00926162091516189), (4193, 0.004190134379175223), (4194, 0.0), (4195, 0.032384702780996984), (4196, 0.0071996247321218934), (4197, 0.0024808724270969193), (4198, 0.0), (4199, 0.0), (4200, 0.002167333902511187), (4201, 0.0), (4202, 0.003524247218608301), (4203, 0.01865862632930719), (4204, 0.0), (4205, 0.008063961749564492), (4206, 0.002368583910550454), (4207, 0.0), (4208, 0.0057260132836709395), (4209, 0.033542616715046866), (4210, 0.0065041552855582335), (4211, 0.004760506760952187), (4212, 0.0), (4213, 0.0023924556929668544), (4214, 0.0), (4215, 0.0), (4216, 0.011320167139019018), (4217, 0.006244434729451238), (4218, 0.0), (4219, 0.005886939883063393), (4220, 0.002221478977512232), (4221, 0.00336973211395697), (4222, 0.0033801306824052606), (4223, 0.0), (4224, 0.0), (4225, 0.002636525923457644), (4226, 0.007024074653258472), (4227, 0.012746955941247692), (4228, 0.0024818659704588983), (4229, 0.0), (4230, 0.0032294269057042842), (4231, 0.01505935025963371), (4232, 0.00821260302635852), (4233, 0.007250077662452292), (4234, 0.0), (4235, 0.010898380873649178), (4236, 0.006079032458152568), (4237, 0.0), (4238, 0.0), (4239, 0.0), (4240, 0.004890630500838905), (4241, 0.0), (4242, 0.026243470802337986), (4243, 0.002867362448980842), (4244, 0.01614905686709329), (4245, 0.0026790175820272533), (4246, 0.015563619909850092), (4247, 0.002207314050800476), (4248, 0.004628062195442127), (4249, 0.007265210284644198), (4250, 0.0), (4251, 0.00470238658588532), (4252, 0.06185120952031951), (4253, 0.0), (4254, 0.0023583236432776935), (4255, 0.013481852991410992), (4256, 0.0), (4257, 0.008426457824581091), (4258, 0.0), (4259, 0.0027262695555983554), (4260, 0.0), (4261, 0.005130582547925374), (4262, 0.002643668472091694), (4263, 0.002762539593487499), (4264, 0.0044772495793051975), (4265, 0.012140187028897213), (4266, 0.0025600101764394543), (4267, 0.002860816406074288), (4268, 0.04840961502981646), (4269, 0.0027508669158978504), (4270, 0.0), (4271, 0.0), (4272, 0.029352899427931404), (4273, 0.0025985386790444757), (4274, 0.004255253597746145), (4275, 0.004726375350799554), (4276, 0.0), (4277, 0.0023262625001221533), (4278, 0.0), (4279, 0.0), (4280, 0.003067847381586612), (4281, 0.022596722004259488), (4282, 0.006454597021881181), (4283, 0.025768317073147286), (4284, 0.0068524144858875865), (4285, 0.005357503512469011), (4286, 0.002607503038301172), (4287, 0.0025517671010253777), (4288, 0.016627393267752026), (4289, 0.007394128411237303), (4290, 0.004080194168476758), (4291, 0.0), (4292, 0.004286137171686857), (4293, 0.010620442780417516), (4294, 0.025654988140058895), (4295, 0.0028695432942155556), (4296, 0.002190761050562386), (4297, 0.0), (4298, 0.0030801610154037595), (4299, 0.006826537731045353), (4300, 0.0), (4301, 0.0018638299007361215), (4302, 0.0), (4303, 0.006254378710761617), (4304, 0.0022657035820095287), (4305, 0.0), (4306, 0.003108885226718486), (4307, 0.005012132930499593), (4308, 0.002754829102425608), (4309, 0.006932372907751016), (4310, 0.004525924360197712), (4311, 0.0020454448144143745), (4312, 0.004812007872298363), (4313, 0.0), (4314, 0.015262463766021198), (4315, 0.0), (4316, 0.0), (4317, 0.0), (4318, 0.002651084344360867), (4319, 0.0), (4320, 0.0024678550988963327), (4321, 0.016864871799066594), (4322, 0.004188897804615102), (4323, 0.0), (4324, 0.0), (4325, 0.010520109062002472), (4326, 0.002310487737753459), (4327, 0.0), (4328, 0.004253630945396269), (4329, 0.0), (4330, 0.0025578725315156935), (4331, 0.005442920067364422), (4332, 0.0), (4333, 0.002825614578922126), (4334, 0.0025669159707479147), (4335, 0.007956536915431816), (4336, 0.008955303262866247), (4337, 0.01210048691399996), (4338, 0.0), (4339, 0.004184654033428887), (4340, 0.0026182689438517966), (4341, 0.0), (4342, 0.00596740282490171), (4343, 0.0021883519938333653), (4344, 0.011688813930563332), (4345, 0.0024898758379765288), (4346, 0.0), (4347, 0.0), (4348, 0.002261179894590755), (4349, 0.017712936726924453), (4350, 0.002313208476379575), (4351, 0.006981097383133083), (4352, 0.0), (4353, 0.0), (4354, 0.02528338533439537), (4355, 0.0026932362496040955), (4356, 0.002321381538916957), (4357, 0.0026707932304764004), (4358, 0.0), (4359, 0.0023102695603628895), (4360, 0.004558891975940203), (4361, 0.002626120856775959), (4362, 0.0366744483510312), (4363, 0.0027137136913065107), (4364, 0.0), (4365, 0.004026201926780792), (4366, 0.010316564101825717), (4367, 0.006378523602010813), (4368, 0.0027595609129545564), (4369, 0.0028903719326930184), (4370, 0.0), (4371, 0.009562764949822616), (4372, 0.0), (4373, 0.004849449674690679), (4374, 0.01327534811458789), (4375, 0.05869114659026297), (4376, 0.0046633950263602645), (4377, 0.0046281556924769535), (4378, 0.08057189385155922), (4379, 0.014485317786780007), (4380, 0.01845352965395986), (4381, 0.002423843619516356), (4382, 0.019878804462644006), (4383, 0.004577578611424178), (4384, 0.004826035402472573), (4385, 0.005641574320327646), (4386, 0.002171335211025491), (4387, 0.013533697265432538), (4388, 0.0065919637807257195), (4389, 0.05833352434124286), (4390, 0.007269924573845739), (4391, 0.002544171700943033), (4392, 0.004745932019501069), (4393, 0.0), (4394, 0.002478690750299123), (4395, 0.020175608885839566), (4396, 0.0027552709723224025), (4397, 0.002789147473798355), (4398, 0.056956326744847505), (4399, 0.016813823841174854), (4400, 0.0032116726500941942), (4401, 0.00275085978584826), (4402, 0.027804190653447056), (4403, 0.017499235359625945), (4404, 0.0), (4405, 0.0), (4406, 0.0), (4407, 0.003279544339088629), (4408, 0.0), (4409, 0.0024801389073052667), (4410, 0.0), (4411, 0.0021449326401583634), (4412, 0.00826996354958097), (4413, 0.0), (4414, 0.0), (4415, 0.0), (4416, 0.0029533060591417568), (4417, 0.0), (4418, 0.0033036235810815846), (4419, 0.0026247789972449935), (4420, 0.0025963793925845215), (4421, 0.0), (4422, 0.0025854581282745794), (4423, 0.0032681235152842497), (4424, 0.0), (4425, 0.0), (4426, 0.003947749374151139), (4427, 0.002637106216101953), (4428, 0.002444282524053885), (4429, 0.0021862676557888616), (4430, 0.007376618410945222), (4431, 0.007576634986734816), (4432, 0.006043033885931285), (4433, 0.0), (4434, 0.0), (4435, 0.009552040898191007), (4436, 0.018914662324523452), (4437, 0.0), (4438, 0.004437251927742667), (4439, 0.0), (4440, 0.01729027495937056), (4441, 0.0042518922518405685), (4442, 0.009153822260466373), (4443, 0.035064576084556126), (4444, 0.009289902617395868), (4445, 0.0018719232881588372), (4446, 0.0026782066856002977), (4447, 0.0), (4448, 0.002664220345285561), (4449, 0.0), (4450, 0.026217457648153954), (4451, 0.0), (4452, 0.03633670586377794), (4453, 0.0), (4454, 0.0), (4455, 0.0), (4456, 0.04705166323035784), (4457, 0.0), (4458, 0.0030059524858176622), (4459, 0.006169689789192299), (4460, 0.0), (4461, 0.002423284200216399), (4462, 0.00511028822357043), (4463, 0.0), (4464, 0.005807842076972244), (4465, 0.01085024144520372), (4466, 0.020477448186581124), (4467, 0.006682236611568334), (4468, 0.003957117320341771), (4469, 0.01193159546508415), (4470, 0.007246841259182395), (4471, 0.00266142349608883), (4472, 0.002400236204126382), (4473, 0.0023339739922397414), (4474, 0.014675716230695596), (4475, 0.01255600721667792), (4476, 0.0022221264639087773), (4477, 0.011248385724494), (4478, 0.0), (4479, 0.0023635086527181836), (4480, 0.0), (4481, 0.010934805251683001), (4482, 0.015040277299998243), (4483, 0.0), (4484, 0.0033475523083913274), (4485, 0.0), (4486, 0.014122257097506094), (4487, 0.0024575314948910997), (4488, 0.03934885374459964), (4489, 0.0027160385316525653), (4490, 0.008393579994662533), (4491, 0.0), (4492, 0.0195696393571047), (4493, 0.0), (4494, 0.007936062148553915), (4495, 0.0026893366161995793), (4496, 0.0), (4497, 0.0026255685948319554), (4498, 0.0), (4499, 0.0), (4500, 0.0), (4501, 0.002530334811741181), (4502, 0.008761585744673726), (4503, 0.048719575995611344), (4504, 0.01738011284298622), (4505, 0.002687776413769423), (4506, 0.0), (4507, 0.002885093091437224), (4508, 0.0), (4509, 0.0), (4510, 0.01223632074637409), (4511, 0.008846581301698526), (4512, 0.012985535795086286), (4513, 0.003809486268524756), (4514, 0.005539865259203224), (4515, 0.005043914856028064), (4516, 0.0028725380993676578), (4517, 0.007035030997308555), (4518, 0.00532184018063406), (4519, 0.0), (4520, 0.0024856746823401334), (4521, 0.003131102762369809), (4522, 0.00773793707611372), (4523, 0.006734831033623672), (4524, 0.013487727505884822), (4525, 0.0), (4526, 0.0), (4527, 0.00526632478531983), (4528, 0.002729066480765579), (4529, 0.0033623826108868824), (4530, 0.0024441426114978184), (4531, 0.015650965870158046), (4532, 0.0), (4533, 0.03193039758016775), (4534, 0.021683893738341672), (4535, 0.0028791237661632504), (4536, 0.002390860602044277), (4537, 0.005961942734766187), (4538, 0.028116544558259633), (4539, 0.0), (4540, 0.002708188948765085), (4541, 0.0), (4542, 0.0), (4543, 0.011075834490627642), (4544, 0.0031282812786572155), (4545, 0.0027193410582536438), (4546, 0.009135405291606), (4547, 0.0), (4548, 0.026327881313975537), (4549, 0.0), (4550, 0.002435266523203028), (4551, 0.010321905478000413), (4552, 0.004673911342793054), (4553, 0.010511872016641487), (4554, 0.02440813902742498), (4555, 0.0037579753931409276), (4556, 0.0), (4557, 0.007419082959060361), (4558, 0.0), (4559, 0.0), (4560, 0.0), (4561, 0.0), (4562, 0.0), (4563, 0.0025368433292361713), (4564, 0.006221013816272216), (4565, 0.0), (4566, 0.002643671031713428), (4567, 0.00244889393733724), (4568, 0.0), (4569, 0.0), (4570, 0.0), (4571, 0.004004818611984063), (4572, 0.003092813471714843), (4573, 0.0024415359975695043), (4574, 0.0026716646329694796), (4575, 0.0026535092572587894), (4576, 0.012976373815607518), (4577, 0.0), (4578, 0.0), (4579, 0.0076335320115691), (4580, 0.0), (4581, 0.00718816701557437), (4582, 0.004336950609807628), (4583, 0.015275900224963515), (4584, 0.0030223338194581544), (4585, 0.004230879387049994), (4586, 0.0047447026720390025), (4587, 0.004284601405210897), (4588, 0.04029266802017584), (4589, 0.002922467116940988), (4590, 0.029404653638867025), (4591, 0.006659224595117263), (4592, 0.0), (4593, 0.007885540123090548), (4594, 0.061207135924424096), (4595, 0.005038876070713619), (4596, 0.01125393212432074), (4597, 0.0), (4598, 0.001949672106490318), (4599, 0.0), (4600, 0.0), (4601, 0.0075176388386016405), (4602, 0.03177774751469173), (4603, 0.008411427980866132), (4604, 0.0024818175930112585), (4605, 0.009794334397503497), (4606, 0.0031251502261368243), (4607, 0.003635573902682543), (4608, 0.021439110513957672), (4609, 0.0), (4610, 0.01329008100310617), (4611, 0.0033574702238398026), (4612, 0.00875815758130857), (4613, 0.0), (4614, 0.09527146988617974), (4615, 0.0), (4616, 0.0023232516262647416), (4617, 0.013053262502088842), (4618, 0.0), (4619, 0.010526901901630222), (4620, 0.002311461554385156), (4621, 0.004907081631742909), (4622, 0.0), (4623, 0.011345796160525345), (4624, 0.00783162558436841), (4625, 0.0026053376649269725), (4626, 0.002033684958947915), (4627, 0.015382598110059213), (4628, 0.0), (4629, 0.007314382217705389), (4630, 0.005071175008429925), (4631, 0.0), (4632, 0.0029713606368490944), (4633, 0.0029718390489655877), (4634, 0.0023309690283110753), (4635, 0.0), (4636, 0.0021108068510727143), (4637, 0.016767622732280735), (4638, 0.0022491175390046323), (4639, 0.004775577885534071), (4640, 0.002532033189764869), (4641, 0.0024823604784255937), (4642, 0.0053835730533984445), (4643, 0.0025875841803488673), (4644, 0.0), (4645, 0.028080314023703243), (4646, 0.005813037180776773), (4647, 0.0), (4648, 0.0), (4649, 0.008188100118451218), (4650, 0.0028751319777322536), (4651, 0.0), (4652, 0.006856032221671864), (4653, 0.005545971027052075), (4654, 0.0), (4655, 0.0), (4656, 0.007578546543510955), (4657, 0.0027005785324894236), (4658, 0.019629741793182207), (4659, 0.023205359975946926), (4660, 0.008738800545316835), (4661, 0.006206546594743163), (4662, 0.0), (4663, 0.03206772595656034), (4664, 0.004102679053010391), (4665, 0.00451410757483878), (4666, 0.006200670363017062), (4667, 0.0), (4668, 0.028448544836605874), (4669, 0.015158462964503894), (4670, 0.006851281099954724), (4671, 0.0), (4672, 0.0), (4673, 0.013383106947472134), (4674, 0.005630265812309604), (4675, 0.0), (4676, 0.0), (4677, 0.007351080748205454), (4678, 0.004715759673505918), (4679, 0.01881826980849372), (4680, 0.0027235153707037144), (4681, 0.0), (4682, 0.04783622795337587), (4683, 0.0), (4684, 0.027440752413787246), (4685, 0.008782511497934777), (4686, 0.0025229697749163736), (4687, 0.0025015126207191788), (4688, 0.0), (4689, 0.04580187607439669), (4690, 0.0), (4691, 0.006163591706865389), (4692, 0.0031252987890644577), (4693, 0.0024482639889769156), (4694, 0.002943663548022451), (4695, 0.011634208368464113), (4696, 0.0032974928115282183), (4697, 0.004199160305342196), (4698, 0.0055252016800750306), (4699, 0.007978010262087333), (4700, 0.0), (4701, 0.02673215403401673), (4702, 0.0), (4703, 0.03274020461310711), (4704, 0.0034431976083856243), (4705, 0.003603525901268027), (4706, 0.0027997479577128014), (4707, 0.007874669236619718), (4708, 0.004520281654868196), (4709, 0.015775717264223707), (4710, 0.008975140154350176), (4711, 0.0), (4712, 0.002298570221913796), (4713, 0.002906472239087808), (4714, 0.0), (4715, 0.007083928872399319), (4716, 0.0), (4717, 0.002961748174895522), (4718, 0.0028260389731314273), (4719, 0.004879191620043284), (4720, 0.0), (4721, 0.03506895867306376), (4722, 0.01793756389786889), (4723, 0.0030775457377862094), (4724, 0.04669176734529313), (4725, 0.0), (4726, 0.00532448878228483), (4727, 0.030832922247597445), (4728, 0.0), (4729, 0.0024192506609860506), (4730, 0.0), (4731, 0.025586879264598742), (4732, 0.0026892082733249935), (4733, 0.005974156521609966), (4734, 0.00271082558456796), (4735, 0.016577945770862322), (4736, 0.0), (4737, 0.0), (4738, 0.006313605604422936), (4739, 0.03277746080210135), (4740, 0.0), (4741, 0.0), (4742, 0.0), (4743, 0.002417169868623631), (4744, 0.0020359364768466866), (4745, 0.0), (4746, 0.005194815480740904), (4747, 0.013246569596846346), (4748, 0.007828225230844466), (4749, 0.0033823283081285144), (4750, 0.0), (4751, 0.0), (4752, 0.0017766862206947721), (4753, 0.0028739747297292033), (4754, 0.0), (4755, 0.0), (4756, 0.0026096156123795035), (4757, 0.007435471176190678), (4758, 0.0), (4759, 0.0)]\n"
          ]
        }
      ]
    },
    {
      "cell_type": "code",
      "source": [
        "len(Recomendation_Score)"
      ],
      "metadata": {
        "colab": {
          "base_uri": "https://localhost:8080/"
        },
        "id": "GzCsPCcWI90d",
        "outputId": "10de3702-9190-4130-eeae-07bbb26197fb"
      },
      "execution_count": null,
      "outputs": [
        {
          "output_type": "execute_result",
          "data": {
            "text/plain": [
              "4760"
            ]
          },
          "metadata": {},
          "execution_count": 35
        }
      ]
    },
    {
      "cell_type": "markdown",
      "source": [
        "**Get All Movies Sort Based Recomendation Score wrt Favorite Movie**"
      ],
      "metadata": {
        "id": "cuQklt82JB-p"
      }
    },
    {
      "cell_type": "code",
      "source": [
        "#sorting the movies based on their similarity score\n",
        "Sorted_Similarity_Movies=sorted(Recomendation_Score,key=lambda x:x[1],reverse=True)\n",
        "print(Sorted_Similarity_Movies)"
      ],
      "metadata": {
        "colab": {
          "base_uri": "https://localhost:8080/"
        },
        "id": "7Oi87lPmJKay",
        "outputId": "fb092241-2df8-44da-9d75-25df4d70b6fd"
      },
      "execution_count": null,
      "outputs": [
        {
          "output_type": "stream",
          "name": "stdout",
          "text": [
            "[(2692, 1.0), (3276, 0.11817887622111357), (62, 0.10335615336912571), (3779, 0.10050436766628786), (2903, 0.09992172948540987), (4614, 0.09527146988617974), (1647, 0.0942160435652128), (45, 0.09183761180061051), (1383, 0.08326523377315685), (1994, 0.08257195770412143), (1070, 0.08234525265546264), (628, 0.0819881261203694), (110, 0.08167017004898486), (4378, 0.08057189385155922), (2558, 0.08045145054187186), (1341, 0.07740973728822569), (3053, 0.0745629827209581), (1977, 0.0735979884584596), (1982, 0.07220666473798854), (3480, 0.0693216414739993), (2538, 0.06931113204564325), (3248, 0.06635385784191229), (3946, 0.06468990862475808), (3854, 0.0639571348798037), (590, 0.06367247784807917), (1886, 0.06318046479439123), (675, 0.06278930191866527), (254, 0.06261444271084489), (4252, 0.06185120952031951), (3450, 0.061461314863712396), (4594, 0.061207135924424096), (84, 0.06065033589721022), (2112, 0.060528952274793074), (4137, 0.06039353254215487), (3462, 0.060112472153709885), (3463, 0.06007991392602277), (1134, 0.059958619748610706), (1118, 0.059847772528265945), (4375, 0.05869114659026297), (424, 0.05853257016890517), (282, 0.05852352365015019), (4062, 0.058391503076914535), (4389, 0.05833352434124286), (3385, 0.05828216785020658), (3728, 0.05788325306005987), (2358, 0.057586158580185), (2318, 0.05707927329586435), (4398, 0.056956326744847505), (1243, 0.05675911782731238), (1021, 0.05577699948833091), (3334, 0.05567777639102359), (292, 0.05298116111528124), (2026, 0.05297211230782478), (137, 0.05276359261071149), (3360, 0.05267791858153843), (1970, 0.05251933717154677), (4123, 0.052028256287255076), (227, 0.051696325459288886), (877, 0.0516204483088438), (3655, 0.051308450806613795), (873, 0.05049052717850574), (1148, 0.05043450832487558), (1030, 0.05043151279119735), (761, 0.050182085777173216), (2191, 0.050074575560002846), (2944, 0.05005471774826381), (2133, 0.04993698948046461), (1102, 0.04974877025372145), (479, 0.04942867855954429), (3203, 0.04897976886508871), (4503, 0.048719575995611344), (2214, 0.04858739769917951), (213, 0.048579329480067865), (519, 0.04852984341762671), (384, 0.048498557746866906), (2630, 0.048415329777977856), (4268, 0.04840961502981646), (1809, 0.048359796801094326), (2417, 0.048123788254843834), (4682, 0.04783622795337587), (2579, 0.04762107538054919), (2550, 0.04753389811152331), (3395, 0.04742842093839997), (2294, 0.04719695761808508), (1878, 0.04712323202953725), (4456, 0.04705166323035784), (3010, 0.04687223170076125), (4724, 0.04669176734529313), (2653, 0.04667283145737938), (2374, 0.04637172135355201), (3294, 0.04630575923257293), (4689, 0.04580187607439669), (1023, 0.04565157075203617), (2971, 0.044996991170304444), (412, 0.04476278545006378), (1393, 0.04468497641274311), (904, 0.04451815713398762), (2694, 0.04448792778293378), (328, 0.04447133793122567), (4104, 0.04441530555755523), (2151, 0.04435728318565186), (3753, 0.04421208265121599), (360, 0.0441767350846507), (1292, 0.0441536407375222), (67, 0.044025376134852176), (3518, 0.04394628460810231), (3793, 0.04392348451633257), (3091, 0.04384248362494847), (438, 0.04378190191417583), (2745, 0.04372115387587077), (161, 0.04359597986149841), (1257, 0.04355057857132114), (1261, 0.043487509618674904), (2248, 0.04343978470820276), (2530, 0.04335302982427826), (3023, 0.04335179247980441), (1821, 0.04304117265977137), (637, 0.042845437545885906), (3408, 0.04269187873909186), (2893, 0.04265315515055684), (3552, 0.042593966465602776), (1850, 0.042589772939152365), (682, 0.04257648258273089), (1248, 0.04257424855078755), (4023, 0.04257192208921326), (615, 0.04231182821693527), (2012, 0.04199365251842996), (408, 0.041815001586414706), (673, 0.041813115350897), (1506, 0.04168667278465968), (3249, 0.041682600877822516), (3973, 0.041627699775799915), (3559, 0.04144448888388397), (1871, 0.041019949037052424), (1358, 0.04089460727645608), (2321, 0.04081495956387228), (3427, 0.040573963334458577), (172, 0.04052362294375804), (1713, 0.040430761434982816), (2869, 0.040395318317564696), (4588, 0.04029266802017584), (1675, 0.04010820763924174), (1320, 0.040095344386140166), (44, 0.0400696500280743), (1527, 0.04000026731488396), (2846, 0.039946746171033824), (3209, 0.0399033716900616), (185, 0.039834643397847584), (1369, 0.03980648761561313), (2155, 0.03947604698218885), (2295, 0.03940574918142277), (4488, 0.03934885374459964), (89, 0.03918103477772915), (3867, 0.03908635018889636), (3373, 0.038849212764871105), (2308, 0.03866319728664965), (3955, 0.03865960430392887), (210, 0.038480637662358125), (126, 0.03848042756976126), (2859, 0.038431030020301946), (3947, 0.03827245297189852), (108, 0.03817846528260588), (632, 0.03807503805713919), (1652, 0.038040418548115684), (2187, 0.03791584231067814), (3409, 0.03781879228856261), (774, 0.03770837377991943), (3486, 0.03770186015201463), (1676, 0.037653360087750685), (2716, 0.03743024980047589), (2540, 0.03740288215848378), (1024, 0.03688514522866609), (3652, 0.03679088588387544), (2622, 0.03677764272037447), (4362, 0.0366744483510312), (3498, 0.036650390195328585), (3511, 0.036620088457132646), (3362, 0.03650907911897329), (2375, 0.036350725007106156), (4452, 0.03633670586377794), (874, 0.03627750820280649), (788, 0.03627217479119439), (710, 0.036055036539834905), (2212, 0.03597437656086739), (3280, 0.03580157898498387), (4064, 0.03576994473904374), (911, 0.03576301812141459), (3127, 0.035745913904724515), (1389, 0.03563740438235286), (1311, 0.035594158057997274), (1085, 0.035458037546632626), (694, 0.03535851395471217), (2316, 0.035268365624805106), (2018, 0.035219231913107545), (540, 0.03519319058804722), (4005, 0.0351755688840638), (1991, 0.03516669052776153), (4721, 0.03506895867306376), (4443, 0.035064576084556126), (1568, 0.03505956788028443), (1241, 0.0350117587374386), (578, 0.03481552271218211), (2371, 0.03481293120308065), (830, 0.03479158329415455), (1272, 0.034745152730604044), (3045, 0.034690977397115894), (1379, 0.03454674375139807), (3470, 0.03445610924695802), (4165, 0.03445405909256177), (818, 0.03433707952451454), (2109, 0.034315940315008724), (3315, 0.0342313735010208), (3351, 0.03423054295049383), (3731, 0.034134455046226295), (2123, 0.034090048265449945), (2868, 0.03402242201286933), (3556, 0.033961727389037986), (1770, 0.03390139207199846), (3102, 0.03372000034365421), (3255, 0.03361691035787587), (2981, 0.03360467060429935), (4209, 0.033542616715046866), (4152, 0.03351078883165088), (3465, 0.03350111420970205), (1702, 0.033482554086635426), (1236, 0.03340478673006614), (2147, 0.0331786975833513), (2122, 0.03314273787847789), (721, 0.03306856443376252), (3983, 0.03291348332061019), (935, 0.03286277850376637), (1837, 0.0328627389406301), (1752, 0.032835203509626695), (4739, 0.03277746080210135), (4703, 0.03274020461310711), (3330, 0.03272444666400885), (3961, 0.03271223243839737), (1063, 0.032708503125904), (3430, 0.032596378437373154), (2082, 0.032468802959369165), (166, 0.032405484000996965), (334, 0.03239965476494669), (4195, 0.032384702780996984), (1367, 0.03235637363276862), (3004, 0.03229750305603301), (2365, 0.03214724743803736), (1146, 0.03213369113484195), (2476, 0.03210932069419572), (4663, 0.03206772595656034), (462, 0.031965731148983254), (4533, 0.03193039758016775), (3656, 0.031908150981008326), (1464, 0.03184786093267663), (2751, 0.03180902665951646), (4602, 0.03177774751469173), (387, 0.03175019220338563), (3313, 0.03171468145553814), (3377, 0.031569258734095405), (138, 0.031493806141017745), (547, 0.031384432042159176), (823, 0.03131265282728162), (2100, 0.03123962477668613), (864, 0.03118452345861307), (2621, 0.031107853082682338), (4096, 0.031099794179705972), (109, 0.030976029627518192), (65, 0.030946371485386794), (1068, 0.030869588092969663), (3376, 0.030858045072960114), (4727, 0.030832922247597445), (1195, 0.03082303867357121), (2517, 0.03082086374087346), (1868, 0.030723767342942722), (1885, 0.03067016649309536), (4035, 0.030585293541709798), (812, 0.030544679566306743), (1499, 0.030533618306207506), (2014, 0.03041258683502807), (1173, 0.030404905610250006), (3157, 0.030347294186394265), (179, 0.030347079900047598), (3137, 0.030321306657572523), (174, 0.030316433349431814), (2443, 0.0303115759339191), (2807, 0.03019333754279295), (1795, 0.030177753539393844), (4004, 0.030135292588778947), (2706, 0.03008660535003356), (1750, 0.029981694960053512), (1405, 0.029967936148792382), (2723, 0.029923827182242464), (2413, 0.029892662322827484), (787, 0.02988834641826641), (1363, 0.02987082199716064), (3850, 0.029866679946073615), (3720, 0.029760238750603976), (3328, 0.02972517143821663), (2023, 0.029651231229772056), (3597, 0.029585030430490353), (250, 0.029500564084946224), (4590, 0.029404653638867025), (618, 0.029402899803320573), (1043, 0.029380968933053194), (4272, 0.029352899427931404), (1482, 0.029325780979158993), (3146, 0.029325576111183915), (530, 0.029320297188852155), (1648, 0.029256608983885525), (2710, 0.02922445591925697), (3880, 0.029220774511576012), (3572, 0.029140499815341305), (2114, 0.029121126226816636), (629, 0.029082393790784297), (1046, 0.029054787274487855), (1973, 0.02904387457621812), (2887, 0.029035756370426186), (1398, 0.02901350914562214), (2782, 0.028993086350033365), (4175, 0.028923688502734884), (2037, 0.02886147573533978), (3420, 0.02885761894484972), (3326, 0.02879614080872612), (1976, 0.02872654026524432), (2791, 0.028702490704328044), (2614, 0.028594633577050086), (3814, 0.028533846895408936), (1788, 0.02852407355565751), (4177, 0.02847202807158934), (2908, 0.028468277015056827), (4668, 0.028448544836605874), (2487, 0.02841675049313492), (2481, 0.028390644029891696), (465, 0.028388456296370775), (421, 0.028330540456524073), (193, 0.028123647053312783), (2221, 0.028123396071670637), (4538, 0.028116544558259633), (112, 0.02811079903025967), (2102, 0.02810698943193666), (4645, 0.028080314023703243), (693, 0.02803067521222726), (952, 0.028014359481916717), (766, 0.02800128965433509), (836, 0.02796113398164741), (976, 0.02793101443103277), (430, 0.027926142812958465), (2198, 0.02792393104439217), (241, 0.02781008113354847), (4402, 0.027804190653447056), (1990, 0.027777246355274732), (1560, 0.027685235095603472), (3767, 0.02756900374737447), (428, 0.0275506766064698), (2876, 0.02750716515585483), (4684, 0.027440752413787246), (371, 0.027397992874050415), (2343, 0.027310214475150356), (3574, 0.02730654077519304), (3488, 0.027292874071004766), (3701, 0.027247154812665837), (670, 0.027213184153483904), (1500, 0.02717273858616124), (3174, 0.0271230650672411), (1095, 0.027091870175388427), (4160, 0.027076872008405105), (3605, 0.027048278227908097), (903, 0.02703340425152283), (3871, 0.0270313922566541), (1137, 0.026908530320614254), (176, 0.02690117178258377), (3852, 0.0268980060982987), (3751, 0.026835438480504556), (1634, 0.026772920099416946), (3688, 0.026771741959696754), (4701, 0.02673215403401673), (3344, 0.026713805578408432), (1162, 0.026710118769799153), (2762, 0.026686307433942198), (2802, 0.026617661986916157), (593, 0.02661541957425881), (284, 0.026609663754663546), (2920, 0.026528492007946856), (1845, 0.026511053669725636), (1430, 0.026416973556953636), (522, 0.02636478186724827), (2154, 0.026362255447608188), (2912, 0.026362035985140753), (4548, 0.026327881313975537), (4242, 0.026243470802337986), (459, 0.026218307850580897), (4450, 0.026217457648153954), (4141, 0.026176623247590295), (3447, 0.026095049474357736), (1205, 0.02608167547174856), (852, 0.02600642697683677), (1314, 0.025937264721955226), (3154, 0.025930521767082732), (2972, 0.02590875717153487), (3028, 0.025890300969472247), (1847, 0.025885539814405212), (2013, 0.025876163246167396), (240, 0.025871908533485456), (3167, 0.02586240525583789), (1720, 0.0258455472709403), (3684, 0.02583372281760962), (167, 0.02579778666795192), (4283, 0.025768317073147286), (2687, 0.025759372769911658), (3904, 0.0257487178210973), (381, 0.025703915761901185), (1059, 0.02569535294675944), (3017, 0.025662754703813875), (4294, 0.025654988140058895), (3260, 0.0256107680838153), (4731, 0.025586879264598742), (2467, 0.025570626966547324), (25, 0.02554325306124496), (2394, 0.025506270192633566), (832, 0.02547850483218423), (3156, 0.02546732751141653), (4354, 0.02528338533439537), (1060, 0.025253723159262265), (3285, 0.025237386444757273), (2011, 0.0250646613703422), (824, 0.02502498661109991), (1721, 0.02499573484516473), (1181, 0.024942742074590234), (2048, 0.024891796430854138), (3466, 0.02482256056530832), (3573, 0.024804619634616474), (124, 0.02468337424354975), (967, 0.024668538575244252), (3963, 0.024595407099623958), (1999, 0.024586273086107124), (1530, 0.024552885531403532), (2408, 0.024552169258630935), (3711, 0.024465737647001693), (1544, 0.024425205618098918), (4554, 0.02440813902742498), (269, 0.024365906627998212), (1763, 0.024324808055032593), (1749, 0.0243221192508386), (3801, 0.024272549393716834), (3692, 0.024252074063556568), (3428, 0.02424015707831747), (345, 0.024210185335202198), (3746, 0.024193080292921), (2761, 0.02414463085981602), (2484, 0.02409781193939523), (2020, 0.02409754603076017), (1351, 0.024081777005092647), (116, 0.024073548863461646), (2718, 0.02405693349761016), (2950, 0.02402672243662291), (942, 0.02399095446895792), (2689, 0.023934472596107113), (3835, 0.023908434838357334), (3872, 0.023790383918372456), (2713, 0.023760650588339805), (2560, 0.023732728152181522), (2173, 0.0237162159904499), (1585, 0.02347190785631335), (3153, 0.02344619826293831), (2638, 0.023407196744519073), (2699, 0.023402334378995453), (2649, 0.023366267521585177), (1283, 0.023339838559127475), (3868, 0.02333092432520789), (885, 0.02331876853345036), (706, 0.023243699958095814), (3773, 0.02323866225008007), (1412, 0.02323425037816671), (4659, 0.023205359975946926), (3810, 0.02313195048386482), (155, 0.02309179676849621), (3446, 0.023069852661966442), (175, 0.022964178395366405), (1865, 0.0228390144532905), (1997, 0.022802960806024005), (1057, 0.022783086990187596), (68, 0.022776750485004674), (1362, 0.022764009925281225), (4053, 0.02270991918389373), (2647, 0.022699252354388307), (2040, 0.022667494102747758), (1186, 0.022665005609280295), (515, 0.022649123391291808), (88, 0.02261081245947521), (4281, 0.022596722004259488), (641, 0.022404194701058918), (1505, 0.022362968413172327), (1141, 0.022304778060461945), (1935, 0.0222460664327098), (15, 0.022215425828712766), (3891, 0.022178110772134177), (691, 0.0221609625490171), (261, 0.022136083570818525), (3839, 0.022134032881947676), (4128, 0.022054103574516464), (2157, 0.021975096003714705), (613, 0.021962612164824535), (257, 0.021889022023996153), (1515, 0.021842599523749003), (3483, 0.021774394398272858), (398, 0.02174475661999357), (3095, 0.021740980094830425), (1003, 0.021733391224836324), (2096, 0.02169632506870541), (4534, 0.021683893738341672), (1015, 0.021662265630584928), (3913, 0.02166020065196776), (4050, 0.021643365971871498), (917, 0.02161706897802038), (2449, 0.021612878852790222), (1996, 0.02157552292200837), (3345, 0.02148710887771689), (1492, 0.021482114847101), (4608, 0.021439110513957672), (3433, 0.021365887279389772), (2822, 0.021350353306981307), (2646, 0.021289658407412922), (3778, 0.021267723850448613), (672, 0.021261261534703105), (1098, 0.021201607499263704), (1757, 0.021134284373096807), (4016, 0.021100035426915457), (442, 0.02109418317012129), (1985, 0.02108443679619972), (3471, 0.021064787419459188), (2668, 0.021009441571108102), (1942, 0.020992957071719127), (1033, 0.020991353223921608), (2210, 0.020976894233528172), (1629, 0.020967269903474223), (1270, 0.020926713551003402), (2598, 0.020920975439664972), (2440, 0.020901962327745896), (3916, 0.020898815292828627), (3222, 0.020896775481258373), (3978, 0.020893875712495034), (3068, 0.020892800861222367), (3384, 0.02087912256791883), (1397, 0.020864752481154738), (3492, 0.020845326734657877), (4176, 0.02083121588095326), (1861, 0.02080115342980531), (3629, 0.020756158188770135), (4189, 0.02070718009167235), (3254, 0.02064626617046418), (1671, 0.020627711784107258), (3469, 0.02057276076711399), (455, 0.020518474355624136), (1678, 0.02049507640512772), (763, 0.020479184492016057), (3665, 0.020477693361298236), (4466, 0.020477448186581124), (1017, 0.020424738500484117), (1817, 0.02041443380254926), (3553, 0.020409202757450944), (1471, 0.020399009354457986), (3927, 0.02024770692663245), (2301, 0.020226952776551222), (2055, 0.020222734798636812), (2841, 0.02022034008713701), (4395, 0.020175608885839566), (1385, 0.020157205379148193), (2174, 0.02013662994024577), (2582, 0.020132832146344298), (870, 0.02012736066720343), (2808, 0.02011435160373888), (2768, 0.02005340192064512), (1132, 0.02004907968659345), (3083, 0.020023198578322864), (3508, 0.019925790837731702), (1657, 0.019910168617445018), (4382, 0.019878804462644006), (1510, 0.01987397943629867), (643, 0.019849560342303486), (3923, 0.01984290994737728), (3352, 0.01977442145876544), (2524, 0.01975014533045475), (383, 0.019729125073901163), (330, 0.01968648164225891), (1838, 0.01964673744718889), (4658, 0.019629741793182207), (1927, 0.019620938438904813), (2867, 0.019611731598040395), (3319, 0.01960040975879237), (779, 0.019595834751749933), (4492, 0.0195696393571047), (3857, 0.0195396216232286), (2995, 0.019526056739408174), (3504, 0.019504639300872442), (3959, 0.019435893353378128), (329, 0.019329502587888948), (4088, 0.019294608625251355), (1052, 0.01921196537942247), (3934, 0.01915597305503679), (4007, 0.019140085085547338), (204, 0.019114563624339685), (2469, 0.019104264774502493), (566, 0.019034955977528918), (2618, 0.01902889958051492), (2362, 0.01902500451680308), (947, 0.01902156296033297), (4156, 0.018952663981565112), (2767, 0.01894370677004912), (1707, 0.01893353472935321), (4436, 0.018914662324523452), (1202, 0.018890616303201605), (2607, 0.018888232383535722), (4028, 0.0188242423843619), (4679, 0.01881826980849372), (3853, 0.01872438986120975), (2760, 0.018702384238397672), (2932, 0.018679698637694052), (4203, 0.01865862632930719), (2650, 0.018642473535595488), (3144, 0.01860690008928484), (463, 0.01859939683115153), (46, 0.01858391218821252), (145, 0.018527725858797358), (669, 0.018507752468722088), (657, 0.018494526037481317), (199, 0.018474089107766635), (553, 0.018473068832285784), (4380, 0.01845352965395986), (1872, 0.01843840073756145), (33, 0.018427212913524484), (3111, 0.018400210365670952), (3000, 0.018390445438167324), (768, 0.01838329269599156), (2368, 0.018356813278646675), (3284, 0.018326260973139517), (3403, 0.018303824782196783), (1386, 0.018296073921908677), (364, 0.01829337597116243), (160, 0.018264778228976274), (2795, 0.018262415379085576), (1937, 0.018121223631381717), (4081, 0.01810349004010001), (2237, 0.018094238977803847), (4149, 0.018088793416070798), (83, 0.018073246025726405), (2276, 0.01806318798015752), (2645, 0.018019728654613185), (147, 0.018015170007744045), (3416, 0.017999391068940006), (757, 0.017983005308891013), (858, 0.017975104056248022), (1112, 0.017971422920865673), (2513, 0.01793899156463565), (4722, 0.01793756389786889), (3097, 0.017928944980155792), (968, 0.017895484686224945), (123, 0.017861610162580758), (1175, 0.017852482283444958), (3875, 0.017849256426625763), (3828, 0.017838758388942007), (1443, 0.017829625374658535), (1226, 0.017817038912855118), (1384, 0.01780011790764993), (1759, 0.017784022694740092), (1074, 0.01776858224676156), (1365, 0.017751960297159156), (808, 0.017741369268729747), (4349, 0.017712936726924453), (2167, 0.01770005070269459), (106, 0.017654944294542653), (1843, 0.01764354296016589), (61, 0.0176190462223102), (222, 0.017582054860863998), (2035, 0.017523594073614684), (4403, 0.017499235359625945), (2553, 0.017485595486105305), (2070, 0.017400284852713013), (796, 0.01739383436189236), (4504, 0.01738011284298622), (1274, 0.01737756641926064), (144, 0.017363623671634878), (1245, 0.01733783647092833), (409, 0.01733593133405034), (2823, 0.01733244169776945), (4440, 0.01729027495937056), (342, 0.017255121601844788), (3129, 0.017209828859670356), (1129, 0.01712364843426147), (3085, 0.017068730129025333), (3528, 0.017000774740617577), (4012, 0.016995997259852198), (1064, 0.016965534126278575), (203, 0.01696462124192698), (173, 0.016957926133785817), (4321, 0.016864871799066594), (3976, 0.01685820195212654), (1579, 0.016853541107206996), (3675, 0.01684479916214706), (4399, 0.016813823841174854), (1403, 0.016803637900267537), (218, 0.016796639798524415), (3766, 0.016777140247980785), (4637, 0.016767622732280735), (3036, 0.01675771785945222), (677, 0.016730264134479235), (3213, 0.016717641715094822), (3279, 0.01670633871773417), (3098, 0.01669454969671041), (776, 0.016693304835490676), (1572, 0.016685111466293562), (2119, 0.016682215503610015), (1493, 0.016680668649294357), (1609, 0.016680392084563823), (2110, 0.01664797114387481), (4288, 0.016627393267752026), (2712, 0.01661445341625913), (2347, 0.016611230503897536), (916, 0.016580240449716746), (4735, 0.016577945770862322), (2406, 0.016563267634485925), (1216, 0.016529549769012906), (2149, 0.01651697861270133), (3228, 0.01649113237614827), (1377, 0.016489774666880504), (937, 0.016478396507720795), (638, 0.016453424091432307), (2654, 0.016412807813803804), (2258, 0.016393602648723547), (3019, 0.016389121434091637), (2742, 0.016377858793340194), (3275, 0.016367711508585715), (860, 0.016317082451457604), (433, 0.01626406731340611), (795, 0.01626039263794722), (1184, 0.016200103852022953), (794, 0.016177184810954065), (3226, 0.016174120151118812), (511, 0.016172224560768535), (1254, 0.01616803049366964), (2161, 0.016156587786409233), (4244, 0.01614905686709329), (1445, 0.016131199979952344), (3883, 0.016056335443730134), (458, 0.01603382760501248), (1361, 0.016028524214807355), (876, 0.016017996807893627), (209, 0.016009235392895678), (853, 0.015965965910344125), (1417, 0.015954709699577324), (280, 0.01595392461627416), (2917, 0.015951502220779457), (2353, 0.015895622048420408), (1275, 0.01587387438464804), (551, 0.01587236208101419), (586, 0.015860013456665212), (3012, 0.015843218869664145), (1512, 0.015827769547499614), (533, 0.015819773303189233), (4709, 0.015775717264223707), (1045, 0.015757954813941506), (1774, 0.015737238485804314), (2275, 0.015721657003168264), (1018, 0.015711721883387708), (701, 0.015665175730731694), (4531, 0.015650965870158046), (4116, 0.015646577605711448), (3895, 0.015645360256884344), (3043, 0.015636691935727115), (3640, 0.015579432147520122), (2290, 0.015573170018616756), (4246, 0.015563619909850092), (48, 0.015544576147448957), (1716, 0.015522976295132336), (1523, 0.015499630298946838), (1906, 0.01544384459821412), (85, 0.015425021201487352), (343, 0.015420879522655938), (867, 0.015420866068475588), (2885, 0.015399002867355651), (3541, 0.015392649708940526), (4627, 0.015382598110059213), (1880, 0.015381905909754566), (3661, 0.015376044334377396), (692, 0.015365251727005607), (2229, 0.01533327067171673), (3299, 0.015309124734658392), (3375, 0.015306826933174355), (1115, 0.015306239380235998), (1741, 0.015290015983407389), (2298, 0.015281746841070535), (4583, 0.015275900224963515), (21, 0.015273060114728917), (4314, 0.015262463766021198), (888, 0.01524822181536886), (374, 0.015243872337056156), (1325, 0.015229432318252308), (896, 0.015216993132197907), (296, 0.015212119310254516), (481, 0.015187117382038772), (1119, 0.015178591539763439), (40, 0.015159047404771173), (4669, 0.015158462964503894), (2639, 0.015157957762883232), (450, 0.015151971297332721), (287, 0.015150077884548094), (4134, 0.015146566082063499), (929, 0.015118997076358298), (2376, 0.015115799057831399), (51, 0.01511037982167765), (2996, 0.015101144129869366), (3862, 0.015089109255621099), (4231, 0.01505935025963371), (3580, 0.015050677855720588), (4482, 0.015040277299998243), (3306, 0.015035504463564149), (762, 0.015034476321033316), (2522, 0.015025381397734391), (3797, 0.015024699431754291), (358, 0.01493296917870606), (3713, 0.014917549534545264), (1853, 0.014909029471478808), (1897, 0.014908290803109497), (1687, 0.014907180835437359), (3642, 0.01489974414082636), (3694, 0.014892146355622372), (3086, 0.014885913492990326), (3777, 0.014875962133910183), (622, 0.014869129882391275), (2931, 0.014845959424085602), (3437, 0.014835512471018296), (3253, 0.014823994721121659), (879, 0.014810411406062238), (3407, 0.014799612558643139), (2027, 0.014792143161149195), (1278, 0.014779496135420657), (2777, 0.014765640400632524), (620, 0.014765234218803443), (2254, 0.014763792757433489), (3699, 0.01473722102102996), (1290, 0.014735581184018093), (437, 0.014717535821800921), (1224, 0.014704955401588454), (2910, 0.01469300674168639), (543, 0.014691606817448695), (4474, 0.014675716230695596), (2196, 0.014654227518715751), (2334, 0.014634297435482928), (1983, 0.014628580099011464), (208, 0.01462685563221389), (502, 0.014617253680475097), (2919, 0.014615417069101215), (447, 0.014585776189440942), (3670, 0.014583250334950962), (1335, 0.014571656338028566), (2644, 0.014567203700250383), (4178, 0.014559627982217029), (87, 0.014554282618062866), (3421, 0.01453375710380096), (429, 0.014507486311209548), (1682, 0.014501511967686693), (4379, 0.014485317786780007), (3210, 0.014457696665956714), (652, 0.01445529889670144), (1919, 0.014437302948285774), (534, 0.014432882937716347), (2939, 0.014421465526322607), (895, 0.014416837009607315), (1967, 0.014415910809230138), (2053, 0.014381887663564628), (584, 0.01436130893050273), (1114, 0.014359816968175482), (1895, 0.014344055001923015), (43, 0.014332271278485078), (899, 0.014306495744687595), (1740, 0.014297510670551251), (2784, 0.014291406184261682), (1509, 0.014271537161660703), (510, 0.014259679759831848), (470, 0.014221204031148134), (1152, 0.014199818561996973), (1232, 0.014190859146133538), (4000, 0.01417406043580886), (482, 0.014169871418188292), (1337, 0.014154629505290799), (3295, 0.014149656653243105), (4486, 0.014122257097506094), (986, 0.014101951824765422), (3807, 0.014095406219461613), (3374, 0.014086772246413224), (3558, 0.014074951599153375), (1779, 0.014073721792516716), (1331, 0.014065635574152689), (2815, 0.014061715678310764), (1876, 0.01404787607514189), (957, 0.014038334688299715), (1192, 0.014020008868721262), (4068, 0.013987444226760239), (181, 0.013979899255228433), (370, 0.013976716442184737), (934, 0.013973905324986009), (988, 0.01396277264344278), (1058, 0.013940884768650857), (1413, 0.013936410489310177), (2695, 0.013929348100835556), (1252, 0.013888469495646226), (406, 0.013887657834615909), (1035, 0.013878928546249635), (3356, 0.013874119018560761), (2727, 0.013847506466711991), (2961, 0.013832738847478245), (1116, 0.013830473411907677), (251, 0.013820922019061922), (2366, 0.013762283321815538), (842, 0.013758685499025092), (1483, 0.013746166765974035), (799, 0.01374456240685609), (1621, 0.013739316723029048), (252, 0.013712478385276637), (989, 0.013704103170658913), (2024, 0.013686926887057055), (1401, 0.013683143208845073), (2988, 0.013667073274481873), (2045, 0.013652764375777842), (3741, 0.013650669683095966), (1481, 0.013627278916009521), (1343, 0.013626037885167391), (1461, 0.013604302111969517), (2216, 0.013597743515195188), (3535, 0.01358482942825957), (1945, 0.013582549358301523), (317, 0.013574614994379673), (52, 0.013551999293053892), (545, 0.013538464594013772), (4387, 0.013533697265432538), (3861, 0.01351383754508014), (1465, 0.01350830052359814), (676, 0.013500181001883218), (4524, 0.013487727505884822), (4255, 0.013481852991410992), (2805, 0.013479931560835406), (1478, 0.013474370391686516), (3312, 0.013463896860692394), (332, 0.013461835772748412), (775, 0.013457715419896417), (18, 0.013435563290665663), (3370, 0.013427549016267165), (276, 0.013423921751583957), (231, 0.013410288552552049), (4673, 0.013383106947472134), (2468, 0.013382708005819335), (1591, 0.013373219174343018), (3660, 0.013368479873574783), (3708, 0.013367004245360897), (4124, 0.013365376353841898), (1796, 0.013358660270724226), (2008, 0.013320927908725178), (2632, 0.013316184329444236), (2460, 0.013309882246881562), (753, 0.013303199292459737), (878, 0.013299336664810688), (4610, 0.01329008100310617), (496, 0.013288697393868254), (4374, 0.01327534811458789), (1667, 0.013266725536850994), (3819, 0.013263669487980875), (4747, 0.013246569596846346), (1317, 0.013231007835352686), (142, 0.013225418973313141), (1128, 0.013224799472485687), (1665, 0.013211013617381742), (3958, 0.013209324274663462), (1107, 0.013205320793924618), (2177, 0.01318495091251628), (2224, 0.013164421973360162), (689, 0.01316321905017391), (3630, 0.013161097449958555), (905, 0.013145547518293277), (4121, 0.013139277527322137), (866, 0.013134557844539135), (13, 0.01313330751573187), (829, 0.01311915399366036), (814, 0.013101006537632694), (1802, 0.013100462612066066), (1183, 0.013099316803886034), (1986, 0.013096606556284189), (1815, 0.013094646325022587), (1342, 0.01309324829076852), (3119, 0.013086454776629314), (4617, 0.013053262502088842), (236, 0.013046470336517915), (2066, 0.013045502248942792), (75, 0.013017387889434085), (2121, 0.013006487561698987), (4512, 0.012985535795086286), (4576, 0.012976373815607518), (1864, 0.012967875063062483), (604, 0.012953577756985277), (207, 0.012939571678500841), (356, 0.012936847966549314), (906, 0.012901109612816023), (2383, 0.012898764546412407), (2969, 0.012880814281878475), (760, 0.012875023813942144), (7, 0.012869931192222735), (3110, 0.012863408542185088), (125, 0.012833332069361759), (1255, 0.012814866052738256), (2486, 0.012805600771036606), (833, 0.012778000671190275), (1239, 0.012777952978269018), (742, 0.012759255107783026), (1000, 0.012756864430767526), (4227, 0.012746955941247692), (1739, 0.012738255099648238), (2771, 0.012695135960932098), (1360, 0.012674638881405532), (1681, 0.01266599758074239), (1680, 0.0126652198695355), (3318, 0.012659486689482285), (1595, 0.012610804283819232), (537, 0.01260582004792898), (875, 0.012581172943825158), (1376, 0.012570369933546472), (1519, 0.012557588456972931), (4475, 0.01255600721667792), (2803, 0.012554852124443006), (900, 0.012537569970597833), (2252, 0.012534570295886949), (2978, 0.012521017796976907), (1237, 0.012516986089821084), (1293, 0.012499257772291708), (963, 0.012497574278426656), (678, 0.012496978441131389), (3750, 0.012422137150444473), (1432, 0.012421652543095494), (3659, 0.01241211950507043), (407, 0.01240874107241654), (70, 0.012403407369855464), (3768, 0.012355697152937536), (936, 0.012348887926723333), (527, 0.012333302325019406), (1005, 0.012323402186355461), (609, 0.012319220382520743), (3637, 0.012313739545796818), (2000, 0.012310673784321149), (2874, 0.012306139461327154), (1220, 0.012282509970041908), (2963, 0.0122815051082929), (418, 0.012273761628571953), (1934, 0.012243403432173467), (1654, 0.012240543695525585), (1787, 0.01223778867261049), (4510, 0.01223632074637409), (3076, 0.012219373078775974), (635, 0.012209712861862412), (2412, 0.012179871751350848), (664, 0.012174559910057437), (667, 0.012173199862257556), (1988, 0.012155999347607882), (1799, 0.012147325683655051), (653, 0.012145842551442337), (2447, 0.012141552620684417), (4265, 0.012140187028897213), (2780, 0.012137818800099304), (201, 0.012124448764258503), (2052, 0.01210631293753897), (4337, 0.01210048691399996), (800, 0.012089625049927276), (654, 0.012082775969724964), (918, 0.01206116205013871), (1009, 0.012057867192313549), (341, 0.012055268130929503), (733, 0.012050798435844015), (1436, 0.012050295811941319), (4095, 0.012046173470703468), (1567, 0.012045579334426883), (1310, 0.012039791625255458), (732, 0.012034994770630204), (1104, 0.012025930511266152), (648, 0.012017685412661756), (2617, 0.012017377014073209), (190, 0.011989037451042427), (1185, 0.011961850037816158), (3387, 0.01195528554979109), (3108, 0.011938248355465923), (928, 0.011934659801687744), (3849, 0.011932582333402176), (4469, 0.01193159546508415), (2474, 0.011913614346373417), (2602, 0.011907441180765088), (3507, 0.011880534940912018), (1542, 0.011867263205349688), (3325, 0.011856777757190051), (2235, 0.011848376212804958), (1157, 0.011846200769817943), (1832, 0.011818810897425248), (1099, 0.011797775445629603), (244, 0.01177722853407659), (1047, 0.01175433188341797), (2005, 0.011748645886014413), (684, 0.011725331122973798), (2336, 0.011691863398944975), (4344, 0.011688813930563332), (1419, 0.011687792589312108), (82, 0.01168581487473245), (1812, 0.011683280564824207), (3999, 0.011681417928110591), (560, 0.011677921875910265), (1949, 0.01166829073331133), (1870, 0.011667028143719293), (149, 0.011647490575332082), (931, 0.011639476928449669), (452, 0.011638332589478415), (4695, 0.011634208368464113), (825, 0.011633653118755702), (1194, 0.011624591482388053), (3317, 0.011594565752971481), (1215, 0.011587596495196783), (2284, 0.011579450679788331), (130, 0.011571791216442657), (1958, 0.011566432576099355), (3065, 0.011565118413795098), (2788, 0.011555116563922808), (1407, 0.011554248717482063), (3747, 0.0115522735836495), (1455, 0.011537883920692863), (2697, 0.011530162044477104), (86, 0.011522428210183178), (809, 0.011515944272373438), (1714, 0.011513342306550281), (1264, 0.011487766479231377), (2925, 0.01144133296667475), (523, 0.011437643528596882), (2145, 0.011434116749177506), (2306, 0.011429789068311335), (72, 0.011422213476046977), (2280, 0.011421931782457963), (1396, 0.011416880433249678), (2913, 0.011404180749779946), (1761, 0.01139466611584404), (313, 0.011374184238060338), (3756, 0.011372973033862772), (1249, 0.011363400102103818), (4148, 0.011354036753224508), (1303, 0.011351375007251684), (4623, 0.011345796160525345), (2688, 0.011333706623216493), (4216, 0.011320167139019018), (2421, 0.011300245554272895), (2429, 0.011280392297123113), (1406, 0.011262655747346997), (2178, 0.011259301169772579), (4596, 0.01125393212432074), (4477, 0.011248385724494), (1302, 0.011247137171768288), (1266, 0.011243222281662368), (1989, 0.011240088396768516), (719, 0.01123545100602125), (1262, 0.011221287165729472), (1873, 0.011220202390573038), (790, 0.011202731252347189), (1053, 0.011202031345684555), (1090, 0.011194128597421906), (2918, 0.011190727224938383), (2057, 0.01117767562639063), (538, 0.01115976690689215), (3957, 0.011135480741080447), (3992, 0.011112172595704291), (3582, 0.011108656282831548), (1230, 0.011087915406243421), (4543, 0.011075834490627642), (827, 0.011070609456017417), (2568, 0.0110287755415501), (274, 0.011025318728106383), (1420, 0.011018150123357839), (1061, 0.010992706250903941), (2206, 0.010990497353457005), (3232, 0.010983970699643807), (915, 0.010983386348054654), (3794, 0.010975194126985274), (1551, 0.01096942260098794), (1789, 0.010946483289078084), (532, 0.010946233057525017), (321, 0.010945029707233326), (402, 0.01094394600257071), (3240, 0.010943753382268339), (500, 0.010940306720033547), (1655, 0.010939785770093257), (4481, 0.010934805251683001), (1773, 0.010931381815954714), (1019, 0.010923410515271091), (3118, 0.010907330667413284), (4235, 0.010898380873649178), (1957, 0.010893242706477327), (2625, 0.010881120891697637), (1852, 0.010869855523007916), (1054, 0.010861038254363142), (1630, 0.010857616298027926), (4465, 0.01085024144520372), (322, 0.010845177779411217), (2480, 0.010837373798818873), (2346, 0.010832938873091018), (1012, 0.010829480895491312), (1992, 0.010800254351967225), (2759, 0.010799990595727038), (273, 0.010740678795360026), (3993, 0.010729166328301757), (281, 0.010728497309604314), (2093, 0.01072011855228052), (57, 0.010718020405566723), (555, 0.010711293007460671), (1696, 0.01071079930513064), (304, 0.010694685884924705), (683, 0.01068231469494324), (3775, 0.010674649780105454), (417, 0.010669396883459036), (4187, 0.010652113874986133), (4293, 0.010620442780417516), (1259, 0.010608242948721747), (501, 0.010584593562840396), (2162, 0.010577036389035127), (1754, 0.010577014781363255), (4619, 0.010526901901630222), (949, 0.010523652899374007), (695, 0.01052174621472591), (2062, 0.010520413852722477), (4325, 0.010520109062002472), (3094, 0.010513900980884915), (47, 0.010512848947004858), (4553, 0.010511872016641487), (2097, 0.010506613716573895), (3070, 0.010500601216463987), (2871, 0.010494197333717719), (271, 0.010477858278576578), (4032, 0.010468101915846722), (2769, 0.010467691339817817), (4164, 0.0104663264368261), (2464, 0.010454863285716633), (206, 0.010453535609053979), (3099, 0.01044094711624312), (801, 0.010436720807343926), (4048, 0.010427137377101482), (291, 0.010419729187490692), (170, 0.010418360873353166), (3951, 0.01041277684412936), (3524, 0.010409192641672536), (1858, 0.010400437603445249), (148, 0.010377169147795932), (266, 0.010372097402429706), (2680, 0.010372085888662144), (847, 0.010361845837798055), (1723, 0.01036000156321426), (2094, 0.01035393017222776), (3860, 0.01035341597520488), (1662, 0.01034069499381068), (1092, 0.010337743627770415), (2403, 0.010331323768874969), (3903, 0.010326278768376568), (4551, 0.010321905478000413), (4366, 0.010316564101825717), (2992, 0.010304828285720598), (3426, 0.010300822938962678), (468, 0.010294258037893772), (1923, 0.01028698970383717), (3423, 0.01027021284038357), (3924, 0.010266362434031175), (1874, 0.010242500485177834), (542, 0.010230337975109891), (792, 0.010222356077468863), (354, 0.010205835260352564), (2936, 0.0102008661900354), (2051, 0.010200122694359404), (1694, 0.01018805502306103), (99, 0.010182278018036152), (4033, 0.01016904230971266), (1736, 0.01015826583378332), (2739, 0.010153453358557898), (333, 0.01015240850847576), (1348, 0.01012687293075194), (485, 0.010123500557852674), (2740, 0.010117100915799659), (544, 0.010115169489433504), (2849, 0.010097035212107213), (327, 0.010096102923503046), (1234, 0.010068783668846313), (2209, 0.01004468701967466), (2505, 0.010043747008705493), (4106, 0.010039482467303467), (2016, 0.010010158878153461), (3984, 0.009990524262455672), (2546, 0.00997521344734453), (1658, 0.009967809049837307), (3822, 0.009933523944725237), (2436, 0.009925672963628417), (737, 0.00992201042471396), (2126, 0.00992150863168606), (715, 0.009917596208103006), (1513, 0.009912949069759319), (2049, 0.009905673536188974), (1339, 0.009898046283097827), (3297, 0.009880474866627364), (483, 0.00987977774955801), (3382, 0.009863958082582114), (1418, 0.009843542369635814), (2074, 0.009836571702121178), (270, 0.009834355045021422), (1727, 0.009826260190121732), (2915, 0.009816177155880835), (216, 0.009806666812925057), (120, 0.009797236424910871), (4605, 0.009794334397503497), (1781, 0.009778001461842928), (1798, 0.009773731421039244), (1334, 0.009758617323195336), (1922, 0.009757588839542338), (3674, 0.009752154421656927), (2929, 0.009749258492685035), (0, 0.009747563015994536), (2418, 0.009741005640064885), (2116, 0.00970276061988115), (621, 0.00970120250475562), (3155, 0.009696330631041472), (2489, 0.009691979081255199), (1708, 0.009675469650833721), (979, 0.009674111891766262), (994, 0.009654808453557534), (3949, 0.009651595578578724), (1712, 0.00964690123389661), (3218, 0.009638168390328723), (2494, 0.009637613731333464), (3679, 0.009625695214053754), (970, 0.009617847849176766), (2820, 0.009615285534159617), (1300, 0.00960858087562261), (1359, 0.00959894553938877), (3635, 0.00959857242902619), (2934, 0.009592072857156606), (3599, 0.009583720827614446), (3888, 0.009581091820779144), (806, 0.00958068582852086), (3142, 0.00957667639462741), (1338, 0.009571415621651657), (4371, 0.009562764949822616), (3612, 0.00955767426606952), (4435, 0.009552040898191007), (1440, 0.009540356343851345), (2964, 0.009540037322604712), (4052, 0.00952206977776414), (243, 0.009520106498158987), (4060, 0.009510448378173586), (1685, 0.00950839974595052), (1475, 0.009504951208543144), (4158, 0.009482508972034329), (1124, 0.009447212856543942), (2565, 0.009443819450543157), (5, 0.009442446224871679), (2277, 0.0094251093721207), (2545, 0.009412870159440633), (1619, 0.009396862726499327), (2655, 0.009396784347525375), (2601, 0.009394063401648656), (3264, 0.00938326922811035), (844, 0.009373838485693396), (1951, 0.009367665912652364), (3643, 0.009363223612850143), (2250, 0.009361633313712172), (2633, 0.009360170395295903), (3919, 0.009347337445056446), (3215, 0.009346119849081564), (288, 0.00932997393785469), (1279, 0.009324777812796068), (1006, 0.009313001619130606), (894, 0.009307688579154105), (1438, 0.009306519392612508), (2197, 0.009301347266401482), (472, 0.009290281112237779), (4444, 0.009289902617395868), (435, 0.009286109726510125), (1075, 0.009284193639800795), (1442, 0.009284001123744688), (2512, 0.009282121926431082), (3536, 0.009276345454713173), (4025, 0.009274413974003248), (4192, 0.00926162091516189), (2640, 0.009249667125090361), (2279, 0.009228559355785614), (2075, 0.009214495496489356), (631, 0.00921133390131372), (2080, 0.009206364642990163), (1382, 0.009205833656605), (2029, 0.009199537345493431), (105, 0.009197408243370895), (1182, 0.009185976080364972), (1936, 0.009178356753643188), (1048, 0.009177443959465119), (2798, 0.00917627297969664), (1077, 0.009174395526317582), (78, 0.0091731512204015), (2977, 0.009168336074696718), (2193, 0.009163877813203818), (2255, 0.00915898650727081), (1688, 0.00915897589994581), (2948, 0.0091557244394735), (4442, 0.009153822260466373), (3689, 0.009143027982556388), (4546, 0.009135405291606), (3346, 0.00913452608306815), (182, 0.009119779342793994), (697, 0.009118534514871861), (2752, 0.00911838858684082), (2744, 0.00911599245796956), (3596, 0.009110772825361886), (1860, 0.009109328416846894), (2886, 0.009099595354885498), (1494, 0.009084785602480279), (2789, 0.009076787988515052), (1087, 0.00906760119420564), (3171, 0.009056198515417585), (1948, 0.009034524886480677), (3386, 0.009031256911697295), (1160, 0.009029347273221407), (1620, 0.009028962002290098), (2228, 0.009028333918008566), (2812, 0.009025721834183641), (850, 0.009025077675747617), (3293, 0.009021435347237507), (396, 0.009000757092567972), (897, 0.009000217436106944), (1582, 0.008997606249685057), (2831, 0.0089952083911471), (668, 0.008983479667921481), (434, 0.008982576119679828), (4710, 0.008975140154350176), (353, 0.008971780087228966), (939, 0.008967968516023628), (828, 0.008967205099566718), (4336, 0.008955303262866247), (1854, 0.00894485287900193), (79, 0.008930537933983206), (1612, 0.008909446641261747), (2144, 0.008905580940495341), (1776, 0.008892420399751058), (346, 0.008879171645267952), (104, 0.008874301264785731), (2463, 0.008866800714796284), (464, 0.008857121547327745), (4511, 0.008846581301698526), (3046, 0.008840548216288928), (2087, 0.008838831232420515), (3941, 0.008822227485009005), (3120, 0.008807490980956333), (96, 0.008801701046131752), (3638, 0.008801306247357239), (1701, 0.00879368636207567), (817, 0.008785174036133454), (4685, 0.008782511497934777), (3067, 0.008780377274796096), (2698, 0.008780337366209721), (111, 0.00877367322348081), (2600, 0.008772855838087366), (446, 0.008772086507994253), (2581, 0.008771193728264905), (4502, 0.008761585744673726), (4612, 0.00875815758130857), (1807, 0.00875634536110614), (3237, 0.008752592774749612), (948, 0.008750490224982402), (4660, 0.008738800545316835), (2572, 0.00873659074283564), (3521, 0.008728440129036695), (1730, 0.008724233652915369), (119, 0.008722734089127947), (2103, 0.008702409967704204), (2309, 0.008690555341321975), (3667, 0.008690453027049903), (2363, 0.008682102522378811), (651, 0.008679425122991158), (2980, 0.008677426492037399), (1020, 0.008659703081529795), (4122, 0.008658853579088053), (2188, 0.00865728634299258), (1446, 0.008652155056973414), (19, 0.00863537684541104), (3151, 0.008632666918936526), (3123, 0.008630080944246934), (1096, 0.00862792677922611), (558, 0.008627415825943646), (3267, 0.008616746969348606), (29, 0.008615167113483518), (2879, 0.008611077679674761), (2473, 0.008596876329258247), (1276, 0.008594903877853029), (966, 0.008585922578616761), (2778, 0.00858491923923668), (1900, 0.008584078053727783), (962, 0.008572494789814094), (3246, 0.008565858138297196), (1387, 0.008561072228475691), (3784, 0.0085520307352783), (2065, 0.008549997882936946), (164, 0.008546689004556624), (2143, 0.00854239439922974), (197, 0.008539156541610745), (285, 0.008538295853217685), (1793, 0.008533163163322933), (3418, 0.00853314377279759), (3826, 0.008525543415900352), (2077, 0.008520397579271541), (1429, 0.008518751727177948), (782, 0.008511830285508027), (3956, 0.008473695913464566), (851, 0.008458390270050058), (3901, 0.00844763078729262), (3733, 0.008445706562013666), (4257, 0.008426457824581091), (2303, 0.008416022571922513), (2264, 0.00841582339492762), (4603, 0.008411427980866132), (1710, 0.008398379670600295), (4490, 0.008393579994662533), (307, 0.00839213649434531), (1971, 0.008386721144950694), (2459, 0.008382709257886888), (3399, 0.008376253952686149), (921, 0.008371070306534254), (3954, 0.008365070327424564), (734, 0.008331048929363694), (436, 0.00832829804678167), (1650, 0.008316498332022387), (1206, 0.008311163752857249), (2089, 0.00829762224031176), (461, 0.008296102207280626), (1308, 0.008290614002117613), (4412, 0.00826996354958097), (1875, 0.00825903849813764), (838, 0.008256177267936192), (449, 0.00825062035190602), (2236, 0.008245396396870315), (4163, 0.008225328864761834), (1514, 0.008216445641227199), (1477, 0.008215906698689416), (4232, 0.00821260302635852), (1920, 0.008212265784027319), (1540, 0.008190980295507133), (1050, 0.008188500063251843), (4649, 0.008188100118451218), (3829, 0.00818646267421773), (2635, 0.008179285723635271), (1489, 0.008175498000017833), (1538, 0.008158492777077711), (368, 0.00815763973839915), (1968, 0.008144702910404056), (107, 0.00813801237136148), (3329, 0.008134892199258977), (3389, 0.008132108758065065), (2265, 0.008126111449825672), (2285, 0.008079612012317909), (1762, 0.00807901382351222), (183, 0.008073180743357545), (4205, 0.008063961749564492), (1924, 0.008061981148347474), (2427, 0.008058543180606219), (2158, 0.008039868158019227), (1806, 0.008037053962232253), (3453, 0.008035643168382626), (2881, 0.008033945793423489), (1498, 0.008032380112058828), (1690, 0.008028795106028707), (4092, 0.008015169138477315), (443, 0.00800733757111518), (3192, 0.008007054634034023), (1539, 0.007995561629531623), (2076, 0.007985269401341656), (3680, 0.007979328422761722), (4699, 0.007978010262087333), (2587, 0.007976215609474556), (1507, 0.007970998707561003), (4335, 0.007956536915431816), (1553, 0.007954958193093583), (2428, 0.007949809347826346), (597, 0.00794427880185606), (1078, 0.00794019572468273), (3032, 0.00793811287008396), (4494, 0.007936062148553915), (32, 0.007905204159894704), (1833, 0.007902177438906038), (2840, 0.00790033578589062), (2555, 0.00789614757083258), (3960, 0.007891156743910891), (1866, 0.007891151734992736), (705, 0.007891060487829043), (4593, 0.007885540123090548), (38, 0.00788365538919293), (4707, 0.007874669236619718), (2942, 0.007873300936263173), (4105, 0.007869664826591032), (1136, 0.007849932289988325), (139, 0.007839372182532849), (4624, 0.00783162558436841), (1260, 0.007829445737968715), (4748, 0.007828225230844466), (1960, 0.007822108340227368), (3096, 0.00782051095552241), (350, 0.007810527080450975), (385, 0.007800717119651854), (2975, 0.007797302656523455), (1312, 0.00779507965322636), (3196, 0.00778729212799309), (729, 0.007775551449382339), (1790, 0.007772411117617618), (3, 0.00777004749597218), (2854, 0.007759090902634271), (582, 0.007752580348428369), (403, 0.007751619859459219), (924, 0.0077491563901049745), (3634, 0.007748702462816223), (445, 0.007743422737683659), (242, 0.007740789861688566), (4522, 0.00773793707611372), (1371, 0.007732907714782244), (1764, 0.00772715801128449), (4133, 0.007707431850478367), (60, 0.007706249756787922), (816, 0.007702848546952235), (4118, 0.0076842607712500404), (1174, 0.007683183003073158), (688, 0.007680389023142005), (2304, 0.007668138106491132), (2933, 0.007663205513800338), (716, 0.007653532438554965), (3899, 0.0076513910425873004), (2477, 0.007649224947872928), (3618, 0.007645758966348043), (1674, 0.007645088751698542), (3704, 0.0076353424939670095), (4579, 0.0076335320115691), (4013, 0.007629700083275041), (2603, 0.007621837146718701), (162, 0.007606717947001416), (3579, 0.007606481982242782), (4046, 0.007603957068258122), (3256, 0.007592991270073049), (3771, 0.0075869777081051925), (3112, 0.0075848650947215575), (2211, 0.007582496534935386), (1743, 0.007578684055486114), (4656, 0.007578546543510955), (4431, 0.007576634986734816), (2714, 0.007571092927209521), (728, 0.007568192998966284), (1705, 0.007558798132865317), (3645, 0.007551777577819434), (180, 0.0075492635293638735), (1454, 0.007540050502476971), (493, 0.007539477729755871), (1225, 0.00753557646358808), (3516, 0.007527344434962101), (4601, 0.0075176388386016405), (2104, 0.0075169714785681616), (1400, 0.00751610789581628), (3586, 0.007511996858648905), (3456, 0.007501678190224438), (1537, 0.00749809769972882), (2339, 0.007493830019794771), (143, 0.007491434504824928), (441, 0.0074887189935323294), (991, 0.007487662287087941), (1071, 0.007483414177546993), (1918, 0.007477687236790784), (1902, 0.007472929997620308), (255, 0.007468268322553286), (2985, 0.007463322611464264), (474, 0.007462463023923638), (10, 0.007460658373278713), (3259, 0.007449764376127289), (3780, 0.007437824710920286), (4038, 0.007437311765794326), (4757, 0.007435471176190678), (3821, 0.007434503415478042), (843, 0.007434245141991945), (616, 0.007422457489878069), (34, 0.007419091913686284), (4557, 0.007419082959060361), (1282, 0.007414182614383533), (930, 0.007411096599169598), (3623, 0.007407177696635774), (1950, 0.007400878036345372), (1014, 0.007398941184559162), (2844, 0.007398870809757277), (2563, 0.007395696254180181), (4289, 0.007394128411237303), (3514, 0.007384202638079246), (2088, 0.007382245516498227), (224, 0.007379583252075645), (4430, 0.007376618410945222), (1571, 0.007374067024148683), (3905, 0.007364248937817422), (3349, 0.0073623265880255265), (2510, 0.007362282305624375), (2519, 0.007362081598032509), (2873, 0.007362024835810535), (1188, 0.007358299920508939), (1140, 0.007356876176454448), (1069, 0.007355897017784634), (4677, 0.007351080748205454), (3464, 0.007347730832417932), (980, 0.007344217206260666), (660, 0.007342989945196884), (3945, 0.007339123030417846), (1083, 0.00733523834000617), (1229, 0.007329161705392809), (4094, 0.007328855359100472), (743, 0.00732454268159675), (2091, 0.007321538119788137), (580, 0.007321093025598915), (606, 0.007315617059624431), (4629, 0.007314382217705389), (845, 0.007313622088072619), (113, 0.007310676037998589), (1484, 0.007298202974696169), (4098, 0.00729358204143727), (3233, 0.007287755615945461), (4045, 0.00728734708506257), (1037, 0.00728663176641226), (2994, 0.00728617278073637), (1223, 0.007279419022193732), (3666, 0.007274953589428866), (3653, 0.007270998281580424), (4390, 0.007269924573845739), (3008, 0.007267897474576614), (4249, 0.007265210284644198), (1931, 0.007256190948849847), (4233, 0.007250077662452292), (4089, 0.007248440143157276), (4470, 0.007246841259182395), (238, 0.007239760691324223), (1643, 0.007239744157788473), (156, 0.0072370289674574765), (3571, 0.007230232265450394), (3410, 0.00722811774232353), (509, 0.007222434357927699), (1179, 0.007209032010152572), (3436, 0.007205464551761305), (3303, 0.007204577716633015), (4196, 0.0071996247321218934), (2843, 0.007194195956293438), (1536, 0.0071923041401926015), (4581, 0.00718816701557437), (3018, 0.0071875041957202785), (2101, 0.007186264871565343), (3501, 0.007186035403705687), (1735, 0.00718343990170519), (3039, 0.007154645151450025), (2061, 0.007148860598956218), (696, 0.007147588778866596), (3125, 0.007147158152196391), (2444, 0.007144850656860124), (256, 0.00713872140584163), (1144, 0.007136496927629742), (1388, 0.007134207394291147), (3435, 0.007126650002150235), (42, 0.007114887785693697), (2344, 0.0071145346566644264), (636, 0.007106086730198245), (63, 0.007101218047931318), (750, 0.0070990766946428495), (4077, 0.007095815536665059), (1486, 0.007095423647391863), (1191, 0.007089443242782765), (2606, 0.007086615817966379), (4715, 0.007083928872399319), (1504, 0.0070827613803446715), (4093, 0.007067784859376662), (309, 0.007064794238291048), (1472, 0.00706245818302102), (340, 0.007059685605503887), (3245, 0.007048930876908024), (3515, 0.007042455232975479), (159, 0.007040814339193194), (4517, 0.007035030997308555), (869, 0.007035030726265993), (1747, 0.0070302149846331674), (4226, 0.007024074653258472), (3227, 0.0070236426839965825), (908, 0.007023538532460842), (50, 0.0070170268256643815), (363, 0.007014604246977167), (3624, 0.007011887659469142), (1138, 0.007011840744976388), (3727, 0.007006267219580155), (1583, 0.007005034641533794), (81, 0.006997827472308015), (3195, 0.006997095825444425), (2244, 0.0069944014955569565), (1488, 0.006991042249514554), (3152, 0.006983712090732493), (3499, 0.006981834231678465), (4351, 0.006981097383133083), (3185, 0.0069491485285606905), (3316, 0.006945008016664736), (232, 0.006942114184228605), (494, 0.00694122349911584), (727, 0.006938968503582041), (4309, 0.006932372907751016), (1811, 0.006923898376679967), (769, 0.006920232261486678), (4061, 0.006918435430404246), (3570, 0.006916693907146111), (1044, 0.006916045224913735), (3457, 0.006914455420943113), (386, 0.006911959359343682), (301, 0.006907371375632912), (2069, 0.006902058396498951), (4182, 0.006899190751619816), (217, 0.0068901166418405616), (539, 0.006882505512825817), (1737, 0.00688179254349614), (2825, 0.006877550655998042), (748, 0.006866381956881801), (1841, 0.0068603963477285685), (4652, 0.006856032221671864), (4284, 0.0068524144858875865), (4670, 0.006851281099954724), (880, 0.00684971151011393), (3531, 0.006849310188237343), (1718, 0.0068433197939730345), (2691, 0.006827378360882851), (4299, 0.006826537731045353), (503, 0.006818991177010088), (413, 0.006808845527213228), (3487, 0.006805286493463305), (3734, 0.006803812700761207), (1653, 0.006798937878504368), (4008, 0.0067953522358047), (752, 0.00679334987681827), (3452, 0.00679332092196514), (1330, 0.006786478797130686), (1231, 0.0067834859646059556), (1123, 0.0067774676418427115), (3122, 0.0067746430098642105), (2897, 0.006770461146235005), (1738, 0.006768308873949785), (3648, 0.006766123790280734), (3035, 0.0067596421321475635), (2816, 0.006745810739289076), (1125, 0.006742776558661334), (4523, 0.006734831033623672), (1172, 0.0067261676707546444), (868, 0.006721187405215016), (3696, 0.006713541734334276), (644, 0.006711012536613667), (1421, 0.0067062436458562935), (600, 0.006698240240495588), (923, 0.006689336011902613), (31, 0.006688308803235893), (2496, 0.00668384592610646), (778, 0.006683793695135637), (1177, 0.006683261654606825), (4467, 0.006682236611568334), (2348, 0.006678803794170804), (1001, 0.006663025178659112), (1911, 0.006662650070761068), (4154, 0.0066616740109381265), (4591, 0.006659224595117263), (422, 0.0066453726380597145), (2708, 0.006630948459902821), (1094, 0.006629552701111802), (2726, 0.0066286056959993685), (1076, 0.006627500270714607), (2732, 0.006626278481505786), (1608, 0.0066221402728306195), (3149, 0.006620757750650949), (1375, 0.00661833909547737), (671, 0.006615156243277316), (367, 0.006612598499229402), (2899, 0.006612058496678761), (2962, 0.006610911772022742), (1908, 0.006605940593537181), (1041, 0.006595580424056797), (4388, 0.0065919637807257195), (2184, 0.006591777529971113), (1250, 0.00659010199306112), (56, 0.006586749103946706), (3265, 0.006585283174863044), (311, 0.0065843207857987675), (1555, 0.00657608695361581), (3632, 0.006572936808806602), (3033, 0.006572481760459856), (581, 0.00656860564784475), (3460, 0.006554025736159258), (1644, 0.006545254833325487), (1433, 0.00653897700618148), (131, 0.0065387750353923), (1345, 0.006538415199247737), (3342, 0.006537124699010946), (4001, 0.006525531574216694), (608, 0.006519679140693228), (1819, 0.006517979311079224), (1111, 0.006517081974321928), (1501, 0.006514762971860788), (4210, 0.0065041552855582335), (1425, 0.006503619549015606), (1306, 0.006502464770761762), (2324, 0.006490411397111375), (1065, 0.006481466603044741), (3876, 0.006463447380327895), (996, 0.006462520951518626), (1462, 0.006462151442401482), (910, 0.0064610760390075034), (3594, 0.006459197276756882), (283, 0.00645908289129005), (4282, 0.006454597021881181), (563, 0.006453219229210473), (758, 0.006452620649583176), (744, 0.006452161442971292), (3926, 0.006446278376709911), (834, 0.006442665025223256), (1238, 0.006434762665595521), (863, 0.0064317362855097855), (2056, 0.006427218007551207), (3842, 0.006427192258913068), (3974, 0.006419989340636474), (3910, 0.006418983111618809), (1849, 0.00641799424773878), (1867, 0.006417584372027361), (1892, 0.0064132136238182055), (2503, 0.006413179799931297), (3841, 0.006410512826830769), (122, 0.0064077904375627525), (2335, 0.006403365694251302), (1374, 0.006400576563002199), (745, 0.006396677806105433), (1448, 0.006388096205283055), (4099, 0.006385643997440496), (2424, 0.006382246398721183), (4367, 0.006378523602010813), (1964, 0.006375003306764973), (981, 0.006373806433512088), (3288, 0.006373294893902552), (3458, 0.00637273361309135), (2724, 0.006372191158539124), (3705, 0.006368298230997622), (497, 0.006367985567335767), (1987, 0.006364969879866937), (1760, 0.00636473147990306), (3998, 0.006353735891051131), (230, 0.006349543277558951), (2031, 0.006344244260670295), (1692, 0.006342061442554597), (2239, 0.0063399214487660374), (804, 0.006337270359807133), (1913, 0.00633533614051848), (22, 0.006328653434334182), (1627, 0.0063268796947315), (2580, 0.006324173769516193), (3566, 0.0063228785251991885), (4738, 0.006313605604422936), (1816, 0.006307113462788061), (3066, 0.006305628402938252), (1329, 0.006292490866874677), (3474, 0.006272352511418668), (1526, 0.006269468848161328), (200, 0.006258559372369748), (4303, 0.006254378710761617), (4217, 0.006244434729451238), (1414, 0.006238888064497358), (2160, 0.006237871777066207), (521, 0.006235433907251778), (263, 0.006231157246315862), (2202, 0.006228500601142605), (940, 0.006227960468144672), (2833, 0.006227002818398564), (4564, 0.006221013816272216), (300, 0.006218856762546737), (4661, 0.006206546594743163), (4666, 0.006200670363017062), (1327, 0.006189104169069488), (3309, 0.006189080565346656), (1267, 0.006183510303765638), (1307, 0.00617332755441885), (4459, 0.006169689789192299), (2388, 0.006169508987064162), (1797, 0.006165944937142171), (4691, 0.006163591706865389), (1552, 0.00616297318832034), (1213, 0.006146565540722821), (835, 0.006135493643367332), (642, 0.006133295567382112), (3114, 0.006127356376097385), (2095, 0.0061261413877569), (617, 0.006124457938945542), (1664, 0.006123662840550428), (958, 0.006105273844698199), (862, 0.0060917317596586845), (4236, 0.006079032458152568), (35, 0.006078497604752027), (1818, 0.006070347447850411), (2291, 0.006068990590164525), (568, 0.006067349488363209), (3721, 0.006061830198697157), (248, 0.006057872405471781), (4009, 0.006053167680631147), (1939, 0.006049049599998111), (4432, 0.006043033885931285), (2175, 0.006042670631612023), (9, 0.006035913473090681), (3909, 0.0060345928442285665), (3864, 0.006031654908555931), (2205, 0.0060311619404398), (821, 0.006025643086243302), (3244, 0.006012442457048305), (1746, 0.005998227623721741), (861, 0.005987751903268081), (1356, 0.005975698856177783), (1903, 0.005974513096643025), (4733, 0.005974156521609966), (4342, 0.00596740282490171), (4537, 0.005961942734766187), (3975, 0.00596038597955302), (16, 0.005957098367106825), (2203, 0.005924385329627094), (3715, 0.0059098779364265075), (3331, 0.00589861537774076), (3658, 0.005890219348270294), (4219, 0.005886939883063393), (2058, 0.005859929531112492), (4055, 0.005852545558740916), (3825, 0.005839702542821597), (2355, 0.005837971990251375), (583, 0.00583308486070987), (2185, 0.005830318639887026), (1981, 0.005826836828883948), (1214, 0.005824023620462657), (1316, 0.005814537116283703), (3865, 0.005814162503391022), (4646, 0.005813037180776773), (3752, 0.005812869043176029), (4464, 0.005807842076972244), (3598, 0.005807262626973394), (2935, 0.005792200080918712), (4047, 0.0057776456154014265), (2426, 0.00577458303536401), (2156, 0.005771792086136113), (4057, 0.005753388486458427), (1715, 0.005739461940211602), (1684, 0.005736650340490522), (3844, 0.0057260882033807305), (4208, 0.0057260132836709395), (3509, 0.005716848959262505), (1344, 0.005687345515286812), (3049, 0.005685168032129505), (277, 0.005675751727532856), (953, 0.005650109531381473), (4385, 0.005641574320327646), (4674, 0.005630265812309604), (3748, 0.005625742215934271), (2328, 0.005621402305500347), (4110, 0.005621317925984822), (3588, 0.0056142989050786156), (3391, 0.005590603158482884), (1863, 0.00556636775221933), (3942, 0.005551297769540105), (3448, 0.005547424566403696), (4653, 0.005545971027052075), (4514, 0.005539865259203224), (3744, 0.005530742326646761), (3502, 0.005525704517730759), (4698, 0.0055252016800750306), (2098, 0.005515828327226138), (177, 0.005482962496611479), (571, 0.005452092895537709), (3164, 0.0054460026229962285), (4331, 0.005442920067364422), (1941, 0.005428716054645402), (3168, 0.005428494367993246), (2439, 0.005413848517538367), (369, 0.005390525777270134), (4642, 0.0053835730533984445), (1453, 0.005377872347592456), (2273, 0.005373995512970757), (2567, 0.005371129939067366), (3940, 0.005364787000868831), (4285, 0.005357503512469011), (1381, 0.0053445309900745554), (4726, 0.00532448878228483), (2665, 0.005322568221368245), (4518, 0.00532184018063406), (562, 0.005311543380458905), (1695, 0.005293155413798214), (512, 0.005282576560339702), (2809, 0.005276538571438211), (1940, 0.0052746939104506224), (4527, 0.00526632478531983), (4162, 0.005242108045382711), (3440, 0.005231911738482194), (425, 0.005208707137744501), (380, 0.005205498704972345), (855, 0.005201735482539843), (4746, 0.005194815480740904), (2683, 0.00517550658846064), (3022, 0.005172967771243591), (1332, 0.005167344703271941), (477, 0.00516657186035961), (3468, 0.005150601002306151), (2576, 0.005142477127495563), (2700, 0.005141958197825219), (4261, 0.005130582547925374), (2774, 0.005129332708667809), (2181, 0.005126826963806411), (3117, 0.005123716902226019), (4462, 0.00511028822357043), (2022, 0.005109604027485529), (168, 0.005108857408132098), (666, 0.005104589343229647), (1158, 0.005098299176926183), (128, 0.005087110869619526), (4043, 0.005079857634202203), (1391, 0.005077327351264883), (3158, 0.005074480153087209), (2733, 0.005074255814931611), (4630, 0.005071175008429925), (1724, 0.005059680027444601), (550, 0.00505007151067041), (4120, 0.005049294096184058), (1554, 0.005047294476486185), (687, 0.005046648287325356), (2231, 0.005046446690862766), (2113, 0.005044837737272177), (4515, 0.005043914856028064), (831, 0.005039960978116018), (4595, 0.005038876070713619), (1962, 0.005034000177981076), (3163, 0.005027291288206888), (3205, 0.005021977988435742), (595, 0.005013579585704892), (4307, 0.005012132930499593), (69, 0.0050079485358487975), (3180, 0.0050007050480904225), (3191, 0.005000134970871687), (2314, 0.004999250695069344), (1952, 0.004998682466135842), (3802, 0.00497586381623068), (2626, 0.004975052985229956), (3263, 0.0049736903449815765), (4119, 0.004969227414986646), (3584, 0.0049654599385202565), (6, 0.004961196835107342), (3787, 0.004959201567449419), (514, 0.004957857935767445), (102, 0.004950519434391194), (3774, 0.004948778897254939), (1167, 0.004945460137308762), (802, 0.004943640743437863), (303, 0.004943225563127325), (2599, 0.00494071071366412), (1659, 0.00493042124128105), (513, 0.0049288103945303125), (3907, 0.004918792186150386), (4621, 0.004907081631742909), (1661, 0.004904807076236866), (1280, 0.004904468909984911), (3604, 0.004901730524698704), (3451, 0.004901632695815954), (414, 0.004898008091570975), (992, 0.004893433343493589), (4240, 0.004890630500838905), (3782, 0.004885626497420448), (2136, 0.004884486737906893), (4719, 0.004879191620043284), (4091, 0.004878858007904669), (1452, 0.004878326416662522), (4076, 0.0048764784431598925), (1791, 0.0048759460270270906), (3938, 0.004875222840227413), (2084, 0.004873681273624045), (1829, 0.004868327987702375), (1732, 0.004864057774849952), (4090, 0.004849963696661879), (4373, 0.004849449674690679), (2947, 0.004845153778719943), (1150, 0.004840174533842923), (1575, 0.0048388889357004645), (3897, 0.004833203838367987), (1614, 0.004830166684510767), (118, 0.004828347047988685), (420, 0.004827766334253723), (4384, 0.004826035402472573), (3710, 0.004822311167843336), (2208, 0.004817291322026986), (561, 0.004814589628244259), (4312, 0.004812007872298363), (3404, 0.004810074782254), (1904, 0.004806712198458249), (239, 0.00480643054100095), (1975, 0.004805112700537374), (765, 0.004801040986492497), (3513, 0.004798457856002004), (1449, 0.004792350135677483), (189, 0.004791103282701064), (2044, 0.004787059840305153), (3131, 0.004785504487894142), (2015, 0.004785307325987584), (220, 0.00478334862713481), (919, 0.004780175162679133), (1859, 0.004779155709670205), (3124, 0.0047776440232900255), (4639, 0.004775577885534071), (2283, 0.004769686727920864), (2790, 0.0047684544219185115), (1380, 0.004767633244884078), (3398, 0.004767079169287236), (1901, 0.004766644574815062), (3134, 0.0047656940116667995), (1531, 0.004764753820983486), (4211, 0.004760506760952187), (2330, 0.004758783997130863), (2819, 0.004758142263733477), (1469, 0.00475733196022378), (3995, 0.004749911993376073), (4392, 0.004745932019501069), (4586, 0.0047447026720390025), (793, 0.004741536733469802), (320, 0.004735797300479551), (1426, 0.004732090872364783), (2949, 0.004730158904710785), (3997, 0.00472917438881025), (1587, 0.0047272136942113985), (2959, 0.004726770535558305), (4275, 0.004726375350799554), (1588, 0.004723539672876532), (3438, 0.004716934672929237), (4678, 0.004715759673505918), (1502, 0.004715049597060546), (3769, 0.004712252338778529), (2960, 0.004711854792380926), (891, 0.0047093621069500624), (2064, 0.004702448582289311), (4251, 0.00470238658588532), (1435, 0.004699842357351714), (2278, 0.004692479643154248), (1881, 0.004689856360782762), (3833, 0.004675007856507132), (4552, 0.004673911342793054), (685, 0.004669415994182201), (27, 0.004665848979744238), (95, 0.004663938475698852), (4376, 0.0046633950263602645), (4103, 0.004659503588813532), (336, 0.004650175305370941), (2130, 0.004648190066210324), (3179, 0.00463920059793221), (3908, 0.004633824084212923), (3815, 0.0046325968946456615), (1998, 0.004631171120696273), (4377, 0.0046281556924769535), (4248, 0.004628062195442127), (2991, 0.004623096776090474), (3576, 0.0046189720533890205), (1930, 0.004617996057660272), (3443, 0.004615311208702314), (849, 0.0046127245970048825), (811, 0.0046116413599287705), (902, 0.004609781953425159), (3005, 0.004603483368989649), (347, 0.004591491170939875), (2506, 0.004591186880011833), (90, 0.00458722081370742), (30, 0.004583893705644379), (2501, 0.004583340858468838), (3520, 0.0045791201718299365), (4383, 0.004577578611424178), (233, 0.004573065742887001), (39, 0.0045726432199660935), (1566, 0.004572314183592174), (3555, 0.0045654369498934625), (460, 0.0045622247415842854), (4360, 0.004558891975940203), (1431, 0.004550349455354273), (1622, 0.0045368170619627885), (375, 0.004536347791698847), (1573, 0.0045313548817869365), (2246, 0.004530080908205641), (315, 0.004527496411453233), (4310, 0.004525924360197712), (3432, 0.004524557126474984), (4708, 0.004520281654868196), (1633, 0.00451692225821419), (389, 0.004514159534734886), (4665, 0.00451410757483878), (3367, 0.004508832700914648), (2847, 0.004506063093479992), (135, 0.004505300908145128), (451, 0.004504275302803167), (2232, 0.004498514469243994), (3932, 0.004497952138979105), (1857, 0.004482844147953902), (619, 0.004480887442333854), (1127, 0.004477482548045779), (4264, 0.0044772495793051975), (305, 0.004470594659583041), (1082, 0.004463566192033984), (1846, 0.004456793078572855), (3583, 0.004455352960110845), (633, 0.0044548228689518365), (152, 0.004447758996716062), (1933, 0.004446782724621804), (467, 0.004445361176656495), (1635, 0.004443749007876235), (927, 0.00444038299645017), (634, 0.004438180772562867), (4438, 0.004437251927742667), (3602, 0.0044306064728112755), (1953, 0.004426390881957604), (3126, 0.00441575934046765), (4039, 0.004412744057858609), (3011, 0.004411540227047138), (3886, 0.004410337519086867), (2787, 0.004409492496260036), (93, 0.004408528016468298), (2432, 0.004407648347862745), (310, 0.004400541924275636), (2245, 0.004390031706221437), (1207, 0.004387186450676619), (3161, 0.004381958887846974), (260, 0.004363531136757738), (3136, 0.004353353552466144), (1993, 0.004353299345616788), (3664, 0.004346721314881718), (3823, 0.00434250258534028), (1347, 0.004342180909820755), (1211, 0.004339607206728672), (4582, 0.004336950609807628), (690, 0.004323302112670854), (1623, 0.004315930127356083), (3338, 0.0043148042575294155), (2711, 0.0043044658829748325), (3970, 0.004301389368658876), (1154, 0.004289637014368193), (2139, 0.004288078471851592), (4292, 0.004286137171686857), (4587, 0.004284601405210897), (3100, 0.004278625361413209), (2736, 0.0042750549861226604), (1428, 0.004273890599205934), (3881, 0.004269611974546611), (1632, 0.004267045141193217), (1631, 0.004265456909435371), (2442, 0.004262383866190122), (3723, 0.004261446421598328), (3361, 0.004259381414856205), (4044, 0.004259076918362438), (4071, 0.004257510769836169), (661, 0.004257141451216806), (4274, 0.004255253597746145), (4328, 0.004253630945396269), (4441, 0.0042518922518405685), (1451, 0.004251355671172438), (3133, 0.004248446462407863), (2660, 0.00424830720170082), (3966, 0.0042470046410060715), (316, 0.00424476639857367), (3824, 0.004244095044377894), (3788, 0.004242314787697264), (974, 0.004238307921542763), (2682, 0.004231380459846674), (4585, 0.004230879387049994), (3135, 0.00421816398540428), (323, 0.0042151458293526785), (810, 0.004201133874092648), (1914, 0.0041992307881898346), (4697, 0.004199160305342196), (1562, 0.004196138395700388), (1840, 0.004195619875600868), (426, 0.004194981764065119), (3079, 0.004193647752729907), (397, 0.004192686472799914), (4193, 0.004190134379175223), (4322, 0.004188897804615102), (1784, 0.004188679711275002), (4339, 0.004184654033428887), (1197, 0.00418230695909583), (893, 0.004174973403962983), (306, 0.004165120244590602), (94, 0.004154896754171827), (932, 0.004151298000051065), (3143, 0.004149902825319217), (2984, 0.004139312657194488), (1480, 0.004132966219752417), (625, 0.0041280289143498005), (3534, 0.00411427345045494), (997, 0.00411305482781926), (1590, 0.004107022469362059), (611, 0.0041050469234435154), (4664, 0.004102679053010391), (1281, 0.004101264233033816), (559, 0.004100450189638898), (1458, 0.004092133743126438), (3495, 0.004085015520184606), (2678, 0.004084981971476955), (4290, 0.004080194168476758), (191, 0.004074479969683458), (898, 0.00407110080586569), (3247, 0.004060896422418147), (80, 0.004058358708264752), (1546, 0.004053250131266853), (756, 0.004041729791176386), (803, 0.004032275909697818), (4365, 0.004026201926780792), (2299, 0.004021695442063326), (1699, 0.004015809606309082), (4571, 0.004004818611984063), (187, 0.003989305377947339), (1559, 0.003987255071611516), (3160, 0.003986764909151895), (3178, 0.003984216619338233), (1120, 0.003983156969600504), (3619, 0.003963802550832409), (4468, 0.003957117320341771), (290, 0.003956251314513775), (1772, 0.003953190820880011), (4426, 0.003947749374151139), (234, 0.003938663944366265), (1753, 0.003922002163699287), (1925, 0.003916255780142801), (295, 0.0039062341350675415), (2801, 0.0039026992305503856), (76, 0.0039022475150865274), (639, 0.0038957829905862836), (2541, 0.0038940098489985355), (3339, 0.0038908816942194893), (1309, 0.003890001470225079), (3806, 0.003885639293619035), (640, 0.0038731112390947477), (3776, 0.0038700568989762114), (3512, 0.00386419107429857), (314, 0.003859391719384455), (3405, 0.003859253258163435), (2757, 0.0038566540322216027), (1910, 0.0038430634473724653), (723, 0.003834726084404491), (4513, 0.003809486268524756), (3484, 0.003800941373651795), (2998, 0.0037819716224939443), (4555, 0.0037579753931409276), (3989, 0.003756294808329247), (1164, 0.0037393928048357924), (2573, 0.00373880937617741), (469, 0.0037349690947405785), (738, 0.0037291864937689795), (3925, 0.0037208991268459337), (3944, 0.0037174766396310187), (2529, 0.0036560054626594823), (1576, 0.0036482711415740435), (1395, 0.003647017177854849), (4607, 0.003635573902682543), (2379, 0.003634802027080094), (2490, 0.003629788506695366), (289, 0.003628299827478907), (3523, 0.003612339593039543), (4705, 0.003603525901268027), (2937, 0.0036027880538587), (2078, 0.003592345531031919), (294, 0.0035905432129006987), (3051, 0.003589977472121337), (2764, 0.0035809891652164817), (2858, 0.0035723805944045985), (2137, 0.003571135110382061), (3672, 0.0035704643937011843), (3139, 0.0035644843171044474), (2326, 0.0035444853080943265), (4082, 0.0035369340445668422), (2722, 0.0035311369366576493), (2189, 0.0035308876598396373), (4202, 0.003524247218608301), (3040, 0.003519727695529142), (2989, 0.0035119109032962907), (2251, 0.003504874914438138), (3166, 0.0034886240469105467), (2407, 0.003483935585306541), (2349, 0.003482280279167295), (3990, 0.0034777026161989877), (1145, 0.0034730660056731862), (2889, 0.003469113075846275), (3561, 0.0034540958092944495), (2537, 0.0034502966040379493), (4704, 0.0034431976083856243), (3052, 0.003442350758853426), (735, 0.003441253900895528), (2404, 0.0034270001817802683), (77, 0.0034192895800615702), (2870, 0.003416355472561929), (2775, 0.0034145871644854463), (3030, 0.0034143514334331955), (3055, 0.00341093217970737), (3042, 0.0034080456848323186), (4017, 0.003399338140607159), (2883, 0.003393163325770715), (4749, 0.0033823283081285144), (2731, 0.0033821340372425283), (3291, 0.003381832905417852), (4222, 0.0033801306824052606), (2923, 0.003378892482431557), (4221, 0.00336973211395697), (2310, 0.0033632800339222636), (627, 0.003363125725207282), (4529, 0.0033623826108868824), (4611, 0.0033574702238398026), (3479, 0.003349336613179853), (4484, 0.0033475523083913274), (3939, 0.0033433845966314617), (2861, 0.0033351019710421066), (4172, 0.003330982414791063), (2673, 0.0033237018076361867), (1210, 0.003323332078850025), (2559, 0.0033042418524892674), (4418, 0.0033036235810815846), (4696, 0.0032974928115282183), (2832, 0.003295604477765456), (2392, 0.0032904000043177104), (3292, 0.0032885720272469807), (3762, 0.003283091431363721), (4407, 0.003279544339088629), (2628, 0.0032776788451781805), (3892, 0.003275850809361991), (2199, 0.003272176100655928), (4423, 0.0032681235152842497), (4019, 0.0032672467682257453), (2425, 0.003266551987258107), (2643, 0.0032584277269102793), (3878, 0.0032578388259897665), (1153, 0.0032469813594486236), (3322, 0.0032438084484336786), (2257, 0.0032428141436510248), (3262, 0.0032400998186056817), (2901, 0.0032345874540251262), (889, 0.003233878927744265), (4230, 0.0032294269057042842), (3140, 0.003226249864829421), (1208, 0.0032233983584177735), (2350, 0.003220753613890983), (4400, 0.0032116726500941942), (3219, 0.0032104282482890074), (4142, 0.003202930476295702), (2838, 0.0032014375963315966), (2448, 0.0032013955285303984), (2286, 0.0032003961021961915), (4102, 0.0031937971701650673), (3848, 0.003191927691698722), (3763, 0.003191426886011377), (3015, 0.0031850869230568967), (475, 0.0031798106541472046), (2423, 0.0031758003078109992), (3354, 0.0031675511601737686), (3239, 0.0031637206621927274), (3128, 0.0031629990524691142), (3282, 0.0031570723901786697), (3159, 0.003156419856488163), (3429, 0.0031556863710822773), (526, 0.003154580554811595), (1711, 0.003152195694536735), (1121, 0.003145635182296828), (3687, 0.003142589155016573), (3363, 0.0031373767597386655), (4521, 0.003131102762369809), (4544, 0.0031282812786572155), (4692, 0.0031252987890644577), (4606, 0.0031251502261368243), (2557, 0.003111607423574239), (3922, 0.0031113732286716955), (4107, 0.0031100369022032293), (4306, 0.003108885226718486), (3613, 0.003105668150180536), (3616, 0.0031049792115302897), (2438, 0.003104696957130553), (2834, 0.0030964631969696644), (4572, 0.003092813471714843), (3577, 0.003091196571483285), (3074, 0.003080921825522408), (4298, 0.0030801610154037595), (4723, 0.0030775457377862094), (326, 0.0030770856584825274), (3832, 0.0030768399307806176), (2266, 0.0030766906289087436), (2797, 0.003072210898047678), (2957, 0.003070648968474022), (4280, 0.003067847381586612), (2848, 0.003066807999977457), (3874, 0.003065820737975067), (2488, 0.003063064612178472), (2966, 0.0030588937704423224), (3620, 0.003055370328541391), (2415, 0.003054421814917081), (3031, 0.003053510801240151), (4147, 0.003052646054196008), (3544, 0.0030504990682321846), (3537, 0.003047257218275104), (2454, 0.0030434782204011327), (3020, 0.0030399613759065974), (2857, 0.003039866459597551), (3358, 0.003038716458875922), (3357, 0.003036091973547817), (2993, 0.003035722476775367), (2738, 0.003034084591904086), (1593, 0.0030272349069914222), (4584, 0.0030223338194581544), (3257, 0.0030178282016689525), (3302, 0.0030128885901155155), (4458, 0.0030059524858176622), (489, 0.0030023870961603666), (777, 0.003002241378620644), (3413, 0.0029976749258671426), (2895, 0.002994820173654541), (1169, 0.002989841025457862), (2434, 0.002983365970744531), (1049, 0.0029831262030172788), (2772, 0.0029802912673289298), (4633, 0.0029718390489655877), (4632, 0.0029713606368490944), (3911, 0.0029675367155543395), (2613, 0.0029643168318824334), (4717, 0.002961748174895522), (3081, 0.0029597572456461843), (3206, 0.002957386098887854), (3935, 0.002957056781822912), (4416, 0.0029533060591417568), (3772, 0.0029527861697368294), (2378, 0.0029526279447286263), (431, 0.002952189740717965), (518, 0.0029511825196035), (2986, 0.002950238365660173), (4030, 0.0029500596464138327), (2707, 0.0029478241028728413), (1637, 0.0029468163103910875), (3745, 0.0029465682553409655), (4145, 0.002946030514266794), (1792, 0.002945732613709338), (4694, 0.002943663548022451), (3621, 0.002943212634561816), (1187, 0.0029399478128485567), (1748, 0.002937297043211458), (2142, 0.0029312706764606736), (3540, 0.0029300135794908394), (2570, 0.002930002009298416), (448, 0.002929564541740836), (2619, 0.0029295172208314017), (3359, 0.002927537229142417), (2544, 0.0029260272280998826), (4117, 0.0029251906571634905), (3307, 0.0029250859199378676), (1547, 0.0029231132229712836), (3866, 0.0029229290204135787), (4589, 0.002922467116940988), (4126, 0.002921930516443778), (3072, 0.0029219158437031505), (3308, 0.002919782359127823), (3560, 0.002917232208995725), (1947, 0.0029165158446604516), (3884, 0.0029140875377317204), (3754, 0.0029116658754061372), (4075, 0.0029094980970019104), (2987, 0.0029079762302870477), (3396, 0.0029069408159874133), (4713, 0.002906472239087808), (3729, 0.00290543800216373), (985, 0.00290436847707695), (614, 0.0029039367082075137), (2872, 0.0029011938021184895), (3337, 0.002896269581689198), (3364, 0.002895697653406516), (3165, 0.002894460770695759), (4002, 0.002894099351761416), (3186, 0.0028914191267250928), (4369, 0.0028903719326930184), (3952, 0.0028903298769253146), (3419, 0.002889620627791879), (4507, 0.002885093091437224), (2269, 0.002882846449431872), (1656, 0.0028820867204622275), (4535, 0.0028791237661632504), (2478, 0.0028786774711015593), (3355, 0.002875585180682385), (4650, 0.0028751319777322536), (4753, 0.0028739747297292033), (4516, 0.0028725380993676578), (3651, 0.002870523624219936), (1168, 0.0028697849863513524), (4295, 0.0028695432942155556), (2796, 0.0028691489772651544), (925, 0.0028685170071771223), (2702, 0.0028676021939617546), (4243, 0.002867362448980842), (3296, 0.0028666082442226604), (2720, 0.0028645467983808934), (1497, 0.002861532787259367), (2924, 0.0028609997059869225), (4267, 0.002860816406074288), (3962, 0.0028579087884714337), (2884, 0.0028573516649259), (2696, 0.0028558433298736256), (2437, 0.0028542921470998514), (3506, 0.0028541701127507255), (2623, 0.0028508561708638093), (1909, 0.0028474660028236383), (813, 0.0028469992684196773), (2320, 0.002845339035515033), (3148, 0.0028452919954633656), (2400, 0.002845235845814551), (478, 0.002844392151044665), (3425, 0.002843357921344212), (998, 0.002842119623623103), (4113, 0.0028415242021033104), (2411, 0.0028414386511734484), (4051, 0.0028391168888015324), (3274, 0.0028388535165588015), (2629, 0.0028374011822832174), (739, 0.0028332556635363255), (2302, 0.0028310820234295963), (235, 0.0028294253390707164), (3230, 0.0028281600869760584), (999, 0.002827736674306168), (3639, 0.002826658846761424), (576, 0.002826065493983367), (4718, 0.0028260389731314273), (4333, 0.002825614578922126), (2914, 0.0028240655453067483), (2916, 0.002822775247043328), (419, 0.002821285716808579), (596, 0.0028209022400946322), (2223, 0.0028195573790179462), (1862, 0.002818747459397021), (3003, 0.002817596025927303), (499, 0.0028170359109177907), (2974, 0.0028146593523981924), (922, 0.0028144383567344734), (3737, 0.0028141418476231423), (1349, 0.0028108802943909044), (3804, 0.002808642438996641), (2585, 0.0028070183826186526), (2134, 0.002804810597561646), (1887, 0.0027997513083709434), (4706, 0.0027997479577128014), (2356, 0.0027994868033123016), (3611, 0.0027973377817235618), (508, 0.0027956949835419836), (308, 0.0027945537267227583), (4130, 0.0027896970732307954), (4397, 0.002789147473798355), (3062, 0.0027882988549341675), (2108, 0.002788130962304532), (4140, 0.0027875019867930474), (3593, 0.002787437037857896), (3677, 0.002784680447521845), (4138, 0.002784492542864918), (3967, 0.0027842100451568133), (1890, 0.0027803916914370106), (587, 0.0027799415707888174), (2535, 0.002779758271542886), (4042, 0.002778015983639273), (2890, 0.002777386280374643), (2159, 0.0027758847029045425), (3026, 0.0027739143996979338), (1733, 0.0027736582187359465), (2176, 0.002773009113599364), (1109, 0.002772542587912133), (253, 0.0027718839619857577), (3915, 0.00277140088295119), (3013, 0.0027697009172360856), (623, 0.002769243539052099), (857, 0.0027661910016021567), (3587, 0.002763953593322297), (3414, 0.0027639263395493247), (4087, 0.0027625490443738162), (4263, 0.002762539593487499), (1594, 0.0027612126221063208), (1848, 0.0027597305071646555), (4368, 0.0027595609129545564), (3417, 0.002758970284530619), (2410, 0.0027586131912669285), (2830, 0.0027584371636690725), (444, 0.002757873223059412), (3116, 0.0027562759337392494), (2390, 0.0027554418317006293), (4396, 0.0027552709723224025), (1474, 0.0027549305667884665), (4308, 0.002754829102425608), (2592, 0.002752248219793962), (4269, 0.0027508669158978504), (4401, 0.00275085978584826), (476, 0.002750446007761816), (791, 0.0027503561057910285), (3893, 0.002749142151798935), (41, 0.0027490450214866856), (2595, 0.0027473467696254856), (3044, 0.0027441918528274016), (1805, 0.0027424388661791226), (887, 0.00274090652579432), (3714, 0.002740761109103277), (3258, 0.0027406474853877406), (4101, 0.002740419212751578), (3273, 0.0027390457976848516), (1580, 0.002737033522077715), (1905, 0.002736284232741163), (3234, 0.0027338377986514573), (3877, 0.002733304032760312), (2748, 0.0027306437504473154), (4528, 0.002729066480765579), (2705, 0.00272903289364169), (3064, 0.0027285754561404622), (3749, 0.0027281095780331797), (3845, 0.0027272479470298997), (4259, 0.0027262695555983554), (1907, 0.002723930276601258), (4680, 0.0027235153707037144), (2888, 0.0027227035769544603), (3813, 0.002720414933057124), (4545, 0.0027193410582536438), (8, 0.002717611399712059), (4489, 0.0027160385316525653), (2507, 0.0027153642696715), (4363, 0.0027137136913065107), (1959, 0.002713382920804123), (4734, 0.00271082558456796), (2475, 0.0027102085989328143), (2776, 0.002709294627670174), (4540, 0.002708188948765085), (4024, 0.00270771294255173), (2882, 0.00270509858914711), (12, 0.0027031465617347148), (2661, 0.002702730306658956), (4657, 0.0027005785324894236), (3497, 0.002698063020712726), (1007, 0.0026975048148043675), (3271, 0.0026973190207378516), (1479, 0.0026968527653242376), (1518, 0.0026960927012360495), (3889, 0.0026959303482641554), (4161, 0.0026956618440024593), (1916, 0.002695537317292188), (612, 0.0026943725932944687), (1995, 0.0026938574928585587), (4355, 0.0026932362496040955), (4495, 0.0026893366161995793), (4732, 0.0026892082733249935), (2786, 0.002687949525604932), (1765, 0.0026879109128195135), (4505, 0.002687776413769423), (3007, 0.0026877148772022855), (3269, 0.0026872805500832613), (3101, 0.0026871380507877997), (2293, 0.0026865277626373055), (3601, 0.002684768653735256), (1324, 0.002683239093961716), (2624, 0.002683151764395737), (3781, 0.002682522630705518), (4111, 0.0026816297005528996), (1409, 0.0026810643047021666), (2664, 0.0026808404792378194), (3449, 0.0026797018634517897), (3184, 0.002679120491657041), (4245, 0.0026790175820272533), (3757, 0.0026782835798830544), (4446, 0.0026782066856002977), (3406, 0.002678020935853098), (2610, 0.002677705311841747), (2970, 0.0026775626719949693), (2260, 0.002677295483542219), (1851, 0.0026764522528769535), (3434, 0.0026750553556390234), (1294, 0.002673738213810787), (826, 0.0026717877318471746), (4574, 0.0026716646329694796), (4357, 0.0026707932304764004), (456, 0.002670315937861265), (3183, 0.0026701967782158044), (3084, 0.0026699677170183545), (2609, 0.0026678697815603145), (3496, 0.0026663416754861844), (2755, 0.0026661087485570856), (2288, 0.0026658531219086842), (318, 0.0026644593890378793), (4448, 0.002664220345285561), (4471, 0.00266142349608883), (3187, 0.0026612717239797804), (2105, 0.0026609896455577946), (3037, 0.002660432915949913), (872, 0.002660169933540254), (2361, 0.0026586162956104453), (192, 0.0026565995245679186), (3987, 0.0026565489154237155), (3590, 0.002656098637016431), (2953, 0.0026549629575376922), (1822, 0.0026543757656029275), (4132, 0.0026540063101499938), (4575, 0.0026535092572587894), (4318, 0.002651084344360867), (3235, 0.0026506752410943493), (3873, 0.002650627700422684), (23, 0.0026496332133750184), (890, 0.0026490863204407496), (4136, 0.0026479116731462733), (884, 0.0026470286954534544), (2190, 0.0026441327666300763), (4566, 0.002643671031713428), (4262, 0.002643668472091694), (1570, 0.0026436360882142146), (4169, 0.002642205283883868), (1670, 0.0026416857561484927), (2911, 0.0026416720322710277), (783, 0.0026409902531221445), (2495, 0.0026409385145893605), (2393, 0.002640620715906779), (680, 0.0026400537988897784), (1683, 0.002640002107221677), (3770, 0.0026395868980592205), (1516, 0.0026389676688269846), (395, 0.002638929066379), (2242, 0.0026386846394210535), (4427, 0.002637106216101953), (4225, 0.002636525923457644), (865, 0.002635446424417747), (1703, 0.002635387911993663), (2725, 0.0026347406036982897), (2940, 0.0026341759106025594), (2878, 0.002631011372811229), (2391, 0.0026287833365470823), (4, 0.0026281929111748145), (3198, 0.0026276492264518414), (262, 0.0026267803342675546), (3372, 0.002626626870694112), (2926, 0.0026265710968645275), (4361, 0.002626120856775959), (4497, 0.0026255685948319554), (4419, 0.0026247789972449935), (3290, 0.0026237486534054313), (564, 0.0026236746453995813), (1896, 0.0026222673519466907), (2067, 0.0026219239779029626), (20, 0.0026215571822320576), (74, 0.002621366219866764), (1439, 0.0026211518279796696), (246, 0.0026210786134172512), (2419, 0.002621040143298445), (2531, 0.0026202182428779262), (2083, 0.0026200179886462943), (2561, 0.0026193404148204605), (3765, 0.0026188142955719234), (4340, 0.0026182689438517966), (2230, 0.002617710750592491), (3314, 0.0026157401513529945), (1660, 0.0026152199157303034), (4054, 0.002613886814956567), (3241, 0.0026137114502247354), (3353, 0.002612497385748243), (2792, 0.0026123726217265222), (4083, 0.0026109780785067253), (3902, 0.00261057545044094), (3920, 0.0026102575745603042), (2319, 0.00260977860932939), (2821, 0.002609621062645853), (4756, 0.0026096156123795035), (2863, 0.0026093098709895363), (2370, 0.002608422100357918), (3388, 0.002608380190778218), (4286, 0.002607503038301172), (717, 0.002607185200294314), (4625, 0.0026053376649269725), (3527, 0.0026048611783662198), (11, 0.0026028571894319064), (3678, 0.0026024436536866424), (4079, 0.0026018929522410575), (1364, 0.0025996165044853722), (987, 0.0025990378689194613), (4273, 0.0025985386790444757), (4420, 0.0025963793925845215), (2385, 0.002594722249535557), (3225, 0.002594665415129327), (2894, 0.002594409864471035), (3224, 0.002593150704293012), (3636, 0.0025928889138422608), (588, 0.002591388553621567), (1122, 0.0025905608373775653), (178, 0.0025883545463063783), (3242, 0.0025880383091899987), (4643, 0.0025875841803488673), (4422, 0.0025854581282745794), (2072, 0.002585205029377129), (1402, 0.0025846455283668793), (2148, 0.0025840615262346127), (1893, 0.002583821915529571), (848, 0.0025832388671226587), (71, 0.0025826917072179567), (1286, 0.002582246787700001), (211, 0.0025812650027265344), (3654, 0.002579391551369992), (3016, 0.0025779463247321034), (3809, 0.0025768864083410233), (3517, 0.0025766876195387188), (3150, 0.0025761571472339966), (2386, 0.0025749193033221974), (933, 0.0025738162733105674), (3493, 0.002573496299578065), (2313, 0.002572961307846896), (1463, 0.0025726498920935563), (2466, 0.0025718792503352248), (1176, 0.0025690710899930716), (377, 0.002568797364208561), (579, 0.0025682602398082333), (3565, 0.0025679147869533403), (1717, 0.0025676737069909622), (4334, 0.0025669159707479147), (1722, 0.0025666275125733906), (3445, 0.0025661621047709774), (1533, 0.002564516873287305), (871, 0.00256149385044412), (3882, 0.0025603533066561376), (4266, 0.0025600101764394543), (3606, 0.002559566749362903), (3113, 0.002559353690437755), (4330, 0.0025578725315156935), (993, 0.002557466963806091), (3283, 0.0025568484885762043), (1768, 0.0025558611985720863), (1110, 0.0025555531311692832), (749, 0.0025543539759708238), (3551, 0.002553610088860637), (2746, 0.0025522885638763235), (3707, 0.0025518953517330075), (4287, 0.0025517671010253777), (3542, 0.0025511410562527), (2904, 0.0025502754739500305), (2405, 0.0025502453291965433), (4014, 0.0025500982448472868), (1946, 0.002549219178836422), (3526, 0.00254803373580227), (4391, 0.002544171700943033), (1355, 0.0025420283814638644), (378, 0.0025395358768847747), (1645, 0.002537275127818834), (4563, 0.0025368433292361713), (2073, 0.0025361097420627107), (115, 0.0025351053253486262), (1476, 0.002534156213046072), (4135, 0.0025321176280965856), (4640, 0.002532033189764869), (66, 0.0025314204974158116), (4501, 0.002530334811741181), (2387, 0.0025298460527620322), (3491, 0.002528848201077413), (114, 0.0025281065713000633), (2396, 0.0025279650491787484), (3478, 0.002527250755893183), (2652, 0.0025266808226397253), (2492, 0.0025253415931351052), (4049, 0.0025253166187652037), (969, 0.002523827230977266), (3289, 0.002523519047594144), (4686, 0.0025229697749163736), (3564, 0.0025216097061951225), (3182, 0.0025214747831004167), (1163, 0.002521087783059382), (3075, 0.002520797997184863), (3341, 0.0025203976645616242), (504, 0.0025186819861065047), (2340, 0.002517925683051792), (2554, 0.0025176602001921746), (2292, 0.0025157802567942556), (2826, 0.0025131530854416695), (1574, 0.0025116890831935403), (2943, 0.002511334261889826), (755, 0.002510883679033408), (226, 0.002509335512200201), (2900, 0.0025082300789837954), (3216, 0.0025058049051714915), (4056, 0.00250503395099228), (3335, 0.0025043240888378377), (2416, 0.002504280456621625), (3792, 0.002504134977009599), (2289, 0.002502966192810524), (2192, 0.0025021422575162767), (1410, 0.002502047954236947), (3811, 0.0025015574548563247), (4687, 0.0025015126207191788), (2430, 0.0025012736132878763), (198, 0.0025010869763679284), (1131, 0.00249978424807956), (2354, 0.0024995032901753375), (1304, 0.0024979147014160684), (1693, 0.0024972657950066536), (2169, 0.002496778704451558), (1170, 0.002496725133338723), (1882, 0.002493600267445598), (1831, 0.002490055626152147), (4345, 0.0024898758379765288), (1378, 0.0024895392893129645), (2397, 0.0024890061615798252), (1204, 0.0024885633732969394), (348, 0.0024868402477722044), (1072, 0.0024860222009178323), (4520, 0.0024856746823401334), (1313, 0.0024854773888321156), (1706, 0.0024849873406858846), (2533, 0.0024845631517374125), (4183, 0.0024845443272159457), (3739, 0.0024844983398893813), (4641, 0.0024823604784255937), (4228, 0.0024818659704588983), (4604, 0.0024818175930112585), (400, 0.00248178229829502), (4036, 0.0024814891786004243), (1319, 0.0024813491606273438), (4197, 0.0024808724270969193), (4409, 0.0024801389073052667), (247, 0.0024799940938825117), (2853, 0.002479863251548949), (2422, 0.0024793143166305), (3673, 0.0024792382553408313), (4394, 0.002478690750299123), (2268, 0.0024782201950572353), (1284, 0.002478012959937128), (1298, 0.0024780101440381357), (1100, 0.0024774417489532756), (98, 0.0024748556983382962), (3381, 0.0024737793509241545), (2783, 0.002473600488594378), (2111, 0.0024732856079958377), (3402, 0.0024730137622581247), (1026, 0.0024728057422388956), (2946, 0.002472580752823629), (2060, 0.0024724188817037405), (3827, 0.0024712126459442867), (3093, 0.002469961760118792), (3441, 0.0024697525494665456), (169, 0.002469531791608672), (4320, 0.0024678550988963327), (490, 0.0024664453787938867), (3647, 0.00246638344719103), (973, 0.0024660019835621477), (1969, 0.002464383821051303), (3557, 0.0024619319851531384), (4487, 0.0024575314948910997), (3706, 0.0024570543290760283), (2195, 0.002456391874623394), (2999, 0.0024555365043387976), (3719, 0.002453608610849402), (2569, 0.0024531320717916263), (1598, 0.00245049231582427), (1813, 0.0024502946777479953), (466, 0.0024494547885982178), (4567, 0.00244889393733724), (4693, 0.0024482639889769156), (1666, 0.0024475020588384006), (541, 0.0024472646741012668), (127, 0.0024465412120960135), (4069, 0.002446440731070558), (1550, 0.002445941724273547), (1891, 0.0024444593670823224), (4428, 0.002444282524053885), (4530, 0.0024441426114978184), (2226, 0.002441922817931847), (215, 0.0024417627764792968), (4573, 0.0024415359975695043), (2909, 0.0024411315979319774), (1027, 0.0024405289228697424), (1350, 0.002439962362860503), (3173, 0.00243960092574239), (2461, 0.0024371766851670677), (3069, 0.0024367118034258188), (4550, 0.002435266523203028), (4129, 0.0024328475478382597), (349, 0.0024326294250675454), (507, 0.0024315952069769117), (1408, 0.002431519429082516), (3477, 0.002430213149957474), (3906, 0.0024297917040356195), (1411, 0.0024281124798029513), (1084, 0.0024272149921669823), (26, 0.0024266859935965796), (3953, 0.0024262158166035133), (959, 0.002426117620505517), (4020, 0.0024255283772917254), (2131, 0.002425484444598892), (2642, 0.0024251284655116266), (4139, 0.0024249013752597084), (3412, 0.002424880649144133), (4011, 0.002424758288310072), (2945, 0.002424733921637461), (2651, 0.002424131044370395), (3220, 0.002424051616219937), (4381, 0.002423843619516356), (4461, 0.002423284200216399), (2765, 0.002421924480399569), (2593, 0.0024218078161973), (646, 0.002421291057248473), (488, 0.0024195222282329433), (2166, 0.002419310336593675), (4729, 0.0024192506609860506), (1422, 0.002418821306576122), (731, 0.002418350170794215), (4743, 0.002417169868623631), (854, 0.0024166897747787404), (1597, 0.0024166660615840834), (1782, 0.0024159302431790803), (3641, 0.0024154255941903524), (3379, 0.0024154168559003064), (3348, 0.002415310543333334), (3900, 0.0024147606433184195), (1247, 0.0024138333873820884), (3214, 0.002411884358128633), (221, 0.002411109626221839), (1744, 0.0024105485223592958), (487, 0.002410199744731928), (3194, 0.0024094786755617446), (3917, 0.002409323395704554), (3298, 0.002408053497345099), (3890, 0.0024078367034495902), (1117, 0.002403881000429309), (325, 0.0024037398788638257), (4472, 0.002400236204126382), (3268, 0.0023991980946641033), (373, 0.0023984870927093367), (1617, 0.0023983923557013265), (157, 0.002396651598160095), (229, 0.0023964281084705814), (3691, 0.002395557415334562), (1034, 0.002394809689979828), (2779, 0.0023936387664230106), (4213, 0.0023924556929668544), (2401, 0.0023923183966626524), (388, 0.0023910826199172426), (4536, 0.002390860602044277), (3898, 0.0023879493165301175), (2728, 0.002387418253454752), (3170, 0.0023873925613603006), (132, 0.0023866233475284267), (1641, 0.0023851640242249094), (883, 0.0023846035530072857), (1877, 0.0023838341252162), (471, 0.002383820958366612), (598, 0.002383779235279845), (505, 0.002383491665660693), (2528, 0.0023794083484433), (2571, 0.0023773369997769776), (2117, 0.002377119991751479), (1921, 0.002375903629533031), (2892, 0.002374448550774715), (798, 0.0023741036907307046), (2954, 0.0023737362707435664), (2965, 0.0023733652984771966), (698, 0.002372976142517715), (2997, 0.0023726566427722477), (1416, 0.002372469574292773), (984, 0.0023708489302842807), (3799, 0.0023701059133738544), (2367, 0.0023688637563963806), (1404, 0.002368641034198641), (4206, 0.002368583910550454), (1663, 0.0023683571382176515), (1002, 0.0023678944204130335), (659, 0.002367825770784148), (3503, 0.0023674791849719375), (2004, 0.0023667187208345824), (1929, 0.00236645748142718), (3500, 0.002365884822376753), (1742, 0.002365542540121877), (4479, 0.0023635086527181836), (589, 0.002362948531274625), (4174, 0.0023622469044992096), (2099, 0.0023622182213819563), (3646, 0.002362195509904726), (3071, 0.0023602883155480685), (3615, 0.0023601261965112007), (941, 0.0023599280934197965), (2612, 0.0023589606097790296), (4254, 0.0023583236432776935), (4059, 0.0023579625552097886), (4155, 0.002357765676669598), (1642, 0.0023576794681005086), (2068, 0.0023573459470765524), (2679, 0.0023569652565452624), (2552, 0.002354278575074476), (4085, 0.002354081807193371), (1203, 0.002352330603795003), (3014, 0.0023512520117870885), (279, 0.002351151978896167), (355, 0.002350769921382933), (140, 0.002349935503769015), (121, 0.002349090128720369), (767, 0.0023490664709840754), (1372, 0.0023471810757116273), (975, 0.002344994999716095), (2446, 0.0023414275808984054), (3390, 0.002341228810988396), (1273, 0.002340077094040755), (3300, 0.002338911836965301), (3725, 0.0023388327634204583), (1032, 0.002338677667535552), (212, 0.002338149467418726), (2141, 0.00233746407462253), (154, 0.002336767950391133), (2800, 0.0023362816817861128), (2634, 0.002334611009027238), (136, 0.0023343494916110955), (4473, 0.0023339739922397414), (1558, 0.002333455753205426), (399, 0.0023328551537433496), (359, 0.0023326394672043434), (4634, 0.0023309690283110753), (759, 0.002330443773255219), (2556, 0.0023281893103928634), (605, 0.0023267593104510952), (3369, 0.00232655037423504), (4277, 0.0023262625001221533), (3627, 0.0023261617268981664), (2482, 0.002325201910181711), (1079, 0.0023245691932545624), (1884, 0.002324228118020115), (2862, 0.0023241523272885117), (4616, 0.0023232516262647416), (3057, 0.0023215768839196503), (4356, 0.002321381538916957), (1357, 0.002318753125005137), (2674, 0.0023186214646065306), (2525, 0.0023186075212443167), (886, 0.002318228423678933), (3147, 0.002317452074389863), (1036, 0.0023157694378637132), (1217, 0.0023157333902428297), (2735, 0.002314583164033961), (372, 0.0023135273038450196), (4350, 0.002313208476379575), (3243, 0.0023118987230045), (4620, 0.002311461554385156), (4326, 0.002310487737753459), (4359, 0.0023102695603628895), (2907, 0.002310170867932934), (2527, 0.00230968029276432), (655, 0.0023093080325425302), (944, 0.0023075541655779397), (907, 0.002304601650712331), (3455, 0.002304115447959362), (1814, 0.0023041009529606036), (3050, 0.002303371492156341), (805, 0.002303252892647226), (3563, 0.0023029978138341786), (158, 0.0023026019478400166), (3311, 0.0023012796307879013), (1392, 0.0023011503968803897), (2317, 0.002300541305682641), (2201, 0.0022998558609744345), (1456, 0.0022997388028235415), (1434, 0.0022993729227748587), (4712, 0.002298570221913796), (2399, 0.0022956805734599215), (594, 0.0022939304561857858), (1628, 0.0022937675865045493), (2457, 0.0022929668142684895), (3742, 0.0022916730096618054), (2453, 0.0022906621822591524), (1605, 0.002289602884447335), (1004, 0.002289204323518689), (1808, 0.0022889827864480557), (2129, 0.0022881151720471875), (410, 0.002287478015799673), (624, 0.002287132470393952), (1543, 0.002285766749127894), (3278, 0.0022851400626321757), (1340, 0.00228277749517247), (457, 0.002282715404313834), (2287, 0.0022762452274325226), (1869, 0.002275718312098309), (2502, 0.002274928252011334), (416, 0.0022731774847735797), (3863, 0.002271294064881525), (1503, 0.002271226891188542), (4143, 0.0022708410620245066), (1719, 0.0022695957330868253), (1528, 0.002269445036701341), (1826, 0.0022678605733008486), (278, 0.002266970637292167), (1161, 0.002266782645785549), (2845, 0.0022667054632110745), (473, 0.002266674829287042), (4304, 0.0022657035820095287), (1427, 0.0022637368923033125), (3304, 0.002262975292703365), (2976, 0.0022628637883772913), (4348, 0.002261179894590755), (3614, 0.0022609829544925396), (3795, 0.002259829376634017), (324, 0.002259674214861142), (2338, 0.0022595453133780943), (1672, 0.0022587193094401638), (1080, 0.002257837956643161), (3986, 0.0022567746809190672), (1251, 0.0022545314520278858), (268, 0.0022526918389713306), (92, 0.0022523856331742166), (3327, 0.0022523638137721238), (4638, 0.0022491175390046323), (1219, 0.002245970380656052), (524, 0.0022441188883913664), (3027, 0.0022404081208751724), (3669, 0.002240365249063258), (2721, 0.002240259494899799), (1366, 0.0022385757602936696), (1827, 0.0022384462835921123), (1199, 0.0022375084137580205), (4080, 0.0022366385734738756), (815, 0.002236308643316306), (2591, 0.0022348378322634955), (722, 0.002233821333244161), (2402, 0.00223286247095405), (856, 0.0022315213173882045), (495, 0.002231393499985508), (3336, 0.002230737887795451), (184, 0.002227007405065501), (2741, 0.0022267733831242567), (286, 0.002225853084820281), (2323, 0.002224966740925027), (3755, 0.0022230663198819374), (4066, 0.002222927603344032), (703, 0.002222233216701633), (4476, 0.0022221264639087773), (4220, 0.002221478977512232), (1423, 0.0022208567854981338), (2213, 0.002220635914758714), (1980, 0.0022202498016061696), (4074, 0.0022181424492721145), (103, 0.0022151034281634057), (2753, 0.002213049512968927), (647, 0.0022122993405614445), (1625, 0.002211308336878571), (1616, 0.0022100050490719367), (3894, 0.0022095662026586573), (1318, 0.002208238366122453), (4247, 0.002207314050800476), (1830, 0.0022068245251156337), (1450, 0.0022024492183801273), (3380, 0.002202289886557609), (2163, 0.0021972788389613977), (249, 0.0021952795266595502), (2240, 0.0021945918284640106), (267, 0.0021942032529995376), (3238, 0.0021921622633508217), (1954, 0.0021915842185819536), (4296, 0.002190761050562386), (165, 0.002188748971078676), (4343, 0.0021883519938333653), (2747, 0.002187331550639441), (4429, 0.0021862676557888616), (1301, 0.0021836363741631654), (712, 0.0021820308440891945), (2270, 0.0021811225800088666), (3569, 0.0021799261551871617), (1394, 0.002179846250449872), (480, 0.0021798028559615514), (1801, 0.0021727485481269635), (2047, 0.0021722510426035657), (4386, 0.002171335211025491), (97, 0.0021709630497021306), (2611, 0.002168145606871626), (4200, 0.002167333902511187), (1943, 0.0021651847551497905), (3252, 0.002161894305947563), (2382, 0.002160168137816262), (357, 0.0021578087574145484), (1370, 0.0021566613203520203), (2743, 0.002153264402050683), (2520, 0.002151307851139451), (3657, 0.002150394746672146), (2146, 0.0021465189521295306), (1209, 0.002144966974762752), (4411, 0.0021449326401583634), (3393, 0.0021445660903492737), (1088, 0.0021418943727568), (2758, 0.0021414463591750434), (3548, 0.0021414058447849567), (3211, 0.0021413373683246695), (2359, 0.0021344435080950497), (1352, 0.002131594354533274), (3668, 0.0021301067099972113), (4151, 0.0021287544920738487), (1828, 0.0021270539593776184), (626, 0.0021268395460804176), (1691, 0.002115881572743393), (3855, 0.002115790451190465), (195, 0.0021147268928462856), (951, 0.002113575155115735), (1042, 0.0021135175336664844), (4015, 0.002113120603228693), (1565, 0.0021131023309962113), (3056, 0.0021116479789844095), (4636, 0.0021108068510727143), (3200, 0.0021048498640073797), (2127, 0.0021018071954579474), (3928, 0.0021014174988544395), (707, 0.002098468669466061), (194, 0.0020938054982691918), (2039, 0.0020922570961227067), (3575, 0.0020878708342956863), (432, 0.002087030073842699), (196, 0.0020861810523120114), (3347, 0.0020855633550605074), (1624, 0.00208439626184386), (2526, 0.0020841886024324137), (2132, 0.002078079040289845), (3024, 0.002069934087053698), (2509, 0.0020688910280137556), (1415, 0.002064989805454789), (1305, 0.002062292942913859), (901, 0.0020622611147535024), (4311, 0.0020454448144143745), (2034, 0.0020399015688018613), (4744, 0.0020359364768466866), (4626, 0.002033684958947915), (645, 0.0020263536749644193), (3431, 0.0020188012284049752), (1677, 0.0020160623513405035), (2441, 0.00201583563832872), (3538, 0.00200491192223615), (2010, 0.0019857490649603285), (2766, 0.0019824567214897573), (351, 0.0019805164805882063), (1040, 0.001967219420300798), (3301, 0.001963438134399003), (1277, 0.0019586916421302034), (4598, 0.001949672106490318), (3199, 0.001934153433464742), (607, 0.0019316620926011611), (453, 0.0019280570784981884), (3626, 0.0019099486918721202), (2902, 0.0019027198458692594), (228, 0.0018733068349075781), (3546, 0.0018728014919586757), (4445, 0.0018719232881588372), (4301, 0.0018638299007361215), (2636, 0.0018600720478565843), (293, 0.0017935565412050328), (4752, 0.0017766862206947721), (3365, 0.001758848860686119), (4171, 0.0017519690270907506), (129, 0.00174656353103816), (740, 0.0016969983092055712), (24, 0.0016817869546834245), (3392, 0.0016473223003583793), (3608, 0.0016438135605315826), (1780, 0.0016419878064156289), (202, 0.001629797001001201), (2534, 0.0011384699607816465), (1, 0.0), (2, 0.0), (14, 0.0), (17, 0.0), (28, 0.0), (36, 0.0), (37, 0.0), (49, 0.0), (53, 0.0), (54, 0.0), (55, 0.0), (58, 0.0), (59, 0.0), (64, 0.0), (73, 0.0), (91, 0.0), (100, 0.0), (101, 0.0), (117, 0.0), (133, 0.0), (134, 0.0), (141, 0.0), (146, 0.0), (150, 0.0), (151, 0.0), (153, 0.0), (163, 0.0), (171, 0.0), (186, 0.0), (188, 0.0), (205, 0.0), (214, 0.0), (219, 0.0), (223, 0.0), (225, 0.0), (237, 0.0), (245, 0.0), (258, 0.0), (259, 0.0), (264, 0.0), (265, 0.0), (272, 0.0), (275, 0.0), (297, 0.0), (298, 0.0), (299, 0.0), (302, 0.0), (312, 0.0), (319, 0.0), (331, 0.0), (335, 0.0), (337, 0.0), (338, 0.0), (339, 0.0), (344, 0.0), (352, 0.0), (361, 0.0), (362, 0.0), (365, 0.0), (366, 0.0), (376, 0.0), (379, 0.0), (382, 0.0), (390, 0.0), (391, 0.0), (392, 0.0), (393, 0.0), (394, 0.0), (401, 0.0), (404, 0.0), (405, 0.0), (411, 0.0), (415, 0.0), (423, 0.0), (427, 0.0), (439, 0.0), (440, 0.0), (454, 0.0), (484, 0.0), (486, 0.0), (491, 0.0), (492, 0.0), (498, 0.0), (506, 0.0), (516, 0.0), (517, 0.0), (520, 0.0), (525, 0.0), (528, 0.0), (529, 0.0), (531, 0.0), (535, 0.0), (536, 0.0), (546, 0.0), (548, 0.0), (549, 0.0), (552, 0.0), (554, 0.0), (556, 0.0), (557, 0.0), (565, 0.0), (567, 0.0), (569, 0.0), (570, 0.0), (572, 0.0), (573, 0.0), (574, 0.0), (575, 0.0), (577, 0.0), (585, 0.0), (591, 0.0), (592, 0.0), (599, 0.0), (601, 0.0), (602, 0.0), (603, 0.0), (610, 0.0), (630, 0.0), (649, 0.0), (650, 0.0), (656, 0.0), (658, 0.0), (662, 0.0), (663, 0.0), (665, 0.0), (674, 0.0), (679, 0.0), (681, 0.0), (686, 0.0), (699, 0.0), (700, 0.0), (702, 0.0), (704, 0.0), (708, 0.0), (709, 0.0), (711, 0.0), (713, 0.0), (714, 0.0), (718, 0.0), (720, 0.0), (724, 0.0), (725, 0.0), (726, 0.0), (730, 0.0), (736, 0.0), (741, 0.0), (746, 0.0), (747, 0.0), (751, 0.0), (754, 0.0), (764, 0.0), (770, 0.0), (771, 0.0), (772, 0.0), (773, 0.0), (780, 0.0), (781, 0.0), (784, 0.0), (785, 0.0), (786, 0.0), (789, 0.0), (797, 0.0), (807, 0.0), (819, 0.0), (820, 0.0), (822, 0.0), (837, 0.0), (839, 0.0), (840, 0.0), (841, 0.0), (846, 0.0), (859, 0.0), (881, 0.0), (882, 0.0), (892, 0.0), (909, 0.0), (912, 0.0), (913, 0.0), (914, 0.0), (920, 0.0), (926, 0.0), (938, 0.0), (943, 0.0), (945, 0.0), (946, 0.0), (950, 0.0), (954, 0.0), (955, 0.0), (956, 0.0), (960, 0.0), (961, 0.0), (964, 0.0), (965, 0.0), (971, 0.0), (972, 0.0), (977, 0.0), (978, 0.0), (982, 0.0), (983, 0.0), (990, 0.0), (995, 0.0), (1008, 0.0), (1010, 0.0), (1011, 0.0), (1013, 0.0), (1016, 0.0), (1022, 0.0), (1025, 0.0), (1028, 0.0), (1029, 0.0), (1031, 0.0), (1038, 0.0), (1039, 0.0), (1051, 0.0), (1055, 0.0), (1056, 0.0), (1062, 0.0), (1066, 0.0), (1067, 0.0), (1073, 0.0), (1081, 0.0), (1086, 0.0), (1089, 0.0), (1091, 0.0), (1093, 0.0), (1097, 0.0), (1101, 0.0), (1103, 0.0), (1105, 0.0), (1106, 0.0), (1108, 0.0), (1113, 0.0), (1126, 0.0), (1130, 0.0), (1133, 0.0), (1135, 0.0), (1139, 0.0), (1142, 0.0), (1143, 0.0), (1147, 0.0), (1149, 0.0), (1151, 0.0), (1155, 0.0), (1156, 0.0), (1159, 0.0), (1165, 0.0), (1166, 0.0), (1171, 0.0), (1178, 0.0), (1180, 0.0), (1189, 0.0), (1190, 0.0), (1193, 0.0), (1196, 0.0), (1198, 0.0), (1200, 0.0), (1201, 0.0), (1212, 0.0), (1218, 0.0), (1221, 0.0), (1222, 0.0), (1227, 0.0), (1228, 0.0), (1233, 0.0), (1235, 0.0), (1240, 0.0), (1242, 0.0), (1244, 0.0), (1246, 0.0), (1253, 0.0), (1256, 0.0), (1258, 0.0), (1263, 0.0), (1265, 0.0), (1268, 0.0), (1269, 0.0), (1271, 0.0), (1285, 0.0), (1287, 0.0), (1288, 0.0), (1289, 0.0), (1291, 0.0), (1295, 0.0), (1296, 0.0), (1297, 0.0), (1299, 0.0), (1315, 0.0), (1321, 0.0), (1322, 0.0), (1323, 0.0), (1326, 0.0), (1328, 0.0), (1333, 0.0), (1336, 0.0), (1346, 0.0), (1353, 0.0), (1354, 0.0), (1368, 0.0), (1373, 0.0), (1390, 0.0), (1399, 0.0), (1424, 0.0), (1437, 0.0), (1441, 0.0), (1444, 0.0), (1447, 0.0), (1457, 0.0), (1459, 0.0), (1460, 0.0), (1466, 0.0), (1467, 0.0), (1468, 0.0), (1470, 0.0), (1473, 0.0), (1485, 0.0), (1487, 0.0), (1490, 0.0), (1491, 0.0), (1495, 0.0), (1496, 0.0), (1508, 0.0), (1511, 0.0), (1517, 0.0), (1520, 0.0), (1521, 0.0), (1522, 0.0), (1524, 0.0), (1525, 0.0), (1529, 0.0), (1532, 0.0), (1534, 0.0), (1535, 0.0), (1541, 0.0), (1545, 0.0), (1548, 0.0), (1549, 0.0), (1556, 0.0), (1557, 0.0), (1561, 0.0), (1563, 0.0), (1564, 0.0), (1569, 0.0), (1577, 0.0), (1578, 0.0), (1581, 0.0), (1584, 0.0), (1586, 0.0), (1589, 0.0), (1592, 0.0), (1596, 0.0), (1599, 0.0), (1600, 0.0), (1601, 0.0), (1602, 0.0), (1603, 0.0), (1604, 0.0), (1606, 0.0), (1607, 0.0), (1610, 0.0), (1611, 0.0), (1613, 0.0), (1615, 0.0), (1618, 0.0), (1626, 0.0), (1636, 0.0), (1638, 0.0), (1639, 0.0), (1640, 0.0), (1646, 0.0), (1649, 0.0), (1651, 0.0), (1668, 0.0), (1669, 0.0), (1673, 0.0), (1679, 0.0), (1686, 0.0), (1689, 0.0), (1697, 0.0), (1698, 0.0), (1700, 0.0), (1704, 0.0), (1709, 0.0), (1725, 0.0), (1726, 0.0), (1728, 0.0), (1729, 0.0), (1731, 0.0), (1734, 0.0), (1745, 0.0), (1751, 0.0), (1755, 0.0), (1756, 0.0), (1758, 0.0), (1766, 0.0), (1767, 0.0), (1769, 0.0), (1771, 0.0), (1775, 0.0), (1777, 0.0), (1778, 0.0), (1783, 0.0), (1785, 0.0), (1786, 0.0), (1794, 0.0), (1800, 0.0), (1803, 0.0), (1804, 0.0), (1810, 0.0), (1820, 0.0), (1823, 0.0), (1824, 0.0), (1825, 0.0), (1834, 0.0), (1835, 0.0), (1836, 0.0), (1839, 0.0), (1842, 0.0), (1844, 0.0), (1855, 0.0), (1856, 0.0), (1879, 0.0), (1883, 0.0), (1888, 0.0), (1889, 0.0), (1894, 0.0), (1898, 0.0), (1899, 0.0), (1912, 0.0), (1915, 0.0), (1917, 0.0), (1926, 0.0), (1928, 0.0), (1932, 0.0), (1938, 0.0), (1944, 0.0), (1955, 0.0), (1956, 0.0), (1961, 0.0), (1963, 0.0), (1965, 0.0), (1966, 0.0), (1972, 0.0), (1974, 0.0), (1978, 0.0), (1979, 0.0), (1984, 0.0), (2001, 0.0), (2002, 0.0), (2003, 0.0), (2006, 0.0), (2007, 0.0), (2009, 0.0), (2017, 0.0), (2019, 0.0), (2021, 0.0), (2025, 0.0), (2028, 0.0), (2030, 0.0), (2032, 0.0), (2033, 0.0), (2036, 0.0), (2038, 0.0), (2041, 0.0), (2042, 0.0), (2043, 0.0), (2046, 0.0), (2050, 0.0), (2054, 0.0), (2059, 0.0), (2063, 0.0), (2071, 0.0), (2079, 0.0), (2081, 0.0), (2085, 0.0), (2086, 0.0), (2090, 0.0), (2092, 0.0), (2106, 0.0), (2107, 0.0), (2115, 0.0), (2118, 0.0), (2120, 0.0), (2124, 0.0), (2125, 0.0), (2128, 0.0), (2135, 0.0), (2138, 0.0), (2140, 0.0), (2150, 0.0), (2152, 0.0), (2153, 0.0), (2164, 0.0), (2165, 0.0), (2168, 0.0), (2170, 0.0), (2171, 0.0), (2172, 0.0), (2179, 0.0), (2180, 0.0), (2182, 0.0), (2183, 0.0), (2186, 0.0), (2194, 0.0), (2200, 0.0), (2204, 0.0), (2207, 0.0), (2215, 0.0), (2217, 0.0), (2218, 0.0), (2219, 0.0), (2220, 0.0), (2222, 0.0), (2225, 0.0), (2227, 0.0), (2233, 0.0), (2234, 0.0), (2238, 0.0), (2241, 0.0), (2243, 0.0), (2247, 0.0), (2249, 0.0), (2253, 0.0), (2256, 0.0), (2259, 0.0), (2261, 0.0), (2262, 0.0), (2263, 0.0), (2267, 0.0), (2271, 0.0), (2272, 0.0), (2274, 0.0), (2281, 0.0), (2282, 0.0), (2296, 0.0), (2297, 0.0), (2300, 0.0), (2305, 0.0), (2307, 0.0), (2311, 0.0), (2312, 0.0), (2315, 0.0), (2322, 0.0), (2325, 0.0), (2327, 0.0), (2329, 0.0), (2331, 0.0), (2332, 0.0), (2333, 0.0), (2337, 0.0), (2341, 0.0), (2342, 0.0), (2345, 0.0), (2351, 0.0), (2352, 0.0), (2357, 0.0), (2360, 0.0), (2364, 0.0), (2369, 0.0), (2372, 0.0), (2373, 0.0), (2377, 0.0), (2380, 0.0), (2381, 0.0), (2384, 0.0), (2389, 0.0), (2395, 0.0), (2398, 0.0), (2409, 0.0), (2414, 0.0), (2420, 0.0), (2431, 0.0), (2433, 0.0), (2435, 0.0), (2445, 0.0), (2450, 0.0), (2451, 0.0), (2452, 0.0), (2455, 0.0), (2456, 0.0), (2458, 0.0), (2462, 0.0), (2465, 0.0), (2470, 0.0), (2471, 0.0), (2472, 0.0), (2479, 0.0), (2483, 0.0), (2485, 0.0), (2491, 0.0), (2493, 0.0), (2497, 0.0), (2498, 0.0), (2499, 0.0), (2500, 0.0), (2504, 0.0), (2508, 0.0), (2511, 0.0), (2514, 0.0), (2515, 0.0), (2516, 0.0), (2518, 0.0), (2521, 0.0), (2523, 0.0), (2532, 0.0), (2536, 0.0), (2539, 0.0), (2542, 0.0), (2543, 0.0), (2547, 0.0), (2548, 0.0), (2549, 0.0), (2551, 0.0), (2562, 0.0), (2564, 0.0), (2566, 0.0), (2574, 0.0), (2575, 0.0), (2577, 0.0), (2578, 0.0), (2583, 0.0), (2584, 0.0), (2586, 0.0), (2588, 0.0), (2589, 0.0), (2590, 0.0), (2594, 0.0), (2596, 0.0), (2597, 0.0), (2604, 0.0), (2605, 0.0), (2608, 0.0), (2615, 0.0), (2616, 0.0), (2620, 0.0), (2627, 0.0), (2631, 0.0), (2637, 0.0), (2641, 0.0), (2648, 0.0), (2656, 0.0), (2657, 0.0), (2658, 0.0), (2659, 0.0), (2662, 0.0), (2663, 0.0), (2666, 0.0), (2667, 0.0), (2669, 0.0), (2670, 0.0), (2671, 0.0), (2672, 0.0), (2675, 0.0), (2676, 0.0), (2677, 0.0), (2681, 0.0), (2684, 0.0), (2685, 0.0), (2686, 0.0), (2690, 0.0), (2693, 0.0), (2701, 0.0), (2703, 0.0), (2704, 0.0), (2709, 0.0), (2715, 0.0), (2717, 0.0), (2719, 0.0), (2729, 0.0), (2730, 0.0), (2734, 0.0), (2737, 0.0), (2749, 0.0), (2750, 0.0), (2754, 0.0), (2756, 0.0), (2763, 0.0), (2770, 0.0), (2773, 0.0), (2781, 0.0), (2785, 0.0), (2793, 0.0), (2794, 0.0), (2799, 0.0), (2804, 0.0), (2806, 0.0), (2810, 0.0), (2811, 0.0), (2813, 0.0), (2814, 0.0), (2817, 0.0), (2818, 0.0), (2824, 0.0), (2827, 0.0), (2828, 0.0), (2829, 0.0), (2835, 0.0), (2836, 0.0), (2837, 0.0), (2839, 0.0), (2842, 0.0), (2850, 0.0), (2851, 0.0), (2852, 0.0), (2855, 0.0), (2856, 0.0), (2860, 0.0), (2864, 0.0), (2865, 0.0), (2866, 0.0), (2875, 0.0), (2877, 0.0), (2880, 0.0), (2891, 0.0), (2896, 0.0), (2898, 0.0), (2905, 0.0), (2906, 0.0), (2921, 0.0), (2922, 0.0), (2927, 0.0), (2928, 0.0), (2930, 0.0), (2938, 0.0), (2941, 0.0), (2951, 0.0), (2952, 0.0), (2955, 0.0), (2956, 0.0), (2958, 0.0), (2967, 0.0), (2968, 0.0), (2973, 0.0), (2979, 0.0), (2982, 0.0), (2983, 0.0), (2990, 0.0), (3001, 0.0), (3002, 0.0), (3006, 0.0), (3009, 0.0), (3021, 0.0), (3025, 0.0), (3029, 0.0), (3034, 0.0), (3038, 0.0), (3041, 0.0), (3047, 0.0), (3048, 0.0), (3054, 0.0), (3058, 0.0), (3059, 0.0), (3060, 0.0), (3061, 0.0), (3063, 0.0), (3073, 0.0), (3077, 0.0), (3078, 0.0), (3080, 0.0), (3082, 0.0), (3087, 0.0), (3088, 0.0), (3089, 0.0), (3090, 0.0), (3092, 0.0), (3103, 0.0), (3104, 0.0), (3105, 0.0), (3106, 0.0), (3107, 0.0), (3109, 0.0), (3115, 0.0), (3121, 0.0), (3130, 0.0), (3132, 0.0), (3138, 0.0), (3141, 0.0), (3145, 0.0), (3162, 0.0), (3169, 0.0), (3172, 0.0), (3175, 0.0), (3176, 0.0), (3177, 0.0), (3181, 0.0), (3188, 0.0), (3189, 0.0), (3190, 0.0), (3193, 0.0), (3197, 0.0), (3201, 0.0), (3202, 0.0), (3204, 0.0), (3207, 0.0), (3208, 0.0), (3212, 0.0), (3217, 0.0), (3221, 0.0), (3223, 0.0), (3229, 0.0), (3231, 0.0), (3236, 0.0), (3250, 0.0), (3251, 0.0), (3261, 0.0), (3266, 0.0), (3270, 0.0), (3272, 0.0), (3277, 0.0), (3281, 0.0), (3286, 0.0), (3287, 0.0), (3305, 0.0), (3310, 0.0), (3320, 0.0), (3321, 0.0), (3323, 0.0), (3324, 0.0), (3332, 0.0), (3333, 0.0), (3340, 0.0), (3343, 0.0), (3350, 0.0), (3366, 0.0), (3368, 0.0), (3371, 0.0), (3378, 0.0), (3383, 0.0), (3394, 0.0), (3397, 0.0), (3400, 0.0), (3401, 0.0), (3411, 0.0), (3415, 0.0), (3422, 0.0), (3424, 0.0), (3439, 0.0), (3442, 0.0), (3444, 0.0), (3454, 0.0), (3459, 0.0), (3461, 0.0), (3467, 0.0), (3472, 0.0), (3473, 0.0), (3475, 0.0), (3476, 0.0), (3481, 0.0), (3482, 0.0), (3485, 0.0), (3489, 0.0), (3490, 0.0), (3494, 0.0), (3505, 0.0), (3510, 0.0), (3519, 0.0), (3522, 0.0), (3525, 0.0), (3529, 0.0), (3530, 0.0), (3532, 0.0), (3533, 0.0), (3539, 0.0), (3543, 0.0), (3545, 0.0), (3547, 0.0), (3549, 0.0), (3550, 0.0), (3554, 0.0), (3562, 0.0), (3567, 0.0), (3568, 0.0), (3578, 0.0), (3581, 0.0), (3585, 0.0), (3589, 0.0), (3591, 0.0), (3592, 0.0), (3595, 0.0), (3600, 0.0), (3603, 0.0), (3607, 0.0), (3609, 0.0), (3610, 0.0), (3617, 0.0), (3622, 0.0), (3625, 0.0), (3628, 0.0), (3631, 0.0), (3633, 0.0), (3644, 0.0), (3649, 0.0), (3650, 0.0), (3662, 0.0), (3663, 0.0), (3671, 0.0), (3676, 0.0), (3681, 0.0), (3682, 0.0), (3683, 0.0), (3685, 0.0), (3686, 0.0), (3690, 0.0), (3693, 0.0), (3695, 0.0), (3697, 0.0), (3698, 0.0), (3700, 0.0), (3702, 0.0), (3703, 0.0), (3709, 0.0), (3712, 0.0), (3716, 0.0), (3717, 0.0), (3718, 0.0), (3722, 0.0), (3724, 0.0), (3726, 0.0), (3730, 0.0), (3732, 0.0), (3735, 0.0), (3736, 0.0), (3738, 0.0), (3740, 0.0), (3743, 0.0), (3758, 0.0), (3759, 0.0), (3760, 0.0), (3761, 0.0), (3764, 0.0), (3783, 0.0), (3785, 0.0), (3786, 0.0), (3789, 0.0), (3790, 0.0), (3791, 0.0), (3796, 0.0), (3798, 0.0), (3800, 0.0), (3803, 0.0), (3805, 0.0), (3808, 0.0), (3812, 0.0), (3816, 0.0), (3817, 0.0), (3818, 0.0), (3820, 0.0), (3830, 0.0), (3831, 0.0), (3834, 0.0), (3836, 0.0), (3837, 0.0), (3838, 0.0), (3840, 0.0), (3843, 0.0), (3846, 0.0), (3847, 0.0), (3851, 0.0), (3856, 0.0), (3858, 0.0), (3859, 0.0), (3869, 0.0), (3870, 0.0), (3879, 0.0), (3885, 0.0), (3887, 0.0), (3896, 0.0), (3912, 0.0), (3914, 0.0), (3918, 0.0), (3921, 0.0), (3929, 0.0), (3930, 0.0), (3931, 0.0), (3933, 0.0), (3936, 0.0), (3937, 0.0), (3943, 0.0), (3948, 0.0), (3950, 0.0), (3964, 0.0), (3965, 0.0), (3968, 0.0), (3969, 0.0), (3971, 0.0), (3972, 0.0), (3977, 0.0), (3979, 0.0), (3980, 0.0), (3981, 0.0), (3982, 0.0), (3985, 0.0), (3988, 0.0), (3991, 0.0), (3994, 0.0), (3996, 0.0), (4003, 0.0), (4006, 0.0), (4010, 0.0), (4018, 0.0), (4021, 0.0), (4022, 0.0), (4026, 0.0), (4027, 0.0), (4029, 0.0), (4031, 0.0), (4034, 0.0), (4037, 0.0), (4040, 0.0), (4041, 0.0), (4058, 0.0), (4063, 0.0), (4065, 0.0), (4067, 0.0), (4070, 0.0), (4072, 0.0), (4073, 0.0), (4078, 0.0), (4084, 0.0), (4086, 0.0), (4097, 0.0), (4100, 0.0), (4108, 0.0), (4109, 0.0), (4112, 0.0), (4114, 0.0), (4115, 0.0), (4125, 0.0), (4127, 0.0), (4131, 0.0), (4144, 0.0), (4146, 0.0), (4150, 0.0), (4153, 0.0), (4157, 0.0), (4159, 0.0), (4166, 0.0), (4167, 0.0), (4168, 0.0), (4170, 0.0), (4173, 0.0), (4179, 0.0), (4180, 0.0), (4181, 0.0), (4184, 0.0), (4185, 0.0), (4186, 0.0), (4188, 0.0), (4190, 0.0), (4191, 0.0), (4194, 0.0), (4198, 0.0), (4199, 0.0), (4201, 0.0), (4204, 0.0), (4207, 0.0), (4212, 0.0), (4214, 0.0), (4215, 0.0), (4218, 0.0), (4223, 0.0), (4224, 0.0), (4229, 0.0), (4234, 0.0), (4237, 0.0), (4238, 0.0), (4239, 0.0), (4241, 0.0), (4250, 0.0), (4253, 0.0), (4256, 0.0), (4258, 0.0), (4260, 0.0), (4270, 0.0), (4271, 0.0), (4276, 0.0), (4278, 0.0), (4279, 0.0), (4291, 0.0), (4297, 0.0), (4300, 0.0), (4302, 0.0), (4305, 0.0), (4313, 0.0), (4315, 0.0), (4316, 0.0), (4317, 0.0), (4319, 0.0), (4323, 0.0), (4324, 0.0), (4327, 0.0), (4329, 0.0), (4332, 0.0), (4338, 0.0), (4341, 0.0), (4346, 0.0), (4347, 0.0), (4352, 0.0), (4353, 0.0), (4358, 0.0), (4364, 0.0), (4370, 0.0), (4372, 0.0), (4393, 0.0), (4404, 0.0), (4405, 0.0), (4406, 0.0), (4408, 0.0), (4410, 0.0), (4413, 0.0), (4414, 0.0), (4415, 0.0), (4417, 0.0), (4421, 0.0), (4424, 0.0), (4425, 0.0), (4433, 0.0), (4434, 0.0), (4437, 0.0), (4439, 0.0), (4447, 0.0), (4449, 0.0), (4451, 0.0), (4453, 0.0), (4454, 0.0), (4455, 0.0), (4457, 0.0), (4460, 0.0), (4463, 0.0), (4478, 0.0), (4480, 0.0), (4483, 0.0), (4485, 0.0), (4491, 0.0), (4493, 0.0), (4496, 0.0), (4498, 0.0), (4499, 0.0), (4500, 0.0), (4506, 0.0), (4508, 0.0), (4509, 0.0), (4519, 0.0), (4525, 0.0), (4526, 0.0), (4532, 0.0), (4539, 0.0), (4541, 0.0), (4542, 0.0), (4547, 0.0), (4549, 0.0), (4556, 0.0), (4558, 0.0), (4559, 0.0), (4560, 0.0), (4561, 0.0), (4562, 0.0), (4565, 0.0), (4568, 0.0), (4569, 0.0), (4570, 0.0), (4577, 0.0), (4578, 0.0), (4580, 0.0), (4592, 0.0), (4597, 0.0), (4599, 0.0), (4600, 0.0), (4609, 0.0), (4613, 0.0), (4615, 0.0), (4618, 0.0), (4622, 0.0), (4628, 0.0), (4631, 0.0), (4635, 0.0), (4644, 0.0), (4647, 0.0), (4648, 0.0), (4651, 0.0), (4654, 0.0), (4655, 0.0), (4662, 0.0), (4667, 0.0), (4671, 0.0), (4672, 0.0), (4675, 0.0), (4676, 0.0), (4681, 0.0), (4683, 0.0), (4688, 0.0), (4690, 0.0), (4700, 0.0), (4702, 0.0), (4711, 0.0), (4714, 0.0), (4716, 0.0), (4720, 0.0), (4725, 0.0), (4728, 0.0), (4730, 0.0), (4736, 0.0), (4737, 0.0), (4740, 0.0), (4741, 0.0), (4742, 0.0), (4745, 0.0), (4750, 0.0), (4751, 0.0), (4754, 0.0), (4755, 0.0), (4758, 0.0), (4759, 0.0)]\n"
          ]
        }
      ]
    },
    {
      "cell_type": "code",
      "source": [
        "#print the name of the similar movies based on their index\n",
        "print('Top 30 Movies suggested for you:\\n')\n",
        "i=1\n",
        "for movie in Sorted_Similarity_Movies:\n",
        "  index=movie[0]\n",
        "  title_from_index=df[df.index==index]['Movie_Title'].values[0]\n",
        "  if(i<31):\n",
        "    print(i,'_',title_from_index)\n",
        "    i+=1"
      ],
      "metadata": {
        "colab": {
          "base_uri": "https://localhost:8080/"
        },
        "id": "v5GMGmigJkYr",
        "outputId": "65a75a24-0e35-4a5c-b7dc-e0a2be855cda"
      },
      "execution_count": null,
      "outputs": [
        {
          "output_type": "stream",
          "name": "stdout",
          "text": [
            "Top 30 Movies suggested for you:\n",
            "\n",
            "1 _ Niagara\n",
            "2 _ Caravans\n",
            "3 _ Brokeback Mountain\n",
            "4 _ My Week with Marilyn\n",
            "5 _ Harry Brown\n",
            "6 _ The Curse of Downers Grove\n",
            "7 _ Night of the Living Dead\n",
            "8 _ Back to the Future\n",
            "9 _ The Juror\n",
            "10 _ The Kentucky Fried Movie\n",
            "11 _ Welcome to the Sticks\n",
            "12 _ Enough\n",
            "13 _ Some Like It Hot\n",
            "14 _ Alice Through the Looking Glass\n",
            "15 _ Eye for an Eye\n",
            "16 _ Superman III\n",
            "17 _ Duel in the Sun\n",
            "18 _ The Misfits\n",
            "19 _ Small Soldiers\n",
            "20 _ Beyond the Black Rainbow\n",
            "21 _ All That Jazz\n",
            "22 _ Camping Sauvage\n",
            "23 _ The Raid\n",
            "24 _ Savages\n",
            "25 _ World Trade Center\n",
            "26 _ Tora! Tora! Tora!\n",
            "27 _ Out of Time\n",
            "28 _ To Kill a Mockingbird\n",
            "29 _ The Other Woman\n",
            "30 _ The Dark Knight Rises\n"
          ]
        }
      ]
    },
    {
      "cell_type": "markdown",
      "source": [
        "**Top 10 Movie Recomendation System**"
      ],
      "metadata": {
        "id": "APR3jC1sKfjI"
      }
    },
    {
      "cell_type": "code",
      "source": [
        "Movie_Name=input('Enter your favorite Movie name')\n",
        "list_of_all_titles=df['Movie_Title'].tolist()\n",
        "Find_Close_Match=difflib.get_close_matches(Movie_Name,list_of_all_titles)\n",
        "Close_Match=Find_Close_Match[0]\n",
        "Index_of_Movie=df[df.Movie_Title==Close_Match]['Movie_ID'].values[0]\n",
        "Recomendation_Score=list(enumerate(similarity_Score[Index_of_Movie]))\n",
        "sorted_similar_movies=sorted(Recomendation_Score,key=lambda x:x[1],reverse=True)\n",
        "print('Top 10 Movie Suggested for you:\\n')\n",
        "i=1\n",
        "for movie in sorted_similar_movies:\n",
        "  index=movie[0]\n",
        "  title_from_index=df[df.Movie_ID==index]['Movie_Title'].values\n",
        "  if(i<11):\n",
        "    print(i,'.',title_from_index)\n",
        "    i+=1\n",
        "\n"
      ],
      "metadata": {
        "colab": {
          "base_uri": "https://localhost:8080/"
        },
        "id": "QREm7mwKKZGD",
        "outputId": "2d3c039a-e58a-404d-dc14-d5e8a133d874"
      },
      "execution_count": null,
      "outputs": [
        {
          "output_type": "stream",
          "name": "stdout",
          "text": [
            "Enter your favorite Movie nameAvatar\n",
            "Top 10 Movie Suggested for you:\n",
            "\n",
            "1 . ['Avatar']\n",
            "2 . ['The Girl on the Train']\n",
            "3 . ['Donnie Darko']\n",
            "4 . ['Act of Valor']\n",
            "5 . ['Precious']\n",
            "6 . ['The Opposite Sex']\n",
            "7 . ['Freaky Friday']\n",
            "8 . ['Run Lola Run']\n",
            "9 . ['Elizabethtown']\n",
            "10 . ['New Nightmare']\n"
          ]
        }
      ]
    }
  ]
}